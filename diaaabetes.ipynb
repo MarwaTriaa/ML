{
 "cells": [
  {
   "cell_type": "markdown",
   "metadata": {},
   "source": [
    "# Prediction on Diabetes Patient's Hospital Readmission\n",
    "\n",
    "![](https://www.docwirenews.com/wp-content/uploads/2019/05/readmissions.jpg)\n",
    "\n",
    "Problem Statement and Objective\n",
    "A hospital readmission is when a patient who is discharged from the hospital, gets re-admitted again within a certain period of time. Hospital readmission rates for certain conditions are now considered an indicator of hospital quality, and also affect the cost of care adversely. For this reason, Centers for Medicare & Medicaid Services established the Hospital Readmissions Reduction Program which aims to improve quality of care for patients and reduce health care spending by applying payment penalties to hospitals that have more than expected readmission rates for certain conditions. Although diabetes is not yet included in the penalty measures, the program is regularly adding new disease conditions to the list, now totaling 6 for FY2018. In 2011, American hospitals spent over $41 billion on diabetic patients who got readmitted within 30 days of discharge. Being able to determine factors that lead to higher readmission in such patients, and correspondingly being able to predict which patients will get readmitted can help hospitals save millions of dollars while improving quality of care. So, with that background in mind, we used a medical claims dataset (description below), to answer these questions:\n",
    "\n",
    "1. What factors are the strongest predictors of hospital readmission in diabetic patients?\n",
    "2. How well can we predict hospital readmission in this dataset with limited features?"
   ]
  },
  {
   "cell_type": "markdown",
   "metadata": {
    "_cell_guid": "79c7e3d0-c299-4dcb-8224-4455121ee9b0",
    "_kg_hide-input": true,
    "_uuid": "d629ff2d2480ee46fbb7e2d37f6b5fab8052498a",
    "collapsed": true
   },
   "source": [
    "# Data Set Description\n",
    "\n",
    "\n",
    "**VARIABLE NAMES**: DESCRIPTION\n",
    "* **Encounter ID**\tUnique identifier of an encounter\n",
    "* **Patient number**\tUnique identifier of a patient\n",
    "* **Race**\tValues: Caucasian, Asian, African American, Hispanic, and other\n",
    "* **Gender**\tValues: male, female, and unknown/invalid\n",
    "* **Age**\tGrouped in 10-year intervals: 0, 10), 10, 20), …, 90, 100)\n",
    "* **Weight**\tWeight in pounds\n",
    "* **Admission type**\tInteger identifier corresponding to 9 distinct values, for example, emergency, urgent, elective, newborn, and not available\n",
    "* **Discharge disposition**\tInteger identifier corresponding to 29 distinct values, for example, discharged to home, expired, and not available\n",
    "* **Admission source**\tInteger identifier corresponding to 21 distinct values, for example, physician referral, emergency room, and transfer from a hospital\n",
    "* **Time in hospital**\tInteger number of days between admission and discharge\n",
    "* **Payer code**\tInteger identifier corresponding to 23 distinct values, for example, Blue Cross/Blue Shield, Medicare, and self-pay Medical\n",
    "* **Medical specialty**\tInteger identifier of a specialty of the admitting physician, corresponding to 84 distinct values, for example, cardiology, internal medicine, family/general practice, and surgeon\n",
    "* **Number of lab procedures**\tNumber of lab tests performed during the encounter\n",
    "* **Number of procedures** Numeric\tNumber of procedures (other than lab tests) performed during the encounter\n",
    "* **Number of medications**\tNumber of distinct generic names administered during the encounter\n",
    "* **Number of outpatient visits** Number of outpatient visits of the patient in the year preceding the encounter\n",
    "* **Number of emergency visits**\tNumber of emergency visits of the patient in the year preceding the encounter\n",
    "* **Number of inpatient visits**\tNumber of inpatient visits of the patient in the year preceding the encounter\n",
    "* **Diagnosis 1**\tThe primary diagnosis (coded as first three digits of ICD9); 848 distinct values\n",
    "* **Diagnosis 2**\tSecondary diagnosis (coded as first three digits of ICD9); 923 distinct values\n",
    "* **Diagnosis 3** Additional secondary diagnosis (coded as first three digits of ICD9); 954 distinct values\n",
    "* **Number of diagnoses**\tNumber of diagnoses entered to the system 0%\n",
    "* **Glucose serum test result**\tIndicates the range of the result or if the test was not taken. Values: “>200,” “>300,” “normal,” and “none” if not measured\n",
    "* **A1c test result**\tIndicates the range of the result or if the test was not taken. Values: “>8” if the result was greater than 8%, “>7” if the result was greater than 7% but less than 8%, “normal” if the result was less than 7%, and “none” if not measured.\n",
    "* **Change of medications**\tIndicates if there was a change in diabetic medications (either dosage or generic name). Values: “change” and “no change”\n",
    "* **Diabetes medications**\tIndicates if there was any diabetic medication prescribed. Values: “yes” and “no”\n",
    "* 24 features for medications\tFor the generic names: **metformin, repaglinide, nateglinide, chlorpropamide, glimepiride, acetohexamide, glipizide, glyburide, tolbutamide, pioglitazone, rosiglitazone, acarbose, miglitol, troglitazone, tolazamide, examide, sitagliptin, insulin, glyburide-metformin, glipizide-metformin, glimepiride- pioglitazone, metformin-rosiglitazone, and metformin- pioglitazone**, the feature indicates whether the drug was prescribed or there was a change in the dosage. Values: “up” if the dosage was increased during the encounter, “down” if the dosage was decreased, “steady” if the dosage did not change, and “no” if the drug was not prescribed\n",
    "* **Readmitted**\tDays to inpatient readmission. Values: “<30” if the patient was readmitted in less than 30 days, “>30” if the patient was readmitted in more than 30 days, and “No” for no record of readmission\n",
    "\n",
    "\n",
    "\n",
    "\n",
    "\n",
    "\n",
    "\n",
    "\n"
   ]
  },
  {
   "cell_type": "markdown",
   "metadata": {
    "_uuid": "e8459f4e9e52473b4fe8824724a87798e1946e02"
   },
   "source": [
    "# Data Preparation & Exploration "
   ]
  },
  {
   "cell_type": "code",
   "execution_count": 2,
   "metadata": {
    "_uuid": "f159da396824602d8ae73fc5cb08f84987ce91f6"
   },
   "outputs": [],
   "source": [
    "#Loading libraries \n",
    "import pandas as pd\n",
    "import numpy as np\n",
    "import matplotlib.pyplot as plt\n",
    "import seaborn as sns"
   ]
  },
  {
   "cell_type": "code",
   "execution_count": 3,
   "metadata": {
    "_uuid": "d2d61c7050ae4bf21dd0c5e84949ed951483312d"
   },
   "outputs": [],
   "source": [
    "#loading Dataset\n",
    "df = pd.read_csv(\"diabetic_data.csv\")"
   ]
  },
  {
   "cell_type": "code",
   "execution_count": 4,
   "metadata": {
    "_uuid": "06c7f80de93a3640a4cdaafc392374cdaf3d4e23"
   },
   "outputs": [
    {
     "data": {
      "text/html": [
       "<div>\n",
       "<style scoped>\n",
       "    .dataframe tbody tr th:only-of-type {\n",
       "        vertical-align: middle;\n",
       "    }\n",
       "\n",
       "    .dataframe tbody tr th {\n",
       "        vertical-align: top;\n",
       "    }\n",
       "\n",
       "    .dataframe thead th {\n",
       "        text-align: right;\n",
       "    }\n",
       "</style>\n",
       "<table border=\"1\" class=\"dataframe\">\n",
       "  <thead>\n",
       "    <tr style=\"text-align: right;\">\n",
       "      <th></th>\n",
       "      <th>0</th>\n",
       "      <th>1</th>\n",
       "      <th>2</th>\n",
       "      <th>3</th>\n",
       "      <th>4</th>\n",
       "      <th>5</th>\n",
       "      <th>6</th>\n",
       "      <th>7</th>\n",
       "      <th>8</th>\n",
       "      <th>9</th>\n",
       "    </tr>\n",
       "  </thead>\n",
       "  <tbody>\n",
       "    <tr>\n",
       "      <th>encounter_id</th>\n",
       "      <td>2278392</td>\n",
       "      <td>149190</td>\n",
       "      <td>64410</td>\n",
       "      <td>500364</td>\n",
       "      <td>16680</td>\n",
       "      <td>35754</td>\n",
       "      <td>55842</td>\n",
       "      <td>63768</td>\n",
       "      <td>12522</td>\n",
       "      <td>15738</td>\n",
       "    </tr>\n",
       "    <tr>\n",
       "      <th>patient_nbr</th>\n",
       "      <td>8222157</td>\n",
       "      <td>55629189</td>\n",
       "      <td>86047875</td>\n",
       "      <td>82442376</td>\n",
       "      <td>42519267</td>\n",
       "      <td>82637451</td>\n",
       "      <td>84259809</td>\n",
       "      <td>114882984</td>\n",
       "      <td>48330783</td>\n",
       "      <td>63555939</td>\n",
       "    </tr>\n",
       "    <tr>\n",
       "      <th>race</th>\n",
       "      <td>Caucasian</td>\n",
       "      <td>Caucasian</td>\n",
       "      <td>AfricanAmerican</td>\n",
       "      <td>Caucasian</td>\n",
       "      <td>Caucasian</td>\n",
       "      <td>Caucasian</td>\n",
       "      <td>Caucasian</td>\n",
       "      <td>Caucasian</td>\n",
       "      <td>Caucasian</td>\n",
       "      <td>Caucasian</td>\n",
       "    </tr>\n",
       "    <tr>\n",
       "      <th>gender</th>\n",
       "      <td>Female</td>\n",
       "      <td>Female</td>\n",
       "      <td>Female</td>\n",
       "      <td>Male</td>\n",
       "      <td>Male</td>\n",
       "      <td>Male</td>\n",
       "      <td>Male</td>\n",
       "      <td>Male</td>\n",
       "      <td>Female</td>\n",
       "      <td>Female</td>\n",
       "    </tr>\n",
       "    <tr>\n",
       "      <th>age</th>\n",
       "      <td>[0-10)</td>\n",
       "      <td>[10-20)</td>\n",
       "      <td>[20-30)</td>\n",
       "      <td>[30-40)</td>\n",
       "      <td>[40-50)</td>\n",
       "      <td>[50-60)</td>\n",
       "      <td>[60-70)</td>\n",
       "      <td>[70-80)</td>\n",
       "      <td>[80-90)</td>\n",
       "      <td>[90-100)</td>\n",
       "    </tr>\n",
       "    <tr>\n",
       "      <th>weight</th>\n",
       "      <td>?</td>\n",
       "      <td>?</td>\n",
       "      <td>?</td>\n",
       "      <td>?</td>\n",
       "      <td>?</td>\n",
       "      <td>?</td>\n",
       "      <td>?</td>\n",
       "      <td>?</td>\n",
       "      <td>?</td>\n",
       "      <td>?</td>\n",
       "    </tr>\n",
       "    <tr>\n",
       "      <th>admission_type_id</th>\n",
       "      <td>6</td>\n",
       "      <td>1</td>\n",
       "      <td>1</td>\n",
       "      <td>1</td>\n",
       "      <td>1</td>\n",
       "      <td>2</td>\n",
       "      <td>3</td>\n",
       "      <td>1</td>\n",
       "      <td>2</td>\n",
       "      <td>3</td>\n",
       "    </tr>\n",
       "    <tr>\n",
       "      <th>discharge_disposition_id</th>\n",
       "      <td>25</td>\n",
       "      <td>1</td>\n",
       "      <td>1</td>\n",
       "      <td>1</td>\n",
       "      <td>1</td>\n",
       "      <td>1</td>\n",
       "      <td>1</td>\n",
       "      <td>1</td>\n",
       "      <td>1</td>\n",
       "      <td>3</td>\n",
       "    </tr>\n",
       "    <tr>\n",
       "      <th>admission_source_id</th>\n",
       "      <td>1</td>\n",
       "      <td>7</td>\n",
       "      <td>7</td>\n",
       "      <td>7</td>\n",
       "      <td>7</td>\n",
       "      <td>2</td>\n",
       "      <td>2</td>\n",
       "      <td>7</td>\n",
       "      <td>4</td>\n",
       "      <td>4</td>\n",
       "    </tr>\n",
       "    <tr>\n",
       "      <th>time_in_hospital</th>\n",
       "      <td>1</td>\n",
       "      <td>3</td>\n",
       "      <td>2</td>\n",
       "      <td>2</td>\n",
       "      <td>1</td>\n",
       "      <td>3</td>\n",
       "      <td>4</td>\n",
       "      <td>5</td>\n",
       "      <td>13</td>\n",
       "      <td>12</td>\n",
       "    </tr>\n",
       "    <tr>\n",
       "      <th>payer_code</th>\n",
       "      <td>?</td>\n",
       "      <td>?</td>\n",
       "      <td>?</td>\n",
       "      <td>?</td>\n",
       "      <td>?</td>\n",
       "      <td>?</td>\n",
       "      <td>?</td>\n",
       "      <td>?</td>\n",
       "      <td>?</td>\n",
       "      <td>?</td>\n",
       "    </tr>\n",
       "    <tr>\n",
       "      <th>medical_specialty</th>\n",
       "      <td>Pediatrics-Endocrinology</td>\n",
       "      <td>?</td>\n",
       "      <td>?</td>\n",
       "      <td>?</td>\n",
       "      <td>?</td>\n",
       "      <td>?</td>\n",
       "      <td>?</td>\n",
       "      <td>?</td>\n",
       "      <td>?</td>\n",
       "      <td>InternalMedicine</td>\n",
       "    </tr>\n",
       "    <tr>\n",
       "      <th>num_lab_procedures</th>\n",
       "      <td>41</td>\n",
       "      <td>59</td>\n",
       "      <td>11</td>\n",
       "      <td>44</td>\n",
       "      <td>51</td>\n",
       "      <td>31</td>\n",
       "      <td>70</td>\n",
       "      <td>73</td>\n",
       "      <td>68</td>\n",
       "      <td>33</td>\n",
       "    </tr>\n",
       "    <tr>\n",
       "      <th>num_procedures</th>\n",
       "      <td>0</td>\n",
       "      <td>0</td>\n",
       "      <td>5</td>\n",
       "      <td>1</td>\n",
       "      <td>0</td>\n",
       "      <td>6</td>\n",
       "      <td>1</td>\n",
       "      <td>0</td>\n",
       "      <td>2</td>\n",
       "      <td>3</td>\n",
       "    </tr>\n",
       "    <tr>\n",
       "      <th>num_medications</th>\n",
       "      <td>1</td>\n",
       "      <td>18</td>\n",
       "      <td>13</td>\n",
       "      <td>16</td>\n",
       "      <td>8</td>\n",
       "      <td>16</td>\n",
       "      <td>21</td>\n",
       "      <td>12</td>\n",
       "      <td>28</td>\n",
       "      <td>18</td>\n",
       "    </tr>\n",
       "    <tr>\n",
       "      <th>number_outpatient</th>\n",
       "      <td>0</td>\n",
       "      <td>0</td>\n",
       "      <td>2</td>\n",
       "      <td>0</td>\n",
       "      <td>0</td>\n",
       "      <td>0</td>\n",
       "      <td>0</td>\n",
       "      <td>0</td>\n",
       "      <td>0</td>\n",
       "      <td>0</td>\n",
       "    </tr>\n",
       "    <tr>\n",
       "      <th>number_emergency</th>\n",
       "      <td>0</td>\n",
       "      <td>0</td>\n",
       "      <td>0</td>\n",
       "      <td>0</td>\n",
       "      <td>0</td>\n",
       "      <td>0</td>\n",
       "      <td>0</td>\n",
       "      <td>0</td>\n",
       "      <td>0</td>\n",
       "      <td>0</td>\n",
       "    </tr>\n",
       "    <tr>\n",
       "      <th>number_inpatient</th>\n",
       "      <td>0</td>\n",
       "      <td>0</td>\n",
       "      <td>1</td>\n",
       "      <td>0</td>\n",
       "      <td>0</td>\n",
       "      <td>0</td>\n",
       "      <td>0</td>\n",
       "      <td>0</td>\n",
       "      <td>0</td>\n",
       "      <td>0</td>\n",
       "    </tr>\n",
       "    <tr>\n",
       "      <th>diag_1</th>\n",
       "      <td>250.83</td>\n",
       "      <td>276</td>\n",
       "      <td>648</td>\n",
       "      <td>8</td>\n",
       "      <td>197</td>\n",
       "      <td>414</td>\n",
       "      <td>414</td>\n",
       "      <td>428</td>\n",
       "      <td>398</td>\n",
       "      <td>434</td>\n",
       "    </tr>\n",
       "    <tr>\n",
       "      <th>diag_2</th>\n",
       "      <td>?</td>\n",
       "      <td>250.01</td>\n",
       "      <td>250</td>\n",
       "      <td>250.43</td>\n",
       "      <td>157</td>\n",
       "      <td>411</td>\n",
       "      <td>411</td>\n",
       "      <td>492</td>\n",
       "      <td>427</td>\n",
       "      <td>198</td>\n",
       "    </tr>\n",
       "    <tr>\n",
       "      <th>diag_3</th>\n",
       "      <td>?</td>\n",
       "      <td>255</td>\n",
       "      <td>V27</td>\n",
       "      <td>403</td>\n",
       "      <td>250</td>\n",
       "      <td>250</td>\n",
       "      <td>V45</td>\n",
       "      <td>250</td>\n",
       "      <td>38</td>\n",
       "      <td>486</td>\n",
       "    </tr>\n",
       "    <tr>\n",
       "      <th>number_diagnoses</th>\n",
       "      <td>1</td>\n",
       "      <td>9</td>\n",
       "      <td>6</td>\n",
       "      <td>7</td>\n",
       "      <td>5</td>\n",
       "      <td>9</td>\n",
       "      <td>7</td>\n",
       "      <td>8</td>\n",
       "      <td>8</td>\n",
       "      <td>8</td>\n",
       "    </tr>\n",
       "    <tr>\n",
       "      <th>max_glu_serum</th>\n",
       "      <td>None</td>\n",
       "      <td>None</td>\n",
       "      <td>None</td>\n",
       "      <td>None</td>\n",
       "      <td>None</td>\n",
       "      <td>None</td>\n",
       "      <td>None</td>\n",
       "      <td>None</td>\n",
       "      <td>None</td>\n",
       "      <td>None</td>\n",
       "    </tr>\n",
       "    <tr>\n",
       "      <th>A1Cresult</th>\n",
       "      <td>None</td>\n",
       "      <td>None</td>\n",
       "      <td>None</td>\n",
       "      <td>None</td>\n",
       "      <td>None</td>\n",
       "      <td>None</td>\n",
       "      <td>None</td>\n",
       "      <td>None</td>\n",
       "      <td>None</td>\n",
       "      <td>None</td>\n",
       "    </tr>\n",
       "    <tr>\n",
       "      <th>metformin</th>\n",
       "      <td>No</td>\n",
       "      <td>No</td>\n",
       "      <td>No</td>\n",
       "      <td>No</td>\n",
       "      <td>No</td>\n",
       "      <td>No</td>\n",
       "      <td>Steady</td>\n",
       "      <td>No</td>\n",
       "      <td>No</td>\n",
       "      <td>No</td>\n",
       "    </tr>\n",
       "    <tr>\n",
       "      <th>repaglinide</th>\n",
       "      <td>No</td>\n",
       "      <td>No</td>\n",
       "      <td>No</td>\n",
       "      <td>No</td>\n",
       "      <td>No</td>\n",
       "      <td>No</td>\n",
       "      <td>No</td>\n",
       "      <td>No</td>\n",
       "      <td>No</td>\n",
       "      <td>No</td>\n",
       "    </tr>\n",
       "    <tr>\n",
       "      <th>nateglinide</th>\n",
       "      <td>No</td>\n",
       "      <td>No</td>\n",
       "      <td>No</td>\n",
       "      <td>No</td>\n",
       "      <td>No</td>\n",
       "      <td>No</td>\n",
       "      <td>No</td>\n",
       "      <td>No</td>\n",
       "      <td>No</td>\n",
       "      <td>No</td>\n",
       "    </tr>\n",
       "    <tr>\n",
       "      <th>chlorpropamide</th>\n",
       "      <td>No</td>\n",
       "      <td>No</td>\n",
       "      <td>No</td>\n",
       "      <td>No</td>\n",
       "      <td>No</td>\n",
       "      <td>No</td>\n",
       "      <td>No</td>\n",
       "      <td>No</td>\n",
       "      <td>No</td>\n",
       "      <td>No</td>\n",
       "    </tr>\n",
       "    <tr>\n",
       "      <th>glimepiride</th>\n",
       "      <td>No</td>\n",
       "      <td>No</td>\n",
       "      <td>No</td>\n",
       "      <td>No</td>\n",
       "      <td>No</td>\n",
       "      <td>No</td>\n",
       "      <td>Steady</td>\n",
       "      <td>No</td>\n",
       "      <td>No</td>\n",
       "      <td>No</td>\n",
       "    </tr>\n",
       "    <tr>\n",
       "      <th>acetohexamide</th>\n",
       "      <td>No</td>\n",
       "      <td>No</td>\n",
       "      <td>No</td>\n",
       "      <td>No</td>\n",
       "      <td>No</td>\n",
       "      <td>No</td>\n",
       "      <td>No</td>\n",
       "      <td>No</td>\n",
       "      <td>No</td>\n",
       "      <td>No</td>\n",
       "    </tr>\n",
       "    <tr>\n",
       "      <th>glipizide</th>\n",
       "      <td>No</td>\n",
       "      <td>No</td>\n",
       "      <td>Steady</td>\n",
       "      <td>No</td>\n",
       "      <td>Steady</td>\n",
       "      <td>No</td>\n",
       "      <td>No</td>\n",
       "      <td>No</td>\n",
       "      <td>Steady</td>\n",
       "      <td>No</td>\n",
       "    </tr>\n",
       "    <tr>\n",
       "      <th>glyburide</th>\n",
       "      <td>No</td>\n",
       "      <td>No</td>\n",
       "      <td>No</td>\n",
       "      <td>No</td>\n",
       "      <td>No</td>\n",
       "      <td>No</td>\n",
       "      <td>No</td>\n",
       "      <td>Steady</td>\n",
       "      <td>No</td>\n",
       "      <td>No</td>\n",
       "    </tr>\n",
       "    <tr>\n",
       "      <th>tolbutamide</th>\n",
       "      <td>No</td>\n",
       "      <td>No</td>\n",
       "      <td>No</td>\n",
       "      <td>No</td>\n",
       "      <td>No</td>\n",
       "      <td>No</td>\n",
       "      <td>No</td>\n",
       "      <td>No</td>\n",
       "      <td>No</td>\n",
       "      <td>No</td>\n",
       "    </tr>\n",
       "    <tr>\n",
       "      <th>pioglitazone</th>\n",
       "      <td>No</td>\n",
       "      <td>No</td>\n",
       "      <td>No</td>\n",
       "      <td>No</td>\n",
       "      <td>No</td>\n",
       "      <td>No</td>\n",
       "      <td>No</td>\n",
       "      <td>No</td>\n",
       "      <td>No</td>\n",
       "      <td>No</td>\n",
       "    </tr>\n",
       "    <tr>\n",
       "      <th>rosiglitazone</th>\n",
       "      <td>No</td>\n",
       "      <td>No</td>\n",
       "      <td>No</td>\n",
       "      <td>No</td>\n",
       "      <td>No</td>\n",
       "      <td>No</td>\n",
       "      <td>No</td>\n",
       "      <td>No</td>\n",
       "      <td>No</td>\n",
       "      <td>Steady</td>\n",
       "    </tr>\n",
       "    <tr>\n",
       "      <th>acarbose</th>\n",
       "      <td>No</td>\n",
       "      <td>No</td>\n",
       "      <td>No</td>\n",
       "      <td>No</td>\n",
       "      <td>No</td>\n",
       "      <td>No</td>\n",
       "      <td>No</td>\n",
       "      <td>No</td>\n",
       "      <td>No</td>\n",
       "      <td>No</td>\n",
       "    </tr>\n",
       "    <tr>\n",
       "      <th>miglitol</th>\n",
       "      <td>No</td>\n",
       "      <td>No</td>\n",
       "      <td>No</td>\n",
       "      <td>No</td>\n",
       "      <td>No</td>\n",
       "      <td>No</td>\n",
       "      <td>No</td>\n",
       "      <td>No</td>\n",
       "      <td>No</td>\n",
       "      <td>No</td>\n",
       "    </tr>\n",
       "    <tr>\n",
       "      <th>troglitazone</th>\n",
       "      <td>No</td>\n",
       "      <td>No</td>\n",
       "      <td>No</td>\n",
       "      <td>No</td>\n",
       "      <td>No</td>\n",
       "      <td>No</td>\n",
       "      <td>No</td>\n",
       "      <td>No</td>\n",
       "      <td>No</td>\n",
       "      <td>No</td>\n",
       "    </tr>\n",
       "    <tr>\n",
       "      <th>tolazamide</th>\n",
       "      <td>No</td>\n",
       "      <td>No</td>\n",
       "      <td>No</td>\n",
       "      <td>No</td>\n",
       "      <td>No</td>\n",
       "      <td>No</td>\n",
       "      <td>No</td>\n",
       "      <td>No</td>\n",
       "      <td>No</td>\n",
       "      <td>No</td>\n",
       "    </tr>\n",
       "    <tr>\n",
       "      <th>examide</th>\n",
       "      <td>No</td>\n",
       "      <td>No</td>\n",
       "      <td>No</td>\n",
       "      <td>No</td>\n",
       "      <td>No</td>\n",
       "      <td>No</td>\n",
       "      <td>No</td>\n",
       "      <td>No</td>\n",
       "      <td>No</td>\n",
       "      <td>No</td>\n",
       "    </tr>\n",
       "    <tr>\n",
       "      <th>citoglipton</th>\n",
       "      <td>No</td>\n",
       "      <td>No</td>\n",
       "      <td>No</td>\n",
       "      <td>No</td>\n",
       "      <td>No</td>\n",
       "      <td>No</td>\n",
       "      <td>No</td>\n",
       "      <td>No</td>\n",
       "      <td>No</td>\n",
       "      <td>No</td>\n",
       "    </tr>\n",
       "    <tr>\n",
       "      <th>insulin</th>\n",
       "      <td>No</td>\n",
       "      <td>Up</td>\n",
       "      <td>No</td>\n",
       "      <td>Up</td>\n",
       "      <td>Steady</td>\n",
       "      <td>Steady</td>\n",
       "      <td>Steady</td>\n",
       "      <td>No</td>\n",
       "      <td>Steady</td>\n",
       "      <td>Steady</td>\n",
       "    </tr>\n",
       "    <tr>\n",
       "      <th>glyburide-metformin</th>\n",
       "      <td>No</td>\n",
       "      <td>No</td>\n",
       "      <td>No</td>\n",
       "      <td>No</td>\n",
       "      <td>No</td>\n",
       "      <td>No</td>\n",
       "      <td>No</td>\n",
       "      <td>No</td>\n",
       "      <td>No</td>\n",
       "      <td>No</td>\n",
       "    </tr>\n",
       "    <tr>\n",
       "      <th>glipizide-metformin</th>\n",
       "      <td>No</td>\n",
       "      <td>No</td>\n",
       "      <td>No</td>\n",
       "      <td>No</td>\n",
       "      <td>No</td>\n",
       "      <td>No</td>\n",
       "      <td>No</td>\n",
       "      <td>No</td>\n",
       "      <td>No</td>\n",
       "      <td>No</td>\n",
       "    </tr>\n",
       "    <tr>\n",
       "      <th>glimepiride-pioglitazone</th>\n",
       "      <td>No</td>\n",
       "      <td>No</td>\n",
       "      <td>No</td>\n",
       "      <td>No</td>\n",
       "      <td>No</td>\n",
       "      <td>No</td>\n",
       "      <td>No</td>\n",
       "      <td>No</td>\n",
       "      <td>No</td>\n",
       "      <td>No</td>\n",
       "    </tr>\n",
       "    <tr>\n",
       "      <th>metformin-rosiglitazone</th>\n",
       "      <td>No</td>\n",
       "      <td>No</td>\n",
       "      <td>No</td>\n",
       "      <td>No</td>\n",
       "      <td>No</td>\n",
       "      <td>No</td>\n",
       "      <td>No</td>\n",
       "      <td>No</td>\n",
       "      <td>No</td>\n",
       "      <td>No</td>\n",
       "    </tr>\n",
       "    <tr>\n",
       "      <th>metformin-pioglitazone</th>\n",
       "      <td>No</td>\n",
       "      <td>No</td>\n",
       "      <td>No</td>\n",
       "      <td>No</td>\n",
       "      <td>No</td>\n",
       "      <td>No</td>\n",
       "      <td>No</td>\n",
       "      <td>No</td>\n",
       "      <td>No</td>\n",
       "      <td>No</td>\n",
       "    </tr>\n",
       "    <tr>\n",
       "      <th>change</th>\n",
       "      <td>No</td>\n",
       "      <td>Ch</td>\n",
       "      <td>No</td>\n",
       "      <td>Ch</td>\n",
       "      <td>Ch</td>\n",
       "      <td>No</td>\n",
       "      <td>Ch</td>\n",
       "      <td>No</td>\n",
       "      <td>Ch</td>\n",
       "      <td>Ch</td>\n",
       "    </tr>\n",
       "    <tr>\n",
       "      <th>diabetesMed</th>\n",
       "      <td>No</td>\n",
       "      <td>Yes</td>\n",
       "      <td>Yes</td>\n",
       "      <td>Yes</td>\n",
       "      <td>Yes</td>\n",
       "      <td>Yes</td>\n",
       "      <td>Yes</td>\n",
       "      <td>Yes</td>\n",
       "      <td>Yes</td>\n",
       "      <td>Yes</td>\n",
       "    </tr>\n",
       "    <tr>\n",
       "      <th>readmitted</th>\n",
       "      <td>NO</td>\n",
       "      <td>&gt;30</td>\n",
       "      <td>NO</td>\n",
       "      <td>NO</td>\n",
       "      <td>NO</td>\n",
       "      <td>&gt;30</td>\n",
       "      <td>NO</td>\n",
       "      <td>&gt;30</td>\n",
       "      <td>NO</td>\n",
       "      <td>NO</td>\n",
       "    </tr>\n",
       "  </tbody>\n",
       "</table>\n",
       "</div>"
      ],
      "text/plain": [
       "                                                 0          1  \\\n",
       "encounter_id                               2278392     149190   \n",
       "patient_nbr                                8222157   55629189   \n",
       "race                                     Caucasian  Caucasian   \n",
       "gender                                      Female     Female   \n",
       "age                                         [0-10)    [10-20)   \n",
       "weight                                           ?          ?   \n",
       "admission_type_id                                6          1   \n",
       "discharge_disposition_id                        25          1   \n",
       "admission_source_id                              1          7   \n",
       "time_in_hospital                                 1          3   \n",
       "payer_code                                       ?          ?   \n",
       "medical_specialty         Pediatrics-Endocrinology          ?   \n",
       "num_lab_procedures                              41         59   \n",
       "num_procedures                                   0          0   \n",
       "num_medications                                  1         18   \n",
       "number_outpatient                                0          0   \n",
       "number_emergency                                 0          0   \n",
       "number_inpatient                                 0          0   \n",
       "diag_1                                      250.83        276   \n",
       "diag_2                                           ?     250.01   \n",
       "diag_3                                           ?        255   \n",
       "number_diagnoses                                 1          9   \n",
       "max_glu_serum                                 None       None   \n",
       "A1Cresult                                     None       None   \n",
       "metformin                                       No         No   \n",
       "repaglinide                                     No         No   \n",
       "nateglinide                                     No         No   \n",
       "chlorpropamide                                  No         No   \n",
       "glimepiride                                     No         No   \n",
       "acetohexamide                                   No         No   \n",
       "glipizide                                       No         No   \n",
       "glyburide                                       No         No   \n",
       "tolbutamide                                     No         No   \n",
       "pioglitazone                                    No         No   \n",
       "rosiglitazone                                   No         No   \n",
       "acarbose                                        No         No   \n",
       "miglitol                                        No         No   \n",
       "troglitazone                                    No         No   \n",
       "tolazamide                                      No         No   \n",
       "examide                                         No         No   \n",
       "citoglipton                                     No         No   \n",
       "insulin                                         No         Up   \n",
       "glyburide-metformin                             No         No   \n",
       "glipizide-metformin                             No         No   \n",
       "glimepiride-pioglitazone                        No         No   \n",
       "metformin-rosiglitazone                         No         No   \n",
       "metformin-pioglitazone                          No         No   \n",
       "change                                          No         Ch   \n",
       "diabetesMed                                     No        Yes   \n",
       "readmitted                                      NO        >30   \n",
       "\n",
       "                                        2          3          4          5  \\\n",
       "encounter_id                        64410     500364      16680      35754   \n",
       "patient_nbr                      86047875   82442376   42519267   82637451   \n",
       "race                      AfricanAmerican  Caucasian  Caucasian  Caucasian   \n",
       "gender                             Female       Male       Male       Male   \n",
       "age                               [20-30)    [30-40)    [40-50)    [50-60)   \n",
       "weight                                  ?          ?          ?          ?   \n",
       "admission_type_id                       1          1          1          2   \n",
       "discharge_disposition_id                1          1          1          1   \n",
       "admission_source_id                     7          7          7          2   \n",
       "time_in_hospital                        2          2          1          3   \n",
       "payer_code                              ?          ?          ?          ?   \n",
       "medical_specialty                       ?          ?          ?          ?   \n",
       "num_lab_procedures                     11         44         51         31   \n",
       "num_procedures                          5          1          0          6   \n",
       "num_medications                        13         16          8         16   \n",
       "number_outpatient                       2          0          0          0   \n",
       "number_emergency                        0          0          0          0   \n",
       "number_inpatient                        1          0          0          0   \n",
       "diag_1                                648          8        197        414   \n",
       "diag_2                                250     250.43        157        411   \n",
       "diag_3                                V27        403        250        250   \n",
       "number_diagnoses                        6          7          5          9   \n",
       "max_glu_serum                        None       None       None       None   \n",
       "A1Cresult                            None       None       None       None   \n",
       "metformin                              No         No         No         No   \n",
       "repaglinide                            No         No         No         No   \n",
       "nateglinide                            No         No         No         No   \n",
       "chlorpropamide                         No         No         No         No   \n",
       "glimepiride                            No         No         No         No   \n",
       "acetohexamide                          No         No         No         No   \n",
       "glipizide                          Steady         No     Steady         No   \n",
       "glyburide                              No         No         No         No   \n",
       "tolbutamide                            No         No         No         No   \n",
       "pioglitazone                           No         No         No         No   \n",
       "rosiglitazone                          No         No         No         No   \n",
       "acarbose                               No         No         No         No   \n",
       "miglitol                               No         No         No         No   \n",
       "troglitazone                           No         No         No         No   \n",
       "tolazamide                             No         No         No         No   \n",
       "examide                                No         No         No         No   \n",
       "citoglipton                            No         No         No         No   \n",
       "insulin                                No         Up     Steady     Steady   \n",
       "glyburide-metformin                    No         No         No         No   \n",
       "glipizide-metformin                    No         No         No         No   \n",
       "glimepiride-pioglitazone               No         No         No         No   \n",
       "metformin-rosiglitazone                No         No         No         No   \n",
       "metformin-pioglitazone                 No         No         No         No   \n",
       "change                                 No         Ch         Ch         No   \n",
       "diabetesMed                           Yes        Yes        Yes        Yes   \n",
       "readmitted                             NO         NO         NO        >30   \n",
       "\n",
       "                                  6          7          8                 9  \n",
       "encounter_id                  55842      63768      12522             15738  \n",
       "patient_nbr                84259809  114882984   48330783          63555939  \n",
       "race                      Caucasian  Caucasian  Caucasian         Caucasian  \n",
       "gender                         Male       Male     Female            Female  \n",
       "age                         [60-70)    [70-80)    [80-90)          [90-100)  \n",
       "weight                            ?          ?          ?                 ?  \n",
       "admission_type_id                 3          1          2                 3  \n",
       "discharge_disposition_id          1          1          1                 3  \n",
       "admission_source_id               2          7          4                 4  \n",
       "time_in_hospital                  4          5         13                12  \n",
       "payer_code                        ?          ?          ?                 ?  \n",
       "medical_specialty                 ?          ?          ?  InternalMedicine  \n",
       "num_lab_procedures               70         73         68                33  \n",
       "num_procedures                    1          0          2                 3  \n",
       "num_medications                  21         12         28                18  \n",
       "number_outpatient                 0          0          0                 0  \n",
       "number_emergency                  0          0          0                 0  \n",
       "number_inpatient                  0          0          0                 0  \n",
       "diag_1                          414        428        398               434  \n",
       "diag_2                          411        492        427               198  \n",
       "diag_3                          V45        250         38               486  \n",
       "number_diagnoses                  7          8          8                 8  \n",
       "max_glu_serum                  None       None       None              None  \n",
       "A1Cresult                      None       None       None              None  \n",
       "metformin                    Steady         No         No                No  \n",
       "repaglinide                      No         No         No                No  \n",
       "nateglinide                      No         No         No                No  \n",
       "chlorpropamide                   No         No         No                No  \n",
       "glimepiride                  Steady         No         No                No  \n",
       "acetohexamide                    No         No         No                No  \n",
       "glipizide                        No         No     Steady                No  \n",
       "glyburide                        No     Steady         No                No  \n",
       "tolbutamide                      No         No         No                No  \n",
       "pioglitazone                     No         No         No                No  \n",
       "rosiglitazone                    No         No         No            Steady  \n",
       "acarbose                         No         No         No                No  \n",
       "miglitol                         No         No         No                No  \n",
       "troglitazone                     No         No         No                No  \n",
       "tolazamide                       No         No         No                No  \n",
       "examide                          No         No         No                No  \n",
       "citoglipton                      No         No         No                No  \n",
       "insulin                      Steady         No     Steady            Steady  \n",
       "glyburide-metformin              No         No         No                No  \n",
       "glipizide-metformin              No         No         No                No  \n",
       "glimepiride-pioglitazone         No         No         No                No  \n",
       "metformin-rosiglitazone          No         No         No                No  \n",
       "metformin-pioglitazone           No         No         No                No  \n",
       "change                           Ch         No         Ch                Ch  \n",
       "diabetesMed                     Yes        Yes        Yes               Yes  \n",
       "readmitted                       NO        >30         NO                NO  "
      ]
     },
     "execution_count": 4,
     "metadata": {},
     "output_type": "execute_result"
    }
   ],
   "source": [
    "#displaying first 10 rows of data\n",
    "df.head(10).T"
   ]
  },
  {
   "cell_type": "code",
   "execution_count": 5,
   "metadata": {
    "_uuid": "3bdb38381d0dfc06aab75ff81c0dc59287ce470f"
   },
   "outputs": [
    {
     "data": {
      "text/plain": [
       "(101766, 50)"
      ]
     },
     "execution_count": 5,
     "metadata": {},
     "output_type": "execute_result"
    }
   ],
   "source": [
    "#checking shape of the dataset\n",
    "df.shape\n"
   ]
  },
  {
   "cell_type": "code",
   "execution_count": 6,
   "metadata": {
    "_uuid": "169448129042f3eba5d3d406bf84f04a11a722d3"
   },
   "outputs": [
    {
     "data": {
      "text/plain": [
       "encounter_id                 int64\n",
       "patient_nbr                  int64\n",
       "race                        object\n",
       "gender                      object\n",
       "age                         object\n",
       "weight                      object\n",
       "admission_type_id            int64\n",
       "discharge_disposition_id     int64\n",
       "admission_source_id          int64\n",
       "time_in_hospital             int64\n",
       "payer_code                  object\n",
       "medical_specialty           object\n",
       "num_lab_procedures           int64\n",
       "num_procedures               int64\n",
       "num_medications              int64\n",
       "number_outpatient            int64\n",
       "number_emergency             int64\n",
       "number_inpatient             int64\n",
       "diag_1                      object\n",
       "diag_2                      object\n",
       "diag_3                      object\n",
       "number_diagnoses             int64\n",
       "max_glu_serum               object\n",
       "A1Cresult                   object\n",
       "metformin                   object\n",
       "repaglinide                 object\n",
       "nateglinide                 object\n",
       "chlorpropamide              object\n",
       "glimepiride                 object\n",
       "acetohexamide               object\n",
       "glipizide                   object\n",
       "glyburide                   object\n",
       "tolbutamide                 object\n",
       "pioglitazone                object\n",
       "rosiglitazone               object\n",
       "acarbose                    object\n",
       "miglitol                    object\n",
       "troglitazone                object\n",
       "tolazamide                  object\n",
       "examide                     object\n",
       "citoglipton                 object\n",
       "insulin                     object\n",
       "glyburide-metformin         object\n",
       "glipizide-metformin         object\n",
       "glimepiride-pioglitazone    object\n",
       "metformin-rosiglitazone     object\n",
       "metformin-pioglitazone      object\n",
       "change                      object\n",
       "diabetesMed                 object\n",
       "readmitted                  object\n",
       "dtype: object"
      ]
     },
     "execution_count": 6,
     "metadata": {},
     "output_type": "execute_result"
    }
   ],
   "source": [
    "#Checking data types of each variable\n",
    "df.dtypes"
   ]
  },
  {
   "cell_type": "code",
   "execution_count": 7,
   "metadata": {
    "_uuid": "fda696aba45c9a0638e4dcf95c292aeba37f0f14"
   },
   "outputs": [
    {
     "name": "stdout",
     "output_type": "stream",
     "text": [
      "race 2273\n",
      "gender 0\n",
      "age 0\n",
      "weight 98569\n",
      "payer_code 40256\n",
      "medical_specialty 49949\n",
      "diag_1 21\n",
      "diag_2 358\n",
      "diag_3 1423\n",
      "max_glu_serum 0\n",
      "A1Cresult 0\n",
      "metformin 0\n",
      "repaglinide 0\n",
      "nateglinide 0\n",
      "chlorpropamide 0\n",
      "glimepiride 0\n",
      "acetohexamide 0\n",
      "glipizide 0\n",
      "glyburide 0\n",
      "tolbutamide 0\n",
      "pioglitazone 0\n",
      "rosiglitazone 0\n",
      "acarbose 0\n",
      "miglitol 0\n",
      "troglitazone 0\n",
      "tolazamide 0\n",
      "examide 0\n",
      "citoglipton 0\n",
      "insulin 0\n",
      "glyburide-metformin 0\n",
      "glipizide-metformin 0\n",
      "glimepiride-pioglitazone 0\n",
      "metformin-rosiglitazone 0\n",
      "metformin-pioglitazone 0\n",
      "change 0\n",
      "diabetesMed 0\n",
      "readmitted 0\n"
     ]
    }
   ],
   "source": [
    "#Checking for missing values in dataset\n",
    "#In the dataset missing values are represented as '?' sign\n",
    "for col in df.columns:\n",
    "    if df[col].dtype == object:\n",
    "         print(col,df[col][df[col] == '?'].count())"
   ]
  },
  {
   "cell_type": "code",
   "execution_count": 8,
   "metadata": {
    "_uuid": "d048d16f638808017b8f95345920cdcec6dc9ff5"
   },
   "outputs": [
    {
     "name": "stdout",
     "output_type": "stream",
     "text": [
      "gender 3\n"
     ]
    }
   ],
   "source": [
    "# gender was coded differently so we use a custom count for this one            \n",
    "print('gender', df['gender'][df['gender'] == 'Unknown/Invalid'].count())            "
   ]
  },
  {
   "cell_type": "markdown",
   "metadata": {
    "_uuid": "6e22d1a4d0030454d23ae88722b3030dcbb0b540"
   },
   "source": [
    "## Dealing with Missing Values\n",
    "Variable weight contains approximate 98% of the missing values so there is no significance in filling those missing values so we decided to drop these variables. Variable Payer code and medical specialty contains approximate 40% missing values so we also dropped these variables. Variables race, diag_1, diag_2, diag_3 and gender contains very less missing values as compared to other attributes which we dropped so for these attributes we also decided to drop those where missing values contains."
   ]
  },
  {
   "cell_type": "code",
   "execution_count": 9,
   "metadata": {
    "_uuid": "6edaf833116f062e8b729403b2f1bc871fa7c3ff"
   },
   "outputs": [],
   "source": [
    "#dropping columns with large number of missing values\n",
    "df = df.drop(['weight','payer_code','medical_specialty'], axis = 1)\n"
   ]
  },
  {
   "cell_type": "code",
   "execution_count": 10,
   "metadata": {
    "_uuid": "e7934d84f6119a0d5e524b8d8250a143f6de87bc"
   },
   "outputs": [],
   "source": [
    "drop_Idx = set(df[(df['diag_1'] == '?') & (df['diag_2'] == '?') & (df['diag_3'] == '?')].index)\n",
    "\n",
    "drop_Idx = drop_Idx.union(set(df['diag_1'][df['diag_1'] == '?'].index))\n",
    "drop_Idx = drop_Idx.union(set(df['diag_2'][df['diag_2'] == '?'].index))\n",
    "drop_Idx = drop_Idx.union(set(df['diag_3'][df['diag_3'] == '?'].index))\n",
    "drop_Idx = drop_Idx.union(set(df['race'][df['race'] == '?'].index))\n",
    "\n",
    "drop_Idx = drop_Idx.union(set(df[df['discharge_disposition_id'] == 11].index))\n",
    "drop_Idx = drop_Idx.union(set(df['gender'][df['gender'] == 'Unknown/Invalid'].index))\n",
    "new_Idx = list(set(df.index) - set(drop_Idx))\n",
    "df = df.iloc[new_Idx]"
   ]
  },
  {
   "cell_type": "markdown",
   "metadata": {
    "_uuid": "930d7a144498a9fabd43d9de775dcd30b76b70c5"
   },
   "source": [
    "variables (drugs named citoglipton and examide), all records have the same value. So essentially these cannot provide any interpretive or discriminatory information for predicting readmission so we decided to drop these two variables\n"
   ]
  },
  {
   "cell_type": "code",
   "execution_count": 11,
   "metadata": {
    "_uuid": "c61817d428256fe7dbc6fc4268585a54fc3d5463"
   },
   "outputs": [],
   "source": [
    "df = df.drop(['citoglipton', 'examide'], axis = 1)"
   ]
  },
  {
   "cell_type": "code",
   "execution_count": 12,
   "metadata": {
    "_uuid": "92231506c0a8f53dddc12d4065db0329ac538a5b"
   },
   "outputs": [
    {
     "name": "stdout",
     "output_type": "stream",
     "text": [
      "race 0\n",
      "gender 0\n",
      "age 0\n",
      "diag_1 0\n",
      "diag_2 0\n",
      "diag_3 0\n",
      "max_glu_serum 0\n",
      "A1Cresult 0\n",
      "metformin 0\n",
      "repaglinide 0\n",
      "nateglinide 0\n",
      "chlorpropamide 0\n",
      "glimepiride 0\n",
      "acetohexamide 0\n",
      "glipizide 0\n",
      "glyburide 0\n",
      "tolbutamide 0\n",
      "pioglitazone 0\n",
      "rosiglitazone 0\n",
      "acarbose 0\n",
      "miglitol 0\n",
      "troglitazone 0\n",
      "tolazamide 0\n",
      "insulin 0\n",
      "glyburide-metformin 0\n",
      "glipizide-metformin 0\n",
      "glimepiride-pioglitazone 0\n",
      "metformin-rosiglitazone 0\n",
      "metformin-pioglitazone 0\n",
      "change 0\n",
      "diabetesMed 0\n",
      "readmitted 0\n",
      "gender 0\n"
     ]
    }
   ],
   "source": [
    "#Checking for missing values in the data\n",
    "for col in df.columns:\n",
    "    if df[col].dtype == object:\n",
    "         print(col,df[col][df[col] == '?'].count())\n",
    "            \n",
    "print('gender', df['gender'][df['gender'] == 'Unknown/Invalid'].count())   "
   ]
  },
  {
   "cell_type": "markdown",
   "metadata": {},
   "source": [
    "## Feature Engineering"
   ]
  },
  {
   "cell_type": "markdown",
   "metadata": {},
   "source": [
    "This is highly subjective, and partly depends on a knowledge of health care services, and making sense of the potential relationships between features. There are perhaps thousands of ways to try here. We tried some...\n",
    "\n",
    "* Service utilization: The data contains variables for number of inpatient (admissions), emergency room visits and outpatient visits for a given patient in the previous one year. These are (crude) measures of how much hospital/clinic services a person has used in the past year. We added these three to create a new variable called service utilization (see figure below). The idea was to see which version gives us better results. Granted, we did not apply any special weighting to the three ingredients of service utilization but we wanted to try something simple at this stage.\n",
    "\n"
   ]
  },
  {
   "cell_type": "code",
   "execution_count": 13,
   "metadata": {},
   "outputs": [],
   "source": [
    "df['service_utilization'] = df['number_outpatient'] + df['number_emergency'] + df['number_inpatient']"
   ]
  },
  {
   "cell_type": "markdown",
   "metadata": {},
   "source": [
    "* Number of medication changes: The dataset contains 23 features for 23 drugs (or combos) which indicate for each of these, whether a change in that medication was made or not during the current hospital stay of patient. Medication change for diabetics upon admission has been shown by previous research to be associated with lower readmission rates. We decided to count how many changes were made in total for each patient, and declared that a new feature. The reasoning here was to both simplify the model and possibly discover a relationship with number of changes regardless of which drug was changed."
   ]
  },
  {
   "cell_type": "code",
   "execution_count": 14,
   "metadata": {},
   "outputs": [
    {
     "data": {
      "text/plain": [
       "0    70142\n",
       "1    24922\n",
       "2     1271\n",
       "3      106\n",
       "4        5\n",
       "Name: numchange, dtype: int64"
      ]
     },
     "execution_count": 14,
     "metadata": {},
     "output_type": "execute_result"
    }
   ],
   "source": [
    "keys = ['metformin', 'repaglinide', 'nateglinide', 'chlorpropamide', 'glimepiride', 'glipizide', 'glyburide', 'pioglitazone', 'rosiglitazone', 'acarbose', 'miglitol', 'insulin', 'glyburide-metformin', 'tolazamide', 'metformin-pioglitazone','metformin-rosiglitazone', 'glimepiride-pioglitazone', 'glipizide-metformin', 'troglitazone', 'tolbutamide', 'acetohexamide']\n",
    "for col in keys:\n",
    "    colname = str(col) + 'temp'\n",
    "    df[colname] = df[col].apply(lambda x: 0 if (x == 'No' or x == 'Steady') else 1)\n",
    "df['numchange'] = 0\n",
    "for col in keys:\n",
    "    colname = str(col) + 'temp'\n",
    "    df['numchange'] = df['numchange'] + df[colname]\n",
    "    del df[colname]\n",
    "    \n",
    "df['numchange'].value_counts()  "
   ]
  },
  {
   "cell_type": "code",
   "execution_count": 15,
   "metadata": {},
   "outputs": [],
   "source": [
    "# re-encoding admission type, discharge type and admission source into fewer categories\n",
    "\n",
    "df['admission_type_id'] = df['admission_type_id'].replace(2,1)\n",
    "df['admission_type_id'] = df['admission_type_id'].replace(7,1)\n",
    "df['admission_type_id'] = df['admission_type_id'].replace(6,5)\n",
    "df['admission_type_id'] = df['admission_type_id'].replace(8,5)\n",
    "\n",
    "df['discharge_disposition_id'] = df['discharge_disposition_id'].replace(6,1)\n",
    "df['discharge_disposition_id'] = df['discharge_disposition_id'].replace(8,1)\n",
    "df['discharge_disposition_id'] = df['discharge_disposition_id'].replace(9,1)\n",
    "df['discharge_disposition_id'] = df['discharge_disposition_id'].replace(13,1)\n",
    "df['discharge_disposition_id'] = df['discharge_disposition_id'].replace(3,2)\n",
    "df['discharge_disposition_id'] = df['discharge_disposition_id'].replace(4,2)\n",
    "df['discharge_disposition_id'] = df['discharge_disposition_id'].replace(5,2)\n",
    "df['discharge_disposition_id'] = df['discharge_disposition_id'].replace(14,2)\n",
    "df['discharge_disposition_id'] = df['discharge_disposition_id'].replace(22,2)\n",
    "df['discharge_disposition_id'] = df['discharge_disposition_id'].replace(23,2)\n",
    "df['discharge_disposition_id'] = df['discharge_disposition_id'].replace(24,2)\n",
    "df['discharge_disposition_id'] = df['discharge_disposition_id'].replace(12,10)\n",
    "df['discharge_disposition_id'] = df['discharge_disposition_id'].replace(15,10)\n",
    "df['discharge_disposition_id'] = df['discharge_disposition_id'].replace(16,10)\n",
    "df['discharge_disposition_id'] = df['discharge_disposition_id'].replace(17,10)\n",
    "df['discharge_disposition_id'] = df['discharge_disposition_id'].replace(25,18)\n",
    "df['discharge_disposition_id'] = df['discharge_disposition_id'].replace(26,18)\n",
    "\n",
    "df['admission_source_id'] = df['admission_source_id'].replace(2,1)\n",
    "df['admission_source_id'] = df['admission_source_id'].replace(3,1)\n",
    "df['admission_source_id'] = df['admission_source_id'].replace(5,4)\n",
    "df['admission_source_id'] = df['admission_source_id'].replace(6,4)\n",
    "df['admission_source_id'] = df['admission_source_id'].replace(10,4)\n",
    "df['admission_source_id'] = df['admission_source_id'].replace(22,4)\n",
    "df['admission_source_id'] = df['admission_source_id'].replace(25,4)\n",
    "df['admission_source_id'] = df['admission_source_id'].replace(15,9)\n",
    "df['admission_source_id'] = df['admission_source_id'].replace(17,9)\n",
    "df['admission_source_id'] = df['admission_source_id'].replace(20,9)\n",
    "df['admission_source_id'] = df['admission_source_id'].replace(21,9)\n",
    "df['admission_source_id'] = df['admission_source_id'].replace(13,11)\n",
    "df['admission_source_id'] = df['admission_source_id'].replace(14,11)"
   ]
  },
  {
   "cell_type": "markdown",
   "metadata": {},
   "source": [
    "* Encoding some variables: The original dataset used string values for gender, race, medication change, and each of the 23 drugs used. To better fit those variables into our model, we interpret the variables to numeric binary variables to reflect their nature. For example, we encoded the “ medication change ” feature from “No” (no change) and “Ch” (changed) into 0 and 1. \n"
   ]
  },
  {
   "cell_type": "code",
   "execution_count": 16,
   "metadata": {},
   "outputs": [],
   "source": [
    "df['change'] = df['change'].replace('Ch', 1)\n",
    "df['change'] = df['change'].replace('No', 0)\n",
    "df['gender'] = df['gender'].replace('Male', 1)\n",
    "df['gender'] = df['gender'].replace('Female', 0)\n",
    "df['diabetesMed'] = df['diabetesMed'].replace('Yes', 1)\n",
    "df['diabetesMed'] = df['diabetesMed'].replace('No', 0)\n",
    "# keys is the same as before\n",
    "for col in keys:\n",
    "    df[col] = df[col].replace('No', 0)\n",
    "    df[col] = df[col].replace('Steady', 1)\n",
    "    df[col] = df[col].replace('Up', 1)\n",
    "    df[col] = df[col].replace('Down', 1)"
   ]
  },
  {
   "cell_type": "markdown",
   "metadata": {},
   "source": [
    "We also reduced both A1C test result and Glucose serum test result into categories of Normal, Abnormal and Not tested.\n"
   ]
  },
  {
   "cell_type": "code",
   "execution_count": 17,
   "metadata": {},
   "outputs": [],
   "source": [
    "df['A1Cresult'] = df['A1Cresult'].replace('>7', 1)\n",
    "df['A1Cresult'] = df['A1Cresult'].replace('>8', 1)\n",
    "df['A1Cresult'] = df['A1Cresult'].replace('Norm', 0)\n",
    "df['A1Cresult'] = df['A1Cresult'].replace('None', -99)\n",
    "df['max_glu_serum'] = df['max_glu_serum'].replace('>200', 1)\n",
    "df['max_glu_serum'] = df['max_glu_serum'].replace('>300', 1)\n",
    "df['max_glu_serum'] = df['max_glu_serum'].replace('Norm', 0)\n",
    "df['max_glu_serum'] = df['max_glu_serum'].replace('None', -99)"
   ]
  },
  {
   "cell_type": "markdown",
   "metadata": {},
   "source": [
    "* Dealing with age: There are different ways to deal with this. The dataset only gives us age as 10 year categories, so we don’t know the exact age of each patient. The previous study on this dataset used age categories as nominal variables, but we wanted to be able to see the effect of increasing age on readmission, even if in a crude way. To do that, we assume that age of the patient on average lies at the midpoint of the age category. For example, if the patient’s age category is 20–30 years, then we assume the age = 25 years. So we converted age categories to midpoints, resulting in a numeric variable:"
   ]
  },
  {
   "cell_type": "code",
   "execution_count": 18,
   "metadata": {},
   "outputs": [
    {
     "data": {
      "text/plain": [
       "8     24815\n",
       "7     21521\n",
       "6     16546\n",
       "9     16223\n",
       "5      9208\n",
       "4      3538\n",
       "10     2594\n",
       "3      1471\n",
       "2       466\n",
       "1        64\n",
       "Name: age, dtype: int64"
      ]
     },
     "execution_count": 18,
     "metadata": {},
     "output_type": "execute_result"
    }
   ],
   "source": [
    "# code age intervals [0-10) - [90-100) from 1-10\n",
    "for i in range(0,10):\n",
    "    df['age'] = df['age'].replace('['+str(10*i)+'-'+str(10*(i+1))+')', i+1)\n",
    "    \n",
    "df['age'].value_counts()"
   ]
  },
  {
   "cell_type": "markdown",
   "metadata": {},
   "source": [
    "Collapsing of Multiple Encounters for same patient Some patients in the dataset had more than one encounter.We could not count them as independent encounters because that bias the results towards those patients who had multiple encounters. Thus we tried multiple techniques to collapse and consolidate multiple encounters for same patient such as:\n",
    "\n",
    "* Considering more than 2 readmissions across multiple encounters as readmission for collapsed record.\n",
    "* Considering average stay at hospital across multiple encounters.\n",
    "* Considering the percentage of the medication changes across multiple encounters\n",
    "* Considering the total number of the encounters to replace the encounter unique ID\n",
    "* Considering the combination of diagnoses across multiple encounters as a list However, taking the features such as “diagnosis”, for instance, we did not find it not meaningful to combine multiple categorical values into an array for building data model. We then considered first encounter and last encounter separately as possible representations of multiple encounters. However, last encounters gave extremely imbalanced data for readmissions (96/4 Readmissions vs No Readmissions) and thus, we decided to use first encounters of patients with multiple encounters. This resulted in dataset being reduced to about 70,000 encounters:"
   ]
  },
  {
   "cell_type": "code",
   "execution_count": 19,
   "metadata": {},
   "outputs": [
    {
     "data": {
      "text/plain": [
       "(70442, 55)"
      ]
     },
     "execution_count": 19,
     "metadata": {},
     "output_type": "execute_result"
    }
   ],
   "source": [
    "df2 = df.drop_duplicates(subset= ['patient_nbr'], keep = 'first')\n",
    "df2.shape\n",
    "\n",
    "(70442, 55)"
   ]
  },
  {
   "cell_type": "code",
   "execution_count": 20,
   "metadata": {},
   "outputs": [
    {
     "data": {
      "text/html": [
       "<div>\n",
       "<style scoped>\n",
       "    .dataframe tbody tr th:only-of-type {\n",
       "        vertical-align: middle;\n",
       "    }\n",
       "\n",
       "    .dataframe tbody tr th {\n",
       "        vertical-align: top;\n",
       "    }\n",
       "\n",
       "    .dataframe thead th {\n",
       "        text-align: right;\n",
       "    }\n",
       "</style>\n",
       "<table border=\"1\" class=\"dataframe\">\n",
       "  <thead>\n",
       "    <tr style=\"text-align: right;\">\n",
       "      <th></th>\n",
       "      <th>1</th>\n",
       "      <th>2</th>\n",
       "      <th>3</th>\n",
       "      <th>4</th>\n",
       "      <th>5</th>\n",
       "    </tr>\n",
       "  </thead>\n",
       "  <tbody>\n",
       "    <tr>\n",
       "      <th>encounter_id</th>\n",
       "      <td>149190</td>\n",
       "      <td>64410</td>\n",
       "      <td>500364</td>\n",
       "      <td>16680</td>\n",
       "      <td>35754</td>\n",
       "    </tr>\n",
       "    <tr>\n",
       "      <th>patient_nbr</th>\n",
       "      <td>55629189</td>\n",
       "      <td>86047875</td>\n",
       "      <td>82442376</td>\n",
       "      <td>42519267</td>\n",
       "      <td>82637451</td>\n",
       "    </tr>\n",
       "    <tr>\n",
       "      <th>race</th>\n",
       "      <td>Caucasian</td>\n",
       "      <td>AfricanAmerican</td>\n",
       "      <td>Caucasian</td>\n",
       "      <td>Caucasian</td>\n",
       "      <td>Caucasian</td>\n",
       "    </tr>\n",
       "    <tr>\n",
       "      <th>gender</th>\n",
       "      <td>0</td>\n",
       "      <td>0</td>\n",
       "      <td>1</td>\n",
       "      <td>1</td>\n",
       "      <td>1</td>\n",
       "    </tr>\n",
       "    <tr>\n",
       "      <th>age</th>\n",
       "      <td>2</td>\n",
       "      <td>3</td>\n",
       "      <td>4</td>\n",
       "      <td>5</td>\n",
       "      <td>6</td>\n",
       "    </tr>\n",
       "    <tr>\n",
       "      <th>admission_type_id</th>\n",
       "      <td>1</td>\n",
       "      <td>1</td>\n",
       "      <td>1</td>\n",
       "      <td>1</td>\n",
       "      <td>1</td>\n",
       "    </tr>\n",
       "    <tr>\n",
       "      <th>discharge_disposition_id</th>\n",
       "      <td>1</td>\n",
       "      <td>1</td>\n",
       "      <td>1</td>\n",
       "      <td>1</td>\n",
       "      <td>1</td>\n",
       "    </tr>\n",
       "    <tr>\n",
       "      <th>admission_source_id</th>\n",
       "      <td>7</td>\n",
       "      <td>7</td>\n",
       "      <td>7</td>\n",
       "      <td>7</td>\n",
       "      <td>1</td>\n",
       "    </tr>\n",
       "    <tr>\n",
       "      <th>time_in_hospital</th>\n",
       "      <td>3</td>\n",
       "      <td>2</td>\n",
       "      <td>2</td>\n",
       "      <td>1</td>\n",
       "      <td>3</td>\n",
       "    </tr>\n",
       "    <tr>\n",
       "      <th>num_lab_procedures</th>\n",
       "      <td>59</td>\n",
       "      <td>11</td>\n",
       "      <td>44</td>\n",
       "      <td>51</td>\n",
       "      <td>31</td>\n",
       "    </tr>\n",
       "    <tr>\n",
       "      <th>num_procedures</th>\n",
       "      <td>0</td>\n",
       "      <td>5</td>\n",
       "      <td>1</td>\n",
       "      <td>0</td>\n",
       "      <td>6</td>\n",
       "    </tr>\n",
       "    <tr>\n",
       "      <th>num_medications</th>\n",
       "      <td>18</td>\n",
       "      <td>13</td>\n",
       "      <td>16</td>\n",
       "      <td>8</td>\n",
       "      <td>16</td>\n",
       "    </tr>\n",
       "    <tr>\n",
       "      <th>number_outpatient</th>\n",
       "      <td>0</td>\n",
       "      <td>2</td>\n",
       "      <td>0</td>\n",
       "      <td>0</td>\n",
       "      <td>0</td>\n",
       "    </tr>\n",
       "    <tr>\n",
       "      <th>number_emergency</th>\n",
       "      <td>0</td>\n",
       "      <td>0</td>\n",
       "      <td>0</td>\n",
       "      <td>0</td>\n",
       "      <td>0</td>\n",
       "    </tr>\n",
       "    <tr>\n",
       "      <th>number_inpatient</th>\n",
       "      <td>0</td>\n",
       "      <td>1</td>\n",
       "      <td>0</td>\n",
       "      <td>0</td>\n",
       "      <td>0</td>\n",
       "    </tr>\n",
       "    <tr>\n",
       "      <th>diag_1</th>\n",
       "      <td>276</td>\n",
       "      <td>648</td>\n",
       "      <td>8</td>\n",
       "      <td>197</td>\n",
       "      <td>414</td>\n",
       "    </tr>\n",
       "    <tr>\n",
       "      <th>diag_2</th>\n",
       "      <td>250.01</td>\n",
       "      <td>250</td>\n",
       "      <td>250.43</td>\n",
       "      <td>157</td>\n",
       "      <td>411</td>\n",
       "    </tr>\n",
       "    <tr>\n",
       "      <th>diag_3</th>\n",
       "      <td>255</td>\n",
       "      <td>V27</td>\n",
       "      <td>403</td>\n",
       "      <td>250</td>\n",
       "      <td>250</td>\n",
       "    </tr>\n",
       "    <tr>\n",
       "      <th>number_diagnoses</th>\n",
       "      <td>9</td>\n",
       "      <td>6</td>\n",
       "      <td>7</td>\n",
       "      <td>5</td>\n",
       "      <td>9</td>\n",
       "    </tr>\n",
       "    <tr>\n",
       "      <th>max_glu_serum</th>\n",
       "      <td>-99</td>\n",
       "      <td>-99</td>\n",
       "      <td>-99</td>\n",
       "      <td>-99</td>\n",
       "      <td>-99</td>\n",
       "    </tr>\n",
       "    <tr>\n",
       "      <th>A1Cresult</th>\n",
       "      <td>-99</td>\n",
       "      <td>-99</td>\n",
       "      <td>-99</td>\n",
       "      <td>-99</td>\n",
       "      <td>-99</td>\n",
       "    </tr>\n",
       "    <tr>\n",
       "      <th>metformin</th>\n",
       "      <td>0</td>\n",
       "      <td>0</td>\n",
       "      <td>0</td>\n",
       "      <td>0</td>\n",
       "      <td>0</td>\n",
       "    </tr>\n",
       "    <tr>\n",
       "      <th>repaglinide</th>\n",
       "      <td>0</td>\n",
       "      <td>0</td>\n",
       "      <td>0</td>\n",
       "      <td>0</td>\n",
       "      <td>0</td>\n",
       "    </tr>\n",
       "    <tr>\n",
       "      <th>nateglinide</th>\n",
       "      <td>0</td>\n",
       "      <td>0</td>\n",
       "      <td>0</td>\n",
       "      <td>0</td>\n",
       "      <td>0</td>\n",
       "    </tr>\n",
       "    <tr>\n",
       "      <th>chlorpropamide</th>\n",
       "      <td>0</td>\n",
       "      <td>0</td>\n",
       "      <td>0</td>\n",
       "      <td>0</td>\n",
       "      <td>0</td>\n",
       "    </tr>\n",
       "    <tr>\n",
       "      <th>glimepiride</th>\n",
       "      <td>0</td>\n",
       "      <td>0</td>\n",
       "      <td>0</td>\n",
       "      <td>0</td>\n",
       "      <td>0</td>\n",
       "    </tr>\n",
       "    <tr>\n",
       "      <th>acetohexamide</th>\n",
       "      <td>0</td>\n",
       "      <td>0</td>\n",
       "      <td>0</td>\n",
       "      <td>0</td>\n",
       "      <td>0</td>\n",
       "    </tr>\n",
       "    <tr>\n",
       "      <th>glipizide</th>\n",
       "      <td>0</td>\n",
       "      <td>1</td>\n",
       "      <td>0</td>\n",
       "      <td>1</td>\n",
       "      <td>0</td>\n",
       "    </tr>\n",
       "    <tr>\n",
       "      <th>glyburide</th>\n",
       "      <td>0</td>\n",
       "      <td>0</td>\n",
       "      <td>0</td>\n",
       "      <td>0</td>\n",
       "      <td>0</td>\n",
       "    </tr>\n",
       "    <tr>\n",
       "      <th>tolbutamide</th>\n",
       "      <td>0</td>\n",
       "      <td>0</td>\n",
       "      <td>0</td>\n",
       "      <td>0</td>\n",
       "      <td>0</td>\n",
       "    </tr>\n",
       "    <tr>\n",
       "      <th>pioglitazone</th>\n",
       "      <td>0</td>\n",
       "      <td>0</td>\n",
       "      <td>0</td>\n",
       "      <td>0</td>\n",
       "      <td>0</td>\n",
       "    </tr>\n",
       "    <tr>\n",
       "      <th>rosiglitazone</th>\n",
       "      <td>0</td>\n",
       "      <td>0</td>\n",
       "      <td>0</td>\n",
       "      <td>0</td>\n",
       "      <td>0</td>\n",
       "    </tr>\n",
       "    <tr>\n",
       "      <th>acarbose</th>\n",
       "      <td>0</td>\n",
       "      <td>0</td>\n",
       "      <td>0</td>\n",
       "      <td>0</td>\n",
       "      <td>0</td>\n",
       "    </tr>\n",
       "    <tr>\n",
       "      <th>miglitol</th>\n",
       "      <td>0</td>\n",
       "      <td>0</td>\n",
       "      <td>0</td>\n",
       "      <td>0</td>\n",
       "      <td>0</td>\n",
       "    </tr>\n",
       "    <tr>\n",
       "      <th>troglitazone</th>\n",
       "      <td>0</td>\n",
       "      <td>0</td>\n",
       "      <td>0</td>\n",
       "      <td>0</td>\n",
       "      <td>0</td>\n",
       "    </tr>\n",
       "    <tr>\n",
       "      <th>tolazamide</th>\n",
       "      <td>0</td>\n",
       "      <td>0</td>\n",
       "      <td>0</td>\n",
       "      <td>0</td>\n",
       "      <td>0</td>\n",
       "    </tr>\n",
       "    <tr>\n",
       "      <th>insulin</th>\n",
       "      <td>1</td>\n",
       "      <td>0</td>\n",
       "      <td>1</td>\n",
       "      <td>1</td>\n",
       "      <td>1</td>\n",
       "    </tr>\n",
       "    <tr>\n",
       "      <th>glyburide-metformin</th>\n",
       "      <td>0</td>\n",
       "      <td>0</td>\n",
       "      <td>0</td>\n",
       "      <td>0</td>\n",
       "      <td>0</td>\n",
       "    </tr>\n",
       "    <tr>\n",
       "      <th>glipizide-metformin</th>\n",
       "      <td>0</td>\n",
       "      <td>0</td>\n",
       "      <td>0</td>\n",
       "      <td>0</td>\n",
       "      <td>0</td>\n",
       "    </tr>\n",
       "    <tr>\n",
       "      <th>glimepiride-pioglitazone</th>\n",
       "      <td>0</td>\n",
       "      <td>0</td>\n",
       "      <td>0</td>\n",
       "      <td>0</td>\n",
       "      <td>0</td>\n",
       "    </tr>\n",
       "    <tr>\n",
       "      <th>metformin-rosiglitazone</th>\n",
       "      <td>0</td>\n",
       "      <td>0</td>\n",
       "      <td>0</td>\n",
       "      <td>0</td>\n",
       "      <td>0</td>\n",
       "    </tr>\n",
       "    <tr>\n",
       "      <th>metformin-pioglitazone</th>\n",
       "      <td>0</td>\n",
       "      <td>0</td>\n",
       "      <td>0</td>\n",
       "      <td>0</td>\n",
       "      <td>0</td>\n",
       "    </tr>\n",
       "    <tr>\n",
       "      <th>change</th>\n",
       "      <td>1</td>\n",
       "      <td>0</td>\n",
       "      <td>1</td>\n",
       "      <td>1</td>\n",
       "      <td>0</td>\n",
       "    </tr>\n",
       "    <tr>\n",
       "      <th>diabetesMed</th>\n",
       "      <td>1</td>\n",
       "      <td>1</td>\n",
       "      <td>1</td>\n",
       "      <td>1</td>\n",
       "      <td>1</td>\n",
       "    </tr>\n",
       "    <tr>\n",
       "      <th>readmitted</th>\n",
       "      <td>&gt;30</td>\n",
       "      <td>NO</td>\n",
       "      <td>NO</td>\n",
       "      <td>NO</td>\n",
       "      <td>&gt;30</td>\n",
       "    </tr>\n",
       "    <tr>\n",
       "      <th>service_utilization</th>\n",
       "      <td>0</td>\n",
       "      <td>3</td>\n",
       "      <td>0</td>\n",
       "      <td>0</td>\n",
       "      <td>0</td>\n",
       "    </tr>\n",
       "    <tr>\n",
       "      <th>numchange</th>\n",
       "      <td>1</td>\n",
       "      <td>0</td>\n",
       "      <td>1</td>\n",
       "      <td>0</td>\n",
       "      <td>0</td>\n",
       "    </tr>\n",
       "  </tbody>\n",
       "</table>\n",
       "</div>"
      ],
      "text/plain": [
       "                                  1                2          3          4  \\\n",
       "encounter_id                 149190            64410     500364      16680   \n",
       "patient_nbr                55629189         86047875   82442376   42519267   \n",
       "race                      Caucasian  AfricanAmerican  Caucasian  Caucasian   \n",
       "gender                            0                0          1          1   \n",
       "age                               2                3          4          5   \n",
       "admission_type_id                 1                1          1          1   \n",
       "discharge_disposition_id          1                1          1          1   \n",
       "admission_source_id               7                7          7          7   \n",
       "time_in_hospital                  3                2          2          1   \n",
       "num_lab_procedures               59               11         44         51   \n",
       "num_procedures                    0                5          1          0   \n",
       "num_medications                  18               13         16          8   \n",
       "number_outpatient                 0                2          0          0   \n",
       "number_emergency                  0                0          0          0   \n",
       "number_inpatient                  0                1          0          0   \n",
       "diag_1                          276              648          8        197   \n",
       "diag_2                       250.01              250     250.43        157   \n",
       "diag_3                          255              V27        403        250   \n",
       "number_diagnoses                  9                6          7          5   \n",
       "max_glu_serum                   -99              -99        -99        -99   \n",
       "A1Cresult                       -99              -99        -99        -99   \n",
       "metformin                         0                0          0          0   \n",
       "repaglinide                       0                0          0          0   \n",
       "nateglinide                       0                0          0          0   \n",
       "chlorpropamide                    0                0          0          0   \n",
       "glimepiride                       0                0          0          0   \n",
       "acetohexamide                     0                0          0          0   \n",
       "glipizide                         0                1          0          1   \n",
       "glyburide                         0                0          0          0   \n",
       "tolbutamide                       0                0          0          0   \n",
       "pioglitazone                      0                0          0          0   \n",
       "rosiglitazone                     0                0          0          0   \n",
       "acarbose                          0                0          0          0   \n",
       "miglitol                          0                0          0          0   \n",
       "troglitazone                      0                0          0          0   \n",
       "tolazamide                        0                0          0          0   \n",
       "insulin                           1                0          1          1   \n",
       "glyburide-metformin               0                0          0          0   \n",
       "glipizide-metformin               0                0          0          0   \n",
       "glimepiride-pioglitazone          0                0          0          0   \n",
       "metformin-rosiglitazone           0                0          0          0   \n",
       "metformin-pioglitazone            0                0          0          0   \n",
       "change                            1                0          1          1   \n",
       "diabetesMed                       1                1          1          1   \n",
       "readmitted                      >30               NO         NO         NO   \n",
       "service_utilization               0                3          0          0   \n",
       "numchange                         1                0          1          0   \n",
       "\n",
       "                                  5  \n",
       "encounter_id                  35754  \n",
       "patient_nbr                82637451  \n",
       "race                      Caucasian  \n",
       "gender                            1  \n",
       "age                               6  \n",
       "admission_type_id                 1  \n",
       "discharge_disposition_id          1  \n",
       "admission_source_id               1  \n",
       "time_in_hospital                  3  \n",
       "num_lab_procedures               31  \n",
       "num_procedures                    6  \n",
       "num_medications                  16  \n",
       "number_outpatient                 0  \n",
       "number_emergency                  0  \n",
       "number_inpatient                  0  \n",
       "diag_1                          414  \n",
       "diag_2                          411  \n",
       "diag_3                          250  \n",
       "number_diagnoses                  9  \n",
       "max_glu_serum                   -99  \n",
       "A1Cresult                       -99  \n",
       "metformin                         0  \n",
       "repaglinide                       0  \n",
       "nateglinide                       0  \n",
       "chlorpropamide                    0  \n",
       "glimepiride                       0  \n",
       "acetohexamide                     0  \n",
       "glipizide                         0  \n",
       "glyburide                         0  \n",
       "tolbutamide                       0  \n",
       "pioglitazone                      0  \n",
       "rosiglitazone                     0  \n",
       "acarbose                          0  \n",
       "miglitol                          0  \n",
       "troglitazone                      0  \n",
       "tolazamide                        0  \n",
       "insulin                           1  \n",
       "glyburide-metformin               0  \n",
       "glipizide-metformin               0  \n",
       "glimepiride-pioglitazone          0  \n",
       "metformin-rosiglitazone           0  \n",
       "metformin-pioglitazone            0  \n",
       "change                            0  \n",
       "diabetesMed                       1  \n",
       "readmitted                      >30  \n",
       "service_utilization               0  \n",
       "numchange                         0  "
      ]
     },
     "execution_count": 20,
     "metadata": {},
     "output_type": "execute_result"
    }
   ],
   "source": [
    "df.head().T\n"
   ]
  },
  {
   "cell_type": "markdown",
   "metadata": {},
   "source": [
    "* Encoding the outcome variable: The outcome we are looking at is whether the patient gets readmitted to the hospital within 30 days or not. The variable actually has < 30, > 30 and No Readmission categories. To reduce our problem to a binary classification, we combined the readmission after 30 days and no readmission into a single category:"
   ]
  },
  {
   "cell_type": "code",
   "execution_count": 21,
   "metadata": {},
   "outputs": [
    {
     "data": {
      "text/plain": [
       "NO     50731\n",
       ">30    34649\n",
       "<30    11066\n",
       "Name: readmitted, dtype: int64"
      ]
     },
     "execution_count": 21,
     "metadata": {},
     "output_type": "execute_result"
    }
   ],
   "source": [
    "df['readmitted'].value_counts()"
   ]
  },
  {
   "cell_type": "code",
   "execution_count": 22,
   "metadata": {},
   "outputs": [],
   "source": [
    "df['readmitted'] = df['readmitted'].replace('>30', 0)\n",
    "df['readmitted'] = df['readmitted'].replace('<30', 1)\n",
    "df['readmitted'] = df['readmitted'].replace('NO', 0)"
   ]
  },
  {
   "cell_type": "markdown",
   "metadata": {},
   "source": [
    "* Categorization of diagnoses: The dataset contained up to three diagnoses for a given patient (primary, secondary and additional). However, each of these had 700–900 unique ICD codes and it is extremely difficult to include them in the model and interpret meaningfully. Therefore, we collapsed these diagnosis codes into 9 disease categories in an almost similar fashion to that done in the original publication using this dataset. These 9 categories include Circulatory, Respiratory, Digestive, Diabetes, Injury, Musculoskeletal, Genitourinary, Neoplasms, and Others. Although we did this for primary, secondary and additional diagnoses, we eventually decided to use only the primary diagnosis in our model. Doing this in python was slightly cumbersome because, well, we are mapping the disease codes to certain category names. Below code should demonstrate this easily."
   ]
  },
  {
   "cell_type": "code",
   "execution_count": 23,
   "metadata": {},
   "outputs": [],
   "source": [
    "# Creating additional columns for diagnosis# Creati \n",
    "df['level1_diag1'] = df['diag_1']\n",
    "df['level2_diag1'] = df['diag_1']\n",
    "df['level1_diag2'] = df['diag_2']\n",
    "df['level2_diag2'] = df['diag_2']\n",
    "df['level1_diag3'] = df['diag_3']\n",
    "df['level2_diag3'] = df['diag_3']"
   ]
  },
  {
   "cell_type": "code",
   "execution_count": 24,
   "metadata": {},
   "outputs": [],
   "source": [
    "df.loc[df['diag_1'].str.contains('V'), ['level1_diag1', 'level2_diag1']] = 0\n",
    "df.loc[df['diag_1'].str.contains('E'), ['level1_diag1', 'level2_diag1']] = 0\n",
    "df.loc[df['diag_2'].str.contains('V'), ['level1_diag2', 'level2_diag2']] = 0\n",
    "df.loc[df['diag_2'].str.contains('E'), ['level1_diag2', 'level2_diag2']] = 0\n",
    "df.loc[df['diag_3'].str.contains('V'), ['level1_diag3', 'level2_diag3']] = 0\n",
    "df.loc[df['diag_3'].str.contains('E'), ['level1_diag3', 'level2_diag3']] = 0\n",
    "df['level1_diag1'] = df['level1_diag1'].replace('?', -1)\n",
    "df['level2_diag1'] = df['level2_diag1'].replace('?', -1)\n",
    "df['level1_diag2'] = df['level1_diag2'].replace('?', -1)\n",
    "df['level2_diag2'] = df['level2_diag2'].replace('?', -1)\n",
    "df['level1_diag3'] = df['level1_diag3'].replace('?', -1)\n",
    "df['level2_diag3'] = df['level2_diag3'].replace('?', -1)"
   ]
  },
  {
   "cell_type": "code",
   "execution_count": 25,
   "metadata": {},
   "outputs": [],
   "source": [
    "df['level1_diag1'] = df['level1_diag1'].astype(float)\n",
    "df['level2_diag1'] = df['level2_diag1'].astype(float)\n",
    "df['level1_diag2'] = df['level1_diag2'].astype(float)\n",
    "df['level2_diag2'] = df['level2_diag2'].astype(float)\n",
    "df['level1_diag3'] = df['level1_diag3'].astype(float)\n",
    "df['level2_diag3'] = df['level2_diag3'].astype(float)"
   ]
  },
  {
   "cell_type": "code",
   "execution_count": 26,
   "metadata": {},
   "outputs": [],
   "source": [
    "for index, row in df.iterrows():\n",
    "    if (row['level1_diag1'] >= 390 and row['level1_diag1'] < 460) or (np.floor(row['level1_diag1']) == 785):\n",
    "        df.loc[index, 'level1_diag1'] = 1\n",
    "    elif (row['level1_diag1'] >= 460 and row['level1_diag1'] < 520) or (np.floor(row['level1_diag1']) == 786):\n",
    "        df.loc[index, 'level1_diag1'] = 2\n",
    "    elif (row['level1_diag1'] >= 520 and row['level1_diag1'] < 580) or (np.floor(row['level1_diag1']) == 787):\n",
    "        df.loc[index, 'level1_diag1'] = 3\n",
    "    elif (np.floor(row['level1_diag1']) == 250):\n",
    "        df.loc[index, 'level1_diag1'] = 4\n",
    "    elif (row['level1_diag1'] >= 800 and row['level1_diag1'] < 1000):\n",
    "        df.loc[index, 'level1_diag1'] = 5\n",
    "    elif (row['level1_diag1'] >= 710 and row['level1_diag1'] < 740):\n",
    "        df.loc[index, 'level1_diag1'] = 6\n",
    "    elif (row['level1_diag1'] >= 580 and row['level1_diag1'] < 630) or (np.floor(row['level1_diag1']) == 788):\n",
    "        df.loc[index, 'level1_diag1'] = 7\n",
    "    elif (row['level1_diag1'] >= 140 and row['level1_diag1'] < 240):\n",
    "        df.loc[index, 'level1_diag1'] = 8\n",
    "    else:\n",
    "        df.loc[index, 'level1_diag1'] = 0\n",
    "        \n",
    "    if (row['level1_diag2'] >= 390 and row['level1_diag2'] < 460) or (np.floor(row['level1_diag2']) == 785):\n",
    "        df.loc[index, 'level1_diag2'] = 1\n",
    "    elif (row['level1_diag2'] >= 460 and row['level1_diag2'] < 520) or (np.floor(row['level1_diag2']) == 786):\n",
    "        df.loc[index, 'level1_diag2'] = 2\n",
    "    elif (row['level1_diag2'] >= 520 and row['level1_diag2'] < 580) or (np.floor(row['level1_diag2']) == 787):\n",
    "        df.loc[index, 'level1_diag2'] = 3\n",
    "    elif (np.floor(row['level1_diag2']) == 250):\n",
    "        df.loc[index, 'level1_diag2'] = 4\n",
    "    elif (row['level1_diag2'] >= 800 and row['level1_diag2'] < 1000):\n",
    "        df.loc[index, 'level1_diag2'] = 5\n",
    "    elif (row['level1_diag2'] >= 710 and row['level1_diag2'] < 740):\n",
    "        df.loc[index, 'level1_diag2'] = 6\n",
    "    elif (row['level1_diag2'] >= 580 and row['level1_diag2'] < 630) or (np.floor(row['level1_diag2']) == 788):\n",
    "        df.loc[index, 'level1_diag2'] = 7\n",
    "    elif (row['level1_diag2'] >= 140 and row['level1_diag2'] < 240):\n",
    "        df.loc[index, 'level1_diag2'] = 8\n",
    "    else:\n",
    "        df.loc[index, 'level1_diag2'] = 0\n",
    "    \n",
    "    if (row['level1_diag3'] >= 390 and row['level1_diag3'] < 460) or (np.floor(row['level1_diag3']) == 785):\n",
    "        df.loc[index, 'level1_diag3'] = 1\n",
    "    elif (row['level1_diag3'] >= 460 and row['level1_diag3'] < 520) or (np.floor(row['level1_diag3']) == 786):\n",
    "        df.loc[index, 'level1_diag3'] = 2\n",
    "    elif (row['level1_diag3'] >= 520 and row['level1_diag3'] < 580) or (np.floor(row['level1_diag3']) == 787):\n",
    "        df.loc[index, 'level1_diag3'] = 3\n",
    "    elif (np.floor(row['level1_diag3']) == 250):\n",
    "        df.loc[index, 'level1_diag3'] = 4\n",
    "    elif (row['level1_diag3'] >= 800 and row['level1_diag3'] < 1000):\n",
    "        df.loc[index, 'level1_diag3'] = 5\n",
    "    elif (row['level1_diag3'] >= 710 and row['level1_diag3'] < 740):\n",
    "        df.loc[index, 'level1_diag3'] = 6\n",
    "    elif (row['level1_diag3'] >= 580 and row['level1_diag3'] < 630) or (np.floor(row['level1_diag3']) == 788):\n",
    "        df.loc[index, 'level1_diag3'] = 7\n",
    "    elif (row['level1_diag3'] >= 140 and row['level1_diag3'] < 240):\n",
    "        df.loc[index, 'level1_diag3'] = 8\n",
    "    else:\n",
    "        df.loc[index, 'level1_diag3'] = 0\n"
   ]
  },
  {
   "cell_type": "code",
   "execution_count": 27,
   "metadata": {},
   "outputs": [],
   "source": [
    "for index, row in df.iterrows():\n",
    "    if (row['level2_diag1'] >= 390 and row['level2_diag1'] < 399):\n",
    "        df.loc[index, 'level2_diag1'] = 1\n",
    "    elif (row['level2_diag1'] >= 401 and row['level2_diag1'] < 415):\n",
    "        df.loc[index, 'level2_diag1'] = 2\n",
    "    elif (row['level2_diag1'] >= 415 and row['level2_diag1'] < 460):\n",
    "        df.loc[index, 'level2_diag1'] = 3\n",
    "    elif (np.floor(row['level2_diag1']) == 785):\n",
    "        df.loc[index, 'level2_diag1'] = 4\n",
    "    elif (row['level2_diag1'] >= 460 and row['level2_diag1'] < 489):\n",
    "        df.loc[index, 'level2_diag1'] = 5\n",
    "    elif (row['level2_diag1'] >= 490 and row['level2_diag1'] < 497):\n",
    "        df.loc[index, 'level2_diag1'] = 6\n",
    "    elif (row['level2_diag1'] >= 500 and row['level2_diag1'] < 520):\n",
    "        df.loc[index, 'level2_diag1'] = 7\n",
    "    elif (np.floor(row['level2_diag1']) == 786):\n",
    "        df.loc[index, 'level2_diag1'] = 8\n",
    "    elif (row['level2_diag1'] >= 520 and row['level2_diag1'] < 530):\n",
    "        df.loc[index, 'level2_diag1'] = 9\n",
    "    elif (row['level2_diag1'] >= 530 and row['level2_diag1'] < 544):\n",
    "        df.loc[index, 'level2_diag1'] = 10\n",
    "    elif (row['level2_diag1'] >= 550 and row['level2_diag1'] < 554):\n",
    "        df.loc[index, 'level2_diag1'] = 11\n",
    "    elif (row['level2_diag1'] >= 555 and row['level2_diag1'] < 580):\n",
    "        df.loc[index, 'level2_diag1'] = 12\n",
    "    elif (np.floor(row['level2_diag1']) == 787):\n",
    "        df.loc[index, 'level2_diag1'] = 13\n",
    "    elif (np.floor(row['level2_diag1']) == 250):\n",
    "        df.loc[index, 'level2_diag1'] = 14\n",
    "    elif (row['level2_diag1'] >= 800 and row['level2_diag1'] < 1000):\n",
    "        df.loc[index, 'level2_diag1'] = 15\n",
    "    elif (row['level2_diag1'] >= 710 and row['level2_diag1'] < 740):\n",
    "        df.loc[index, 'level2_diag1'] = 16\n",
    "    elif (row['level2_diag1'] >= 580 and row['level2_diag1'] < 630):\n",
    "        df.loc[index, 'level2_diag1'] = 17\n",
    "    elif (np.floor(row['level2_diag1']) == 788):\n",
    "        df.loc[index, 'level2_diag1'] = 18\n",
    "    elif (row['level2_diag1'] >= 140 and row['level2_diag1'] < 240):\n",
    "        df.loc[index, 'level2_diag1'] = 19\n",
    "    elif row['level2_diag1'] >= 240 and row['level2_diag1'] < 280 and (np.floor(row['level2_diag1']) != 250):\n",
    "        df.loc[index, 'level2_diag1'] = 20\n",
    "    elif (row['level2_diag1'] >= 680 and row['level2_diag1'] < 710) or (np.floor(row['level2_diag1']) == 782):\n",
    "        df.loc[index, 'level2_diag1'] = 21\n",
    "    elif (row['level2_diag1'] >= 290 and row['level2_diag1'] < 320):\n",
    "        df.loc[index, 'level2_diag1'] = 22\n",
    "    else:\n",
    "        df.loc[index, 'level2_diag1'] = 0\n",
    "        \n",
    "    if (row['level2_diag2'] >= 390 and row['level2_diag2'] < 399):\n",
    "        df.loc[index, 'level2_diag2'] = 1\n",
    "    elif (row['level2_diag2'] >= 401 and row['level2_diag2'] < 415):\n",
    "        df.loc[index, 'level2_diag2'] = 2\n",
    "    elif (row['level2_diag2'] >= 415 and row['level2_diag2'] < 460):\n",
    "        df.loc[index, 'level2_diag2'] = 3\n",
    "    elif (np.floor(row['level2_diag2']) == 785):\n",
    "        df.loc[index, 'level2_diag2'] = 4\n",
    "    elif (row['level2_diag2'] >= 460 and row['level2_diag2'] < 489):\n",
    "        df.loc[index, 'level2_diag2'] = 5\n",
    "    elif (row['level2_diag2'] >= 490 and row['level2_diag2'] < 497):\n",
    "        df.loc[index, 'level2_diag2'] = 6\n",
    "    elif (row['level2_diag2'] >= 500 and row['level2_diag2'] < 520):\n",
    "        df.loc[index, 'level2_diag2'] = 7\n",
    "    elif (np.floor(row['level2_diag2']) == 786):\n",
    "        df.loc[index, 'level2_diag2'] = 8\n",
    "    elif (row['level2_diag2'] >= 520 and row['level2_diag2'] < 530):\n",
    "        df.loc[index, 'level2_diag2'] = 9\n",
    "    elif (row['level2_diag2'] >= 530 and row['level2_diag2'] < 544):\n",
    "        df.loc[index, 'level2_diag2'] = 10\n",
    "    elif (row['level2_diag2'] >= 550 and row['level2_diag2'] < 554):\n",
    "        df.loc[index, 'level2_diag2'] = 11\n",
    "    elif (row['level2_diag2'] >= 555 and row['level2_diag2'] < 580):\n",
    "        df.loc[index, 'level2_diag2'] = 12\n",
    "    elif (np.floor(row['level2_diag2']) == 787):\n",
    "        df.loc[index, 'level2_diag2'] = 13\n",
    "    elif (np.floor(row['level2_diag2']) == 250):\n",
    "        df.loc[index, 'level2_diag2'] = 14\n",
    "    elif (row['level2_diag2'] >= 800 and row['level2_diag2'] < 1000):\n",
    "        df.loc[index, 'level2_diag2'] = 15\n",
    "    elif (row['level2_diag2'] >= 710 and row['level2_diag2'] < 740):\n",
    "        df.loc[index, 'level2_diag2'] = 16\n",
    "    elif (row['level2_diag2'] >= 580 and row['level2_diag2'] < 630):\n",
    "        df.loc[index, 'level2_diag2'] = 17\n",
    "    elif (np.floor(row['level2_diag2']) == 788):\n",
    "        df.loc[index, 'level2_diag2'] = 18\n",
    "    elif (row['level2_diag2'] >= 140 and row['level2_diag2'] < 240):\n",
    "        df.loc[index, 'level2_diag2'] = 19\n",
    "    elif row['level2_diag2'] >= 240 and row['level2_diag2'] < 280 and (np.floor(row['level2_diag2']) != 250):\n",
    "        df.loc[index, 'level2_diag2'] = 20\n",
    "    elif (row['level2_diag2'] >= 680 and row['level2_diag2'] < 710) or (np.floor(row['level2_diag2']) == 782):\n",
    "        df.loc[index, 'level2_diag2'] = 21\n",
    "    elif (row['level2_diag2'] >= 290 and row['level2_diag2'] < 320):\n",
    "        df.loc[index, 'level2_diag2'] = 22\n",
    "    else:\n",
    "        df.loc[index, 'level2_diag2'] = 0\n",
    "        \n",
    "        \n",
    "    if (row['level2_diag3'] >= 390 and row['level2_diag3'] < 399):\n",
    "        df.loc[index, 'level2_diag3'] = 1\n",
    "    elif (row['level2_diag3'] >= 401 and row['level2_diag3'] < 415):\n",
    "        df.loc[index, 'level2_diag3'] = 2\n",
    "    elif (row['level2_diag3'] >= 415 and row['level2_diag3'] < 460):\n",
    "        df.loc[index, 'level2_diag3'] = 3\n",
    "    elif (np.floor(row['level2_diag3']) == 785):\n",
    "        df.loc[index, 'level2_diag3'] = 4\n",
    "    elif (row['level2_diag3'] >= 460 and row['level2_diag3'] < 489):\n",
    "        df.loc[index, 'level2_diag3'] = 5\n",
    "    elif (row['level2_diag3'] >= 490 and row['level2_diag3'] < 497):\n",
    "        df.loc[index, 'level2_diag3'] = 6\n",
    "    elif (row['level2_diag3'] >= 500 and row['level2_diag3'] < 520):\n",
    "        df.loc[index, 'level2_diag3'] = 7\n",
    "    elif (np.floor(row['level2_diag3']) == 786):\n",
    "        df.loc[index, 'level2_diag3'] = 8\n",
    "    elif (row['level2_diag3'] >= 520 and row['level2_diag3'] < 530):\n",
    "        df.loc[index, 'level2_diag3'] = 9\n",
    "    elif (row['level2_diag3'] >= 530 and row['level2_diag3'] < 544):\n",
    "        df.loc[index, 'level2_diag3'] = 10\n",
    "    elif (row['level2_diag3'] >= 550 and row['level2_diag3'] < 554):\n",
    "        df.loc[index, 'level2_diag3'] = 11\n",
    "    elif (row['level2_diag3'] >= 555 and row['level2_diag3'] < 580):\n",
    "        df.loc[index, 'level2_diag3'] = 12\n",
    "    elif (np.floor(row['level2_diag3']) == 787):\n",
    "        df.loc[index, 'level2_diag3'] = 13\n",
    "    elif (np.floor(row['level2_diag3']) == 250):\n",
    "        df.loc[index, 'level2_diag3'] = 14\n",
    "    elif (row['level2_diag3'] >= 800 and row['level2_diag3'] < 1000):\n",
    "        df.loc[index, 'level2_diag3'] = 15\n",
    "    elif (row['level2_diag3'] >= 710 and row['level2_diag3'] < 740):\n",
    "        df.loc[index, 'level2_diag3'] = 16\n",
    "    elif (row['level2_diag3'] >= 580 and row['level2_diag3'] < 630):\n",
    "        df.loc[index, 'level2_diag3'] = 17\n",
    "    elif (np.floor(row['level2_diag3']) == 788):\n",
    "        df.loc[index, 'level2_diag3'] = 18\n",
    "    elif (row['level2_diag3'] >= 140 and row['level2_diag3'] < 240):\n",
    "        df.loc[index, 'level2_diag3'] = 19\n",
    "    elif row['level2_diag3'] >= 240 and row['level2_diag3'] < 280 and (np.floor(row['level2_diag3']) != 250):\n",
    "        df.loc[index, 'level2_diag3'] = 20\n",
    "    elif (row['level2_diag3'] >= 680 and row['level2_diag3'] < 710) or (np.floor(row['level2_diag3']) == 782):\n",
    "        df.loc[index, 'level2_diag3'] = 21\n",
    "    elif (row['level2_diag3'] >= 290 and row['level2_diag3'] < 320):\n",
    "        df.loc[index, 'level2_diag3'] = 22\n",
    "    else:\n",
    "        df.loc[index, 'level2_diag3'] = 0"
   ]
  },
  {
   "cell_type": "markdown",
   "metadata": {},
   "source": [
    "## Data Visualization"
   ]
  },
  {
   "cell_type": "markdown",
   "metadata": {},
   "source": [
    "#### Distribution of Readmission\n",
    "Our target variable is imbalance. Number of readmitted patient are quite less as compared to Not readmitted"
   ]
  },
  {
   "cell_type": "code",
   "execution_count": 27,
   "metadata": {},
   "outputs": [
    {
     "name": "stderr",
     "output_type": "stream",
     "text": [
      "C:\\Users\\allah\\anaconda3\\lib\\site-packages\\seaborn\\_decorators.py:36: FutureWarning: Pass the following variable as a keyword arg: x. From version 0.12, the only valid positional argument will be `data`, and passing other arguments without an explicit keyword will result in an error or misinterpretation.\n",
      "  warnings.warn(\n"
     ]
    },
    {
     "data": {
      "text/plain": [
       "(96446, 53)"
      ]
     },
     "execution_count": 27,
     "metadata": {},
     "output_type": "execute_result"
    },
    {
     "data": {
      "image/png": "[encoded data removed]",
      "text/plain": [
       "<Figure size 432x288 with 1 Axes>"
      ]
     },
     "metadata": {
      "needs_background": "light"
     },
     "output_type": "display_data"
    }
   ],
   "source": [
    "# Distribution of Readmission \n",
    "sns.countplot(df['readmitted']).set_title('Distrinution of Readmission')\n",
    "df.shape"
   ]
  },
  {
   "cell_type": "markdown",
   "metadata": {},
   "source": [
    "#### Time in Hospital and Readmission\n"
   ]
  },
  {
   "cell_type": "code",
   "execution_count": 28,
   "metadata": {},
   "outputs": [
    {
     "data": {
      "text/plain": [
       "Text(0.5, 1.0, 'Time in Hospital VS. Readmission')"
      ]
     },
     "execution_count": 28,
     "metadata": {},
     "output_type": "execute_result"
    },
    {
     "data": {
      "image/png": "[encoded data removed]",
      "text/plain": [
       "<Figure size 936x504 with 1 Axes>"
      ]
     },
     "metadata": {
      "needs_background": "light"
     },
     "output_type": "display_data"
    }
   ],
   "source": [
    "fig = plt.figure(figsize=(13,7),)\n",
    "ax=sns.kdeplot(df.loc[(df['readmitted'] == 0),'time_in_hospital'] , color='b',shade=True,label='Not Readmitted')\n",
    "ax=sns.kdeplot(df.loc[(df['readmitted'] == 1),'time_in_hospital'] , color='r',shade=True, label='Readmitted')\n",
    "ax.set(xlabel='Time in Hospital', ylabel='Frequency')\n",
    "plt.title('Time in Hospital VS. Readmission')"
   ]
  },
  {
   "cell_type": "markdown",
   "metadata": {},
   "source": [
    "#### Age and Readmission"
   ]
  },
  {
   "cell_type": "code",
   "execution_count": 29,
   "metadata": {},
   "outputs": [
    {
     "data": {
      "text/plain": [
       "Text(0.5, 1.0, 'Age of Patient VS. Readmission')"
      ]
     },
     "execution_count": 29,
     "metadata": {},
     "output_type": "execute_result"
    },
    {
     "data": {
      "image/png": "[encoded data removed]",
      "text/plain": [
       "<Figure size 1080x720 with 1 Axes>"
      ]
     },
     "metadata": {
      "needs_background": "light"
     },
     "output_type": "display_data"
    }
   ],
   "source": [
    "fig = plt.figure(figsize=(15,10))\n",
    "sns.countplot(y= df['age'], hue = df['readmitted']).set_title('Age of Patient VS. Readmission')"
   ]
  },
  {
   "cell_type": "markdown",
   "metadata": {},
   "source": [
    "#### Ethnicity of patient and Readmission"
   ]
  },
  {
   "cell_type": "code",
   "execution_count": 30,
   "metadata": {},
   "outputs": [
    {
     "data": {
      "text/plain": [
       "<AxesSubplot:xlabel='count', ylabel='race'>"
      ]
     },
     "execution_count": 30,
     "metadata": {},
     "output_type": "execute_result"
    },
    {
     "data": {
      "image/png": "[encoded data removed]",
      "text/plain": [
       "<Figure size 576x576 with 1 Axes>"
      ]
     },
     "metadata": {
      "needs_background": "light"
     },
     "output_type": "display_data"
    }
   ],
   "source": [
    "fig = plt.figure(figsize=(8,8))\n",
    "sns.countplot(y = df['race'], hue = df['readmitted'])"
   ]
  },
  {
   "cell_type": "markdown",
   "metadata": {},
   "source": [
    "#### Number of medication used and Readmission"
   ]
  },
  {
   "cell_type": "code",
   "execution_count": 31,
   "metadata": {},
   "outputs": [
    {
     "data": {
      "text/plain": [
       "Text(0.5, 1.0, 'Number of medication used VS. Readmission')"
      ]
     },
     "execution_count": 31,
     "metadata": {},
     "output_type": "execute_result"
    },
    {
     "data": {
      "image/png": "[encoded data removed]",
      "text/plain": [
       "<Figure size 576x576 with 1 Axes>"
      ]
     },
     "metadata": {
      "needs_background": "light"
     },
     "output_type": "display_data"
    }
   ],
   "source": [
    "fig = plt.figure(figsize=(8,8))\n",
    "sns.barplot(x = df['readmitted'], y = df['num_medications']).set_title(\"Number of medication used VS. Readmission\")"
   ]
  },
  {
   "cell_type": "markdown",
   "metadata": {},
   "source": [
    "#### Gender and Readmission\n",
    "* Male = 1\n",
    "* Female = 0"
   ]
  },
  {
   "cell_type": "code",
   "execution_count": 32,
   "metadata": {},
   "outputs": [
    {
     "name": "stderr",
     "output_type": "stream",
     "text": [
      "C:\\Users\\allah\\anaconda3\\lib\\site-packages\\seaborn\\_decorators.py:36: FutureWarning: Pass the following variable as a keyword arg: x. From version 0.12, the only valid positional argument will be `data`, and passing other arguments without an explicit keyword will result in an error or misinterpretation.\n",
      "  warnings.warn(\n"
     ]
    },
    {
     "data": {
      "text/plain": [
       "Text(0.5, 1.0, 'Gender of Patient VS. Readmission')"
      ]
     },
     "execution_count": 32,
     "metadata": {},
     "output_type": "execute_result"
    },
    {
     "data": {
      "image/png": "[encoded data removed]",
      "text/plain": [
       "<Figure size 576x576 with 1 Axes>"
      ]
     },
     "metadata": {
      "needs_background": "light"
     },
     "output_type": "display_data"
    }
   ],
   "source": [
    "fig = plt.figure(figsize=(8,8))\n",
    "sns.countplot(df['gender'], hue = df['readmitted']).set_title(\"Gender of Patient VS. Readmission\")"
   ]
  },
  {
   "cell_type": "markdown",
   "metadata": {},
   "source": [
    "#### Change of Medication and Readmission\n",
    "* Change = 1\n",
    "* No Change = 0"
   ]
  },
  {
   "cell_type": "code",
   "execution_count": 33,
   "metadata": {},
   "outputs": [
    {
     "name": "stderr",
     "output_type": "stream",
     "text": [
      "C:\\Users\\allah\\anaconda3\\lib\\site-packages\\seaborn\\_decorators.py:36: FutureWarning: Pass the following variable as a keyword arg: x. From version 0.12, the only valid positional argument will be `data`, and passing other arguments without an explicit keyword will result in an error or misinterpretation.\n",
      "  warnings.warn(\n"
     ]
    },
    {
     "data": {
      "text/plain": [
       "Text(0.5, 1.0, 'Change of Medication VS. Readmission')"
      ]
     },
     "execution_count": 33,
     "metadata": {},
     "output_type": "execute_result"
    },
    {
     "data": {
      "image/png": "[encoded data removed]",
      "text/plain": [
       "<Figure size 576x576 with 1 Axes>"
      ]
     },
     "metadata": {
      "needs_background": "light"
     },
     "output_type": "display_data"
    }
   ],
   "source": [
    "fig = plt.figure(figsize=(8,8))\n",
    "sns.countplot(df['change'], hue = df['readmitted']).set_title('Change of Medication VS. Readmission')"
   ]
  },
  {
   "cell_type": "markdown",
   "metadata": {},
   "source": [
    "#### Diabetes Medication prescribed and Readmission\n",
    "* Diabetes Medication - medications Nominal Indicates if there was any diabetic medication prescribed.\n",
    "* Values: “yes” : 1 “no” : 0"
   ]
  },
  {
   "cell_type": "code",
   "execution_count": 34,
   "metadata": {},
   "outputs": [
    {
     "name": "stderr",
     "output_type": "stream",
     "text": [
      "C:\\Users\\allah\\anaconda3\\lib\\site-packages\\seaborn\\_decorators.py:36: FutureWarning: Pass the following variable as a keyword arg: x. From version 0.12, the only valid positional argument will be `data`, and passing other arguments without an explicit keyword will result in an error or misinterpretation.\n",
      "  warnings.warn(\n"
     ]
    },
    {
     "data": {
      "text/plain": [
       "Text(0.5, 1.0, 'Diabetes Medication prescribed VS Readmission')"
      ]
     },
     "execution_count": 34,
     "metadata": {},
     "output_type": "execute_result"
    },
    {
     "data": {
      "image/png": "[encoded data removed]",
      "text/plain": [
       "<Figure size 576x576 with 1 Axes>"
      ]
     },
     "metadata": {
      "needs_background": "light"
     },
     "output_type": "display_data"
    }
   ],
   "source": [
    "fig = plt.figure(figsize=(8,8))\n",
    "sns.countplot(df['diabetesMed'], hue = df['readmitted']).set_title('Diabetes Medication prescribed VS Readmission')"
   ]
  },
  {
   "cell_type": "markdown",
   "metadata": {},
   "source": [
    "#### Service Utilization and Readmission\n"
   ]
  },
  {
   "cell_type": "code",
   "execution_count": 35,
   "metadata": {},
   "outputs": [
    {
     "data": {
      "text/plain": [
       "Text(0.5, 1.0, 'Service Utilization VS. Readmission')"
      ]
     },
     "execution_count": 35,
     "metadata": {},
     "output_type": "execute_result"
    },
    {
     "data": {
      "image/png": "[encoded data removed]",
      "text/plain": [
       "<Figure size 576x576 with 1 Axes>"
      ]
     },
     "metadata": {
      "needs_background": "light"
     },
     "output_type": "display_data"
    }
   ],
   "source": [
    "fig = plt.figure(figsize=(8,8))\n",
    "sns.barplot( y = df['service_utilization'], x = df['readmitted']).set_title('Service Utilization VS. Readmission')"
   ]
  },
  {
   "cell_type": "markdown",
   "metadata": {},
   "source": [
    "#### Glucose serum test result and Readmission\n",
    "*Glucose Serum test* - A blood glucose test is used to find out if your blood sugar levels are in the healthy range. It is often used to help diagnose and monitor diabetes.\n",
    "\n",
    "* '>200' : 1 = indicates diabetes\n",
    "* '>300' : 1 = Indicates diabetes\n",
    "* 'Norm' : 0 = Normal\n",
    "* 'None' : -99 = test was not taken"
   ]
  },
  {
   "cell_type": "code",
   "execution_count": 36,
   "metadata": {},
   "outputs": [
    {
     "data": {
      "text/plain": [
       "Text(0.5, 1.0, 'Glucose test serum test result VS. Readmission')"
      ]
     },
     "execution_count": 36,
     "metadata": {},
     "output_type": "execute_result"
    },
    {
     "data": {
      "image/png": "[encoded data removed]",
      "text/plain": [
       "<Figure size 576x576 with 1 Axes>"
      ]
     },
     "metadata": {
      "needs_background": "light"
     },
     "output_type": "display_data"
    }
   ],
   "source": [
    "fig = plt.figure(figsize=(8,8))\n",
    "sns.countplot(y = df['max_glu_serum'], hue = df['readmitted']).set_title('Glucose test serum test result VS. Readmission')\n"
   ]
  },
  {
   "cell_type": "markdown",
   "metadata": {},
   "source": [
    "A1C result and Readmission\n",
    "*A1C test* - The A1C test is a blood test that provides information about your average levels of blood glucose, also called blood sugar, over the past 3 months.\n",
    "*  '>7'   :  1   \n",
    "*  '>8'   :  1   \n",
    "*    Norm :  0  = Normal \n",
    "*    None : -99 = Test was not taken"
   ]
  },
  {
   "cell_type": "code",
   "execution_count": 37,
   "metadata": {},
   "outputs": [
    {
     "data": {
      "text/plain": [
       "Text(0.5, 1.0, 'A1C test result VS. Readmission')"
      ]
     },
     "execution_count": 37,
     "metadata": {},
     "output_type": "execute_result"
    },
    {
     "data": {
      "image/png": "[encoded data removed]",
      "text/plain": [
       "<Figure size 576x576 with 1 Axes>"
      ]
     },
     "metadata": {
      "needs_background": "light"
     },
     "output_type": "display_data"
    }
   ],
   "source": [
    "fig = plt.figure(figsize=(8,8))\n",
    "sns.countplot(y= df['A1Cresult'], hue = df['readmitted']).set_title('A1C test result VS. Readmission')"
   ]
  },
  {
   "cell_type": "markdown",
   "metadata": {},
   "source": [
    "#### Number of lab procedure and Readmission"
   ]
  },
  {
   "cell_type": "code",
   "execution_count": 38,
   "metadata": {},
   "outputs": [
    {
     "data": {
      "text/plain": [
       "Text(0.5, 1.0, 'Number of lab procedure VS. Readmission')"
      ]
     },
     "execution_count": 38,
     "metadata": {},
     "output_type": "execute_result"
    },
    {
     "data": {
      "image/png": "[encoded data removed]",
      "text/plain": [
       "<Figure size 1080x432 with 1 Axes>"
      ]
     },
     "metadata": {
      "needs_background": "light"
     },
     "output_type": "display_data"
    }
   ],
   "source": [
    "fig = plt.figure(figsize=(15,6),)\n",
    "ax=sns.kdeplot(df.loc[(df['readmitted'] == 0),'num_lab_procedures'] , color='b',shade=True,label='Not readmitted')\n",
    "ax=sns.kdeplot(df.loc[(df['readmitted'] == 1),'num_lab_procedures'] , color='r',shade=True, label='readmitted')\n",
    "ax.set(xlabel='Number of lab procedure', ylabel='Frequency')\n",
    "plt.title('Number of lab procedure VS. Readmission')"
   ]
  },
  {
   "cell_type": "markdown",
   "metadata": {},
   "source": [
    "### Pre-Modeling Data Preprocessing\n",
    "This code converts age as categorical variable to a continuous approximation by assuming mid-point of each age-category as the actual age value. This is done to avoid having to deal with age as a dummy variable in the models which makes interpretation very cumbersome. Also, since age category is not purely nominal but ordinal, we do not want to lose that information by treating it as a simple categorical variable"
   ]
  },
  {
   "cell_type": "code",
   "execution_count": 39,
   "metadata": {},
   "outputs": [
    {
     "name": "stdout",
     "output_type": "stream",
     "text": [
      "8     24815\n",
      "7     21521\n",
      "6     16546\n",
      "9     16223\n",
      "5      9208\n",
      "4      3538\n",
      "10     2594\n",
      "3      1471\n",
      "2       466\n",
      "1        64\n",
      "Name: age, dtype: int64\n",
      "75    24815\n",
      "65    21521\n",
      "55    16546\n",
      "85    16223\n",
      "45     9208\n",
      "35     3538\n",
      "95     2594\n",
      "25     1471\n",
      "15      466\n",
      "5        64\n",
      "Name: age, dtype: int64\n",
      "(96446, 53)\n"
     ]
    }
   ],
   "source": [
    "df['age'] = df['age'].astype('int64')\n",
    "print(df.age.value_counts())\n",
    "# convert age categories to mid-point values\n",
    "age_dict = {1:5, 2:15, 3:25, 4:35, 5:45, 6:55, 7:65, 8:75, 9:85, 10:95}\n",
    "df['age'] = df.age.map(age_dict)\n",
    "print(df.age.value_counts())\n",
    "\n",
    "print(df.shape)"
   ]
  },
  {
   "cell_type": "code",
   "execution_count": 30,
   "metadata": {},
   "outputs": [],
   "source": [
    "# convert data type of nominal features in dataframe to 'object' type\n",
    "i = ['encounter_id', 'patient_nbr', 'race', 'gender', 'admission_type_id', 'discharge_disposition_id', 'admission_source_id',\n",
    "     'diag_1', 'diag_2', 'diag_3', 'max_glu_serum', 'A1Cresult', 'metformin', 'repaglinide', 'nateglinide', 'chlorpropamide',\n",
    "     'glimepiride', 'acetohexamide', 'glipizide', 'glyburide', 'tolbutamide', 'pioglitazone', 'rosiglitazone', 'acarbose',\n",
    "     'miglitol', 'troglitazone', 'tolazamide', 'insulin', 'glyburide-metformin', 'glipizide-metformin', 'glimepiride-pioglitazone',\n",
    "     'metformin-rosiglitazone', 'metformin-pioglitazone', 'change', 'diabetesMed', 'readmitted', 'level1_diag1', 'level2_diag1',\n",
    "     'level1_diag2', 'level2_diag2', 'level1_diag3', 'level2_diag3']\n",
    "\n",
    "df[i] = df[i].astype('object')\n",
    "\n"
   ]
  },
  {
   "cell_type": "code",
   "execution_count": 31,
   "metadata": {},
   "outputs": [
    {
     "data": {
      "text/plain": [
       "encounter_id                object\n",
       "patient_nbr                 object\n",
       "race                        object\n",
       "gender                      object\n",
       "age                          int64\n",
       "admission_type_id           object\n",
       "discharge_disposition_id    object\n",
       "admission_source_id         object\n",
       "time_in_hospital             int64\n",
       "num_lab_procedures           int64\n",
       "num_procedures               int64\n",
       "num_medications              int64\n",
       "number_outpatient            int64\n",
       "number_emergency             int64\n",
       "number_inpatient             int64\n",
       "diag_1                      object\n",
       "diag_2                      object\n",
       "diag_3                      object\n",
       "number_diagnoses             int64\n",
       "max_glu_serum               object\n",
       "A1Cresult                   object\n",
       "metformin                   object\n",
       "repaglinide                 object\n",
       "nateglinide                 object\n",
       "chlorpropamide              object\n",
       "glimepiride                 object\n",
       "acetohexamide               object\n",
       "glipizide                   object\n",
       "glyburide                   object\n",
       "tolbutamide                 object\n",
       "pioglitazone                object\n",
       "rosiglitazone               object\n",
       "acarbose                    object\n",
       "miglitol                    object\n",
       "troglitazone                object\n",
       "tolazamide                  object\n",
       "insulin                     object\n",
       "glyburide-metformin         object\n",
       "glipizide-metformin         object\n",
       "glimepiride-pioglitazone    object\n",
       "metformin-rosiglitazone     object\n",
       "metformin-pioglitazone      object\n",
       "change                      object\n",
       "diabetesMed                 object\n",
       "readmitted                  object\n",
       "service_utilization          int64\n",
       "numchange                    int64\n",
       "level1_diag1                object\n",
       "level2_diag1                object\n",
       "level1_diag2                object\n",
       "level2_diag2                object\n",
       "level1_diag3                object\n",
       "level2_diag3                object\n",
       "dtype: object"
      ]
     },
     "execution_count": 31,
     "metadata": {},
     "output_type": "execute_result"
    }
   ],
   "source": [
    "df.dtypes"
   ]
  },
  {
   "cell_type": "markdown",
   "metadata": {},
   "source": [
    "* Number of medication used: Another possibly related factor could be the total number of medications used by the patient (which may indicate severity of their condition and/or the intensity of care). So we created another feature by counting the medications used during the encounter (keys variable in code below is continued from above):"
   ]
  },
  {
   "cell_type": "code",
   "execution_count": 32,
   "metadata": {},
   "outputs": [
    {
     "data": {
      "text/plain": [
       "1    44589\n",
       "0    22156\n",
       "2    20901\n",
       "3     7448\n",
       "4     1290\n",
       "5       57\n",
       "6        5\n",
       "Name: nummed, dtype: int64"
      ]
     },
     "execution_count": 32,
     "metadata": {},
     "output_type": "execute_result"
    }
   ],
   "source": [
    "df['nummed'] = 0\n",
    "\n",
    "for col in keys:\n",
    "    df['nummed'] = df['nummed'] + df[col]\n",
    "df['nummed'].value_counts()"
   ]
  },
  {
   "cell_type": "code",
   "execution_count": 33,
   "metadata": {},
   "outputs": [
    {
     "data": {
      "text/plain": [
       "['age',\n",
       " 'number_outpatient',\n",
       " 'service_utilization',\n",
       " 'num_procedures',\n",
       " 'number_inpatient',\n",
       " 'numchange',\n",
       " 'time_in_hospital',\n",
       " 'num_lab_procedures',\n",
       " 'number_emergency',\n",
       " 'number_diagnoses',\n",
       " 'num_medications']"
      ]
     },
     "execution_count": 33,
     "metadata": {},
     "output_type": "execute_result"
    }
   ],
   "source": [
    "# get list of only numeric features\n",
    "num_col = list(set(list(df._get_numeric_data().columns))- {'readmitted'})\n",
    "num_col"
   ]
  },
  {
   "cell_type": "code",
   "execution_count": 34,
   "metadata": {},
   "outputs": [],
   "source": [
    "# Removing skewnewss and kurtosis using log transformation if it is above a threshold value -  2\n",
    "\n",
    "statdataframe = pd.DataFrame()\n",
    "statdataframe['numeric_column'] = num_col\n",
    "skew_before = []\n",
    "skew_after = []\n",
    "\n",
    "kurt_before = []\n",
    "kurt_after = []\n",
    "\n",
    "standard_deviation_before = []\n",
    "standard_deviation_after = []\n",
    "\n",
    "log_transform_needed = []\n",
    "\n",
    "log_type = []\n",
    "\n",
    "for i in num_col:\n",
    "    skewval = df[i].skew()\n",
    "    skew_before.append(skewval)\n",
    "    \n",
    "    kurtval = df[i].kurtosis()\n",
    "    kurt_before.append(kurtval)\n",
    "    \n",
    "    sdval = df[i].std()\n",
    "    standard_deviation_before.append(sdval)\n",
    "    \n",
    "    if (abs(skewval) >2) & (abs(kurtval) >2):\n",
    "        log_transform_needed.append('Yes')\n",
    "        \n",
    "        if len(df[df[i] == 0])/len(df) <=0.02:\n",
    "            log_type.append('log')\n",
    "            skewvalnew = np.log(pd.DataFrame(df[train_data[i] > 0])[i]).skew()\n",
    "            skew_after.append(skewvalnew)\n",
    "            \n",
    "            kurtvalnew = np.log(pd.DataFrame(df[train_data[i] > 0])[i]).kurtosis()\n",
    "            kurt_after.append(kurtvalnew)\n",
    "            \n",
    "            sdvalnew = np.log(pd.DataFrame(df[train_data[i] > 0])[i]).std()\n",
    "            standard_deviation_after.append(sdvalnew)\n",
    "            \n",
    "        else:\n",
    "            log_type.append('log1p')\n",
    "            skewvalnew = np.log1p(pd.DataFrame(df[df[i] >= 0])[i]).skew()\n",
    "            skew_after.append(skewvalnew)\n",
    "        \n",
    "            kurtvalnew = np.log1p(pd.DataFrame(df[df[i] >= 0])[i]).kurtosis()\n",
    "            kurt_after.append(kurtvalnew)\n",
    "            \n",
    "            sdvalnew = np.log1p(pd.DataFrame(df[df[i] >= 0])[i]).std()\n",
    "            standard_deviation_after.append(sdvalnew)\n",
    "            \n",
    "    else:\n",
    "        log_type.append('NA')\n",
    "        log_transform_needed.append('No')\n",
    "        \n",
    "        skew_after.append(skewval)\n",
    "        kurt_after.append(kurtval)\n",
    "        standard_deviation_after.append(sdval)\n",
    "\n",
    "statdataframe['skew_before'] = skew_before\n",
    "statdataframe['kurtosis_before'] = kurt_before\n",
    "statdataframe['standard_deviation_before'] = standard_deviation_before\n",
    "statdataframe['log_transform_needed'] = log_transform_needed\n",
    "statdataframe['log_type'] = log_type\n",
    "statdataframe['skew_after'] = skew_after\n",
    "statdataframe['kurtosis_after'] = kurt_after\n",
    "statdataframe['standard_deviation_after'] = standard_deviation_after"
   ]
  },
  {
   "cell_type": "code",
   "execution_count": 35,
   "metadata": {},
   "outputs": [
    {
     "data": {
      "text/html": [
       "<div>\n",
       "<style scoped>\n",
       "    .dataframe tbody tr th:only-of-type {\n",
       "        vertical-align: middle;\n",
       "    }\n",
       "\n",
       "    .dataframe tbody tr th {\n",
       "        vertical-align: top;\n",
       "    }\n",
       "\n",
       "    .dataframe thead th {\n",
       "        text-align: right;\n",
       "    }\n",
       "</style>\n",
       "<table border=\"1\" class=\"dataframe\">\n",
       "  <thead>\n",
       "    <tr style=\"text-align: right;\">\n",
       "      <th></th>\n",
       "      <th>numeric_column</th>\n",
       "      <th>skew_before</th>\n",
       "      <th>kurtosis_before</th>\n",
       "      <th>standard_deviation_before</th>\n",
       "      <th>log_transform_needed</th>\n",
       "      <th>log_type</th>\n",
       "      <th>skew_after</th>\n",
       "      <th>kurtosis_after</th>\n",
       "      <th>standard_deviation_after</th>\n",
       "    </tr>\n",
       "  </thead>\n",
       "  <tbody>\n",
       "    <tr>\n",
       "      <th>0</th>\n",
       "      <td>age</td>\n",
       "      <td>-0.565291</td>\n",
       "      <td>0.105222</td>\n",
       "      <td>1.559433</td>\n",
       "      <td>No</td>\n",
       "      <td>NA</td>\n",
       "      <td>-0.565291</td>\n",
       "      <td>0.105222</td>\n",
       "      <td>1.559433</td>\n",
       "    </tr>\n",
       "    <tr>\n",
       "      <th>1</th>\n",
       "      <td>number_outpatient</td>\n",
       "      <td>8.767489</td>\n",
       "      <td>146.244961</td>\n",
       "      <td>1.280061</td>\n",
       "      <td>Yes</td>\n",
       "      <td>log1p</td>\n",
       "      <td>2.708627</td>\n",
       "      <td>7.648535</td>\n",
       "      <td>0.432949</td>\n",
       "    </tr>\n",
       "    <tr>\n",
       "      <th>2</th>\n",
       "      <td>service_utilization</td>\n",
       "      <td>5.312374</td>\n",
       "      <td>67.194018</td>\n",
       "      <td>2.315789</td>\n",
       "      <td>Yes</td>\n",
       "      <td>log1p</td>\n",
       "      <td>1.097244</td>\n",
       "      <td>0.497241</td>\n",
       "      <td>0.665656</td>\n",
       "    </tr>\n",
       "    <tr>\n",
       "      <th>3</th>\n",
       "      <td>num_procedures</td>\n",
       "      <td>1.313236</td>\n",
       "      <td>0.856100</td>\n",
       "      <td>1.703183</td>\n",
       "      <td>No</td>\n",
       "      <td>NA</td>\n",
       "      <td>1.313236</td>\n",
       "      <td>0.856100</td>\n",
       "      <td>1.703183</td>\n",
       "    </tr>\n",
       "    <tr>\n",
       "      <th>4</th>\n",
       "      <td>number_inpatient</td>\n",
       "      <td>3.566269</td>\n",
       "      <td>20.044813</td>\n",
       "      <td>1.269975</td>\n",
       "      <td>Yes</td>\n",
       "      <td>log1p</td>\n",
       "      <td>1.425127</td>\n",
       "      <td>1.319186</td>\n",
       "      <td>0.513389</td>\n",
       "    </tr>\n",
       "    <tr>\n",
       "      <th>5</th>\n",
       "      <td>numchange</td>\n",
       "      <td>1.426548</td>\n",
       "      <td>1.451898</td>\n",
       "      <td>0.488614</td>\n",
       "      <td>No</td>\n",
       "      <td>NA</td>\n",
       "      <td>1.426548</td>\n",
       "      <td>1.451898</td>\n",
       "      <td>0.488614</td>\n",
       "    </tr>\n",
       "    <tr>\n",
       "      <th>6</th>\n",
       "      <td>time_in_hospital</td>\n",
       "      <td>1.127510</td>\n",
       "      <td>0.839050</td>\n",
       "      <td>2.982330</td>\n",
       "      <td>No</td>\n",
       "      <td>NA</td>\n",
       "      <td>1.127510</td>\n",
       "      <td>0.839050</td>\n",
       "      <td>2.982330</td>\n",
       "    </tr>\n",
       "    <tr>\n",
       "      <th>7</th>\n",
       "      <td>num_lab_procedures</td>\n",
       "      <td>-0.240626</td>\n",
       "      <td>-0.253275</td>\n",
       "      <td>19.656782</td>\n",
       "      <td>No</td>\n",
       "      <td>NA</td>\n",
       "      <td>-0.240626</td>\n",
       "      <td>-0.253275</td>\n",
       "      <td>19.656782</td>\n",
       "    </tr>\n",
       "    <tr>\n",
       "      <th>8</th>\n",
       "      <td>number_emergency</td>\n",
       "      <td>22.695921</td>\n",
       "      <td>1165.140400</td>\n",
       "      <td>0.948089</td>\n",
       "      <td>Yes</td>\n",
       "      <td>log1p</td>\n",
       "      <td>3.614471</td>\n",
       "      <td>15.854105</td>\n",
       "      <td>0.318742</td>\n",
       "    </tr>\n",
       "    <tr>\n",
       "      <th>9</th>\n",
       "      <td>number_diagnoses</td>\n",
       "      <td>-0.807741</td>\n",
       "      <td>-0.372558</td>\n",
       "      <td>1.836659</td>\n",
       "      <td>No</td>\n",
       "      <td>NA</td>\n",
       "      <td>-0.807741</td>\n",
       "      <td>-0.372558</td>\n",
       "      <td>1.836659</td>\n",
       "    </tr>\n",
       "    <tr>\n",
       "      <th>10</th>\n",
       "      <td>num_medications</td>\n",
       "      <td>1.339187</td>\n",
       "      <td>3.549325</td>\n",
       "      <td>8.072516</td>\n",
       "      <td>No</td>\n",
       "      <td>NA</td>\n",
       "      <td>1.339187</td>\n",
       "      <td>3.549325</td>\n",
       "      <td>8.072516</td>\n",
       "    </tr>\n",
       "  </tbody>\n",
       "</table>\n",
       "</div>"
      ],
      "text/plain": [
       "         numeric_column  skew_before  kurtosis_before  \\\n",
       "0                   age    -0.565291         0.105222   \n",
       "1     number_outpatient     8.767489       146.244961   \n",
       "2   service_utilization     5.312374        67.194018   \n",
       "3        num_procedures     1.313236         0.856100   \n",
       "4      number_inpatient     3.566269        20.044813   \n",
       "5             numchange     1.426548         1.451898   \n",
       "6      time_in_hospital     1.127510         0.839050   \n",
       "7    num_lab_procedures    -0.240626        -0.253275   \n",
       "8      number_emergency    22.695921      1165.140400   \n",
       "9      number_diagnoses    -0.807741        -0.372558   \n",
       "10      num_medications     1.339187         3.549325   \n",
       "\n",
       "    standard_deviation_before log_transform_needed log_type  skew_after  \\\n",
       "0                    1.559433                   No       NA   -0.565291   \n",
       "1                    1.280061                  Yes    log1p    2.708627   \n",
       "2                    2.315789                  Yes    log1p    1.097244   \n",
       "3                    1.703183                   No       NA    1.313236   \n",
       "4                    1.269975                  Yes    log1p    1.425127   \n",
       "5                    0.488614                   No       NA    1.426548   \n",
       "6                    2.982330                   No       NA    1.127510   \n",
       "7                   19.656782                   No       NA   -0.240626   \n",
       "8                    0.948089                  Yes    log1p    3.614471   \n",
       "9                    1.836659                   No       NA   -0.807741   \n",
       "10                   8.072516                   No       NA    1.339187   \n",
       "\n",
       "    kurtosis_after  standard_deviation_after  \n",
       "0         0.105222                  1.559433  \n",
       "1         7.648535                  0.432949  \n",
       "2         0.497241                  0.665656  \n",
       "3         0.856100                  1.703183  \n",
       "4         1.319186                  0.513389  \n",
       "5         1.451898                  0.488614  \n",
       "6         0.839050                  2.982330  \n",
       "7        -0.253275                 19.656782  \n",
       "8        15.854105                  0.318742  \n",
       "9        -0.372558                  1.836659  \n",
       "10        3.549325                  8.072516  "
      ]
     },
     "execution_count": 35,
     "metadata": {},
     "output_type": "execute_result"
    }
   ],
   "source": [
    "statdataframe"
   ]
  },
  {
   "cell_type": "code",
   "execution_count": 36,
   "metadata": {},
   "outputs": [],
   "source": [
    "# performing the log transformation for the columns determined to be needing it above.\n",
    "\n",
    "for i in range(len(statdataframe)):\n",
    "    if statdataframe['log_transform_needed'][i] == 'Yes':\n",
    "        colname = str(statdataframe['numeric_column'][i])\n",
    "        \n",
    "        if statdataframe['log_type'][i] == 'log':\n",
    "            df = df[df[colname] > 0]\n",
    "            df[colname + \"_log\"] = np.log(df[colname])\n",
    "            \n",
    "        elif statdataframe['log_type'][i] == 'log1p':\n",
    "            df = df[df[colname] >= 0]\n",
    "            df[colname + \"_log1p\"] = np.log1p(df[colname])"
   ]
  },
  {
   "cell_type": "code",
   "execution_count": 37,
   "metadata": {},
   "outputs": [],
   "source": [
    "df = df.drop(['number_outpatient', 'number_inpatient', 'number_emergency','service_utilization'], axis = 1)"
   ]
  },
  {
   "cell_type": "code",
   "execution_count": 38,
   "metadata": {},
   "outputs": [
    {
     "data": {
      "text/plain": [
       "(96446, 54)"
      ]
     },
     "execution_count": 38,
     "metadata": {},
     "output_type": "execute_result"
    }
   ],
   "source": [
    "df.shape"
   ]
  },
  {
   "cell_type": "code",
   "execution_count": 39,
   "metadata": {},
   "outputs": [
    {
     "data": {
      "text/plain": [
       "['service_utilization_log1p',\n",
       " 'age',\n",
       " 'num_procedures',\n",
       " 'number_inpatient_log1p',\n",
       " 'numchange',\n",
       " 'time_in_hospital',\n",
       " 'num_lab_procedures',\n",
       " 'number_emergency_log1p',\n",
       " 'number_diagnoses',\n",
       " 'number_outpatient_log1p',\n",
       " 'num_medications']"
      ]
     },
     "execution_count": 39,
     "metadata": {},
     "output_type": "execute_result"
    }
   ],
   "source": [
    "# get list of only numeric features\n",
    "numerics = list(set(list(df._get_numeric_data().columns))- {'readmitted'})\n",
    "numerics"
   ]
  },
  {
   "cell_type": "code",
   "execution_count": 40,
   "metadata": {},
   "outputs": [
    {
     "data": {
      "text/plain": [
       "encounter_id                   int64\n",
       "patient_nbr                    int64\n",
       "race                          object\n",
       "gender                        object\n",
       "age                            int64\n",
       "admission_type_id             object\n",
       "discharge_disposition_id      object\n",
       "admission_source_id           object\n",
       "time_in_hospital               int64\n",
       "num_lab_procedures             int64\n",
       "num_procedures                 int64\n",
       "num_medications                int64\n",
       "diag_1                        object\n",
       "diag_2                        object\n",
       "diag_3                        object\n",
       "number_diagnoses               int64\n",
       "max_glu_serum                 object\n",
       "A1Cresult                      int64\n",
       "metformin                      int64\n",
       "repaglinide                    int64\n",
       "nateglinide                    int64\n",
       "chlorpropamide                 int64\n",
       "glimepiride                    int64\n",
       "acetohexamide                  int64\n",
       "glipizide                      int64\n",
       "glyburide                      int64\n",
       "tolbutamide                    int64\n",
       "pioglitazone                   int64\n",
       "rosiglitazone                  int64\n",
       "acarbose                       int64\n",
       "miglitol                       int64\n",
       "troglitazone                   int64\n",
       "tolazamide                     int64\n",
       "insulin                        int64\n",
       "glyburide-metformin            int64\n",
       "glipizide-metformin            int64\n",
       "glimepiride-pioglitazone       int64\n",
       "metformin-rosiglitazone        int64\n",
       "metformin-pioglitazone         int64\n",
       "change                         int64\n",
       "diabetesMed                    int64\n",
       "readmitted                    object\n",
       "numchange                      int64\n",
       "level1_diag1                  object\n",
       "level2_diag1                  object\n",
       "level1_diag2                  object\n",
       "level2_diag2                  object\n",
       "level1_diag3                  object\n",
       "level2_diag3                  object\n",
       "nummed                        object\n",
       "number_outpatient_log1p      float64\n",
       "service_utilization_log1p    float64\n",
       "number_inpatient_log1p       float64\n",
       "number_emergency_log1p       float64\n",
       "dtype: object"
      ]
     },
     "execution_count": 40,
     "metadata": {},
     "output_type": "execute_result"
    }
   ],
   "source": [
    "# show list of features that are categorical\n",
    "df.encounter_id = df.encounter_id.astype('int64')\n",
    "df.patient_nbr = df.patient_nbr.astype('int64')\n",
    "df.diabetesMed = df.diabetesMed.astype('int64')\n",
    "df.change = df.change.astype('int64')\n",
    "\n",
    "# convert data type of nominal features in dataframe to 'object' type for aggregating\n",
    "i = ['metformin', 'repaglinide', 'nateglinide', 'chlorpropamide', 'glimepiride', 'acetohexamide', \\\n",
    "          'glipizide', 'glyburide', 'tolbutamide', 'pioglitazone', 'rosiglitazone', 'acarbose','miglitol', \\\n",
    "          'troglitazone', 'tolazamide', 'insulin', 'glyburide-metformin', 'glipizide-metformin', \\\n",
    "          'glimepiride-pioglitazone', 'metformin-rosiglitazone', 'metformin-pioglitazone','A1Cresult']\n",
    "df[i] = df[i].astype('int64')\n",
    "\n",
    "df.dtypes"
   ]
  },
  {
   "cell_type": "code",
   "execution_count": 41,
   "metadata": {},
   "outputs": [],
   "source": [
    "dfcopy = df.copy(deep = True)"
   ]
  },
  {
   "cell_type": "code",
   "execution_count": 42,
   "metadata": {},
   "outputs": [],
   "source": [
    "df['readmitted'] = df['readmitted'].apply(lambda x: 0 if x == 2 else x)"
   ]
  },
  {
   "cell_type": "code",
   "execution_count": 43,
   "metadata": {},
   "outputs": [],
   "source": [
    "# drop individual diagnosis columns that have too granular disease information\n",
    "# also drop level 2 categorization (which was not comparable with any reference)\n",
    "# also drop level 1 secondary and tertiary diagnoses\n",
    "df.drop(['diag_1', 'diag_2', 'diag_3', 'level2_diag1', 'level1_diag2', 'level2_diag2', 'level1_diag3',\n",
    "         'level2_diag3'], axis=1, inplace=True)"
   ]
  },
  {
   "cell_type": "code",
   "execution_count": 44,
   "metadata": {},
   "outputs": [],
   "source": [
    "interactionterms = [('num_medications','time_in_hospital'),\n",
    "('num_medications','num_procedures'),\n",
    "('time_in_hospital','num_lab_procedures'),\n",
    "('num_medications','num_lab_procedures'),\n",
    "('num_medications','number_diagnoses'),\n",
    "('age','number_diagnoses'),\n",
    "('change','num_medications'),\n",
    "('number_diagnoses','time_in_hospital'),\n",
    "('num_medications','numchange')]"
   ]
  },
  {
   "cell_type": "code",
   "execution_count": 45,
   "metadata": {},
   "outputs": [],
   "source": [
    "for inter in interactionterms:\n",
    "    name = inter[0] + '|' + inter[1]\n",
    "    df[name] = df[inter[0]] * df[inter[1]]"
   ]
  },
  {
   "cell_type": "code",
   "execution_count": 46,
   "metadata": {},
   "outputs": [
    {
     "data": {
      "text/html": [
       "<div>\n",
       "<style scoped>\n",
       "    .dataframe tbody tr th:only-of-type {\n",
       "        vertical-align: middle;\n",
       "    }\n",
       "\n",
       "    .dataframe tbody tr th {\n",
       "        vertical-align: top;\n",
       "    }\n",
       "\n",
       "    .dataframe thead th {\n",
       "        text-align: right;\n",
       "    }\n",
       "</style>\n",
       "<table border=\"1\" class=\"dataframe\">\n",
       "  <thead>\n",
       "    <tr style=\"text-align: right;\">\n",
       "      <th></th>\n",
       "      <th>num_medications</th>\n",
       "      <th>time_in_hospital</th>\n",
       "      <th>num_medications|time_in_hospital</th>\n",
       "    </tr>\n",
       "  </thead>\n",
       "  <tbody>\n",
       "    <tr>\n",
       "      <th>1</th>\n",
       "      <td>18</td>\n",
       "      <td>3</td>\n",
       "      <td>54</td>\n",
       "    </tr>\n",
       "    <tr>\n",
       "      <th>2</th>\n",
       "      <td>13</td>\n",
       "      <td>2</td>\n",
       "      <td>26</td>\n",
       "    </tr>\n",
       "    <tr>\n",
       "      <th>3</th>\n",
       "      <td>16</td>\n",
       "      <td>2</td>\n",
       "      <td>32</td>\n",
       "    </tr>\n",
       "    <tr>\n",
       "      <th>4</th>\n",
       "      <td>8</td>\n",
       "      <td>1</td>\n",
       "      <td>8</td>\n",
       "    </tr>\n",
       "    <tr>\n",
       "      <th>5</th>\n",
       "      <td>16</td>\n",
       "      <td>3</td>\n",
       "      <td>48</td>\n",
       "    </tr>\n",
       "  </tbody>\n",
       "</table>\n",
       "</div>"
      ],
      "text/plain": [
       "   num_medications  time_in_hospital  num_medications|time_in_hospital\n",
       "1               18                 3                                54\n",
       "2               13                 2                                26\n",
       "3               16                 2                                32\n",
       "4                8                 1                                 8\n",
       "5               16                 3                                48"
      ]
     },
     "execution_count": 46,
     "metadata": {},
     "output_type": "execute_result"
    }
   ],
   "source": [
    "df[['num_medications','time_in_hospital', 'num_medications|time_in_hospital']].head()"
   ]
  },
  {
   "cell_type": "code",
   "execution_count": 47,
   "metadata": {},
   "outputs": [],
   "source": [
    "# Feature Scaling\n",
    "\n",
    "datf = pd.DataFrame()\n",
    "datf['features'] = numerics\n",
    "datf['std_dev'] = datf['features'].apply(lambda x: df[x].std())\n",
    "datf['mean'] = datf['features'].apply(lambda x: df[x].mean())"
   ]
  },
  {
   "cell_type": "code",
   "execution_count": 48,
   "metadata": {},
   "outputs": [
    {
     "data": {
      "text/plain": [
       "(67580, 55)"
      ]
     },
     "execution_count": 48,
     "metadata": {},
     "output_type": "execute_result"
    }
   ],
   "source": [
    "# dropping multiple encounters while keeping either first or last encounter of these patients\n",
    "df2 = df.drop_duplicates(subset= ['patient_nbr'], keep = 'first')\n",
    "df2.shape"
   ]
  },
  {
   "cell_type": "code",
   "execution_count": 49,
   "metadata": {},
   "outputs": [],
   "source": [
    "# standardize function\n",
    "def standardize(raw_data):\n",
    "    \n",
    "    return ((raw_data - np.mean(raw_data, axis = 0)) / np.std(raw_data, axis = 0))"
   ]
  },
  {
   "cell_type": "code",
   "execution_count": 50,
   "metadata": {},
   "outputs": [
    {
     "name": "stderr",
     "output_type": "stream",
     "text": [
      "C:\\Users\\allah\\AppData\\Local\\Temp\\ipykernel_5796\\315931361.py:1: SettingWithCopyWarning: \n",
      "A value is trying to be set on a copy of a slice from a DataFrame.\n",
      "Try using .loc[row_indexer,col_indexer] = value instead\n",
      "\n",
      "See the caveats in the documentation: https://pandas.pydata.org/pandas-docs/stable/user_guide/indexing.html#returning-a-view-versus-a-copy\n",
      "  df2.loc[:, numerics] = standardize(df2[numerics])\n"
     ]
    }
   ],
   "source": [
    "df2.loc[:, numerics] = standardize(df2[numerics])\n",
    "import scipy as sp\n",
    "\n",
    "df2 = df2[(np.abs(sp.stats.zscore(df2[numerics])) < 3).all(axis=1)]"
   ]
  },
  {
   "cell_type": "code",
   "execution_count": null,
   "metadata": {},
   "outputs": [],
   "source": []
  },
  {
   "cell_type": "code",
   "execution_count": 51,
   "metadata": {},
   "outputs": [
    {
     "name": "stderr",
     "output_type": "stream",
     "text": [
      "C:\\Users\\allah\\AppData\\Local\\Temp\\ipykernel_5796\\913739909.py:1: SettingWithCopyWarning: \n",
      "A value is trying to be set on a copy of a slice from a DataFrame.\n",
      "Try using .loc[row_indexer,col_indexer] = value instead\n",
      "\n",
      "See the caveats in the documentation: https://pandas.pydata.org/pandas-docs/stable/user_guide/indexing.html#returning-a-view-versus-a-copy\n",
      "  df2['level1_diag1'] = df2['level1_diag1'].astype('object')\n",
      "C:\\Users\\allah\\anaconda3\\lib\\site-packages\\pandas\\core\\algorithms.py:798: FutureWarning: In a future version, the Index constructor will not infer numeric dtypes when passed object-dtype sequences (matching Series behavior)\n",
      "  uniques = Index(uniques)\n"
     ]
    }
   ],
   "source": [
    "df2['level1_diag1'] = df2['level1_diag1'].astype('object')\n",
    "df_pd = pd.get_dummies(df2, columns=['gender', 'admission_type_id', 'discharge_disposition_id',\n",
    "                                      'admission_source_id', 'max_glu_serum', 'A1Cresult', 'level1_diag1'], drop_first = True)\n",
    "just_dummies = pd.get_dummies(df_pd['race'])\n",
    "df_pd = pd.concat([df_pd, just_dummies], axis=1)      \n",
    "df_pd.drop(['race'], inplace=True, axis=1)"
   ]
  },
  {
   "cell_type": "code",
   "execution_count": 52,
   "metadata": {},
   "outputs": [],
   "source": [
    "non_num_cols = ['race', 'gender', 'admission_type_id', 'discharge_disposition_id', 'admission_source_id', \n",
    "                'max_glu_serum', 'A1Cresult', 'level1_diag1' ]"
   ]
  },
  {
   "cell_type": "code",
   "execution_count": 53,
   "metadata": {},
   "outputs": [
    {
     "data": {
      "text/plain": [
       "['service_utilization_log1p',\n",
       " 'tolazamide',\n",
       " 'age',\n",
       " 'num_medications|number_diagnoses',\n",
       " 'chlorpropamide',\n",
       " 'num_procedures',\n",
       " 'change|num_medications',\n",
       " 'numchange',\n",
       " 'num_medications|num_procedures',\n",
       " 'number_diagnoses|time_in_hospital',\n",
       " 'acetohexamide',\n",
       " 'patient_nbr',\n",
       " 'insulin',\n",
       " 'tolbutamide',\n",
       " 'glyburide',\n",
       " 'num_medications|num_lab_procedures',\n",
       " 'nateglinide',\n",
       " 'metformin',\n",
       " 'pioglitazone',\n",
       " 'age|number_diagnoses',\n",
       " 'metformin-pioglitazone',\n",
       " 'glipizide',\n",
       " 'rosiglitazone',\n",
       " 'repaglinide',\n",
       " 'miglitol',\n",
       " 'glipizide-metformin',\n",
       " 'acarbose',\n",
       " 'number_inpatient_log1p',\n",
       " 'num_lab_procedures',\n",
       " 'A1Cresult',\n",
       " 'num_medications|numchange',\n",
       " 'number_diagnoses',\n",
       " 'glimepiride-pioglitazone',\n",
       " 'glimepiride',\n",
       " 'glyburide-metformin',\n",
       " 'metformin-rosiglitazone',\n",
       " 'diabetesMed',\n",
       " 'encounter_id',\n",
       " 'num_medications|time_in_hospital',\n",
       " 'time_in_hospital',\n",
       " 'time_in_hospital|num_lab_procedures',\n",
       " 'number_emergency_log1p',\n",
       " 'number_outpatient_log1p',\n",
       " 'num_medications',\n",
       " 'troglitazone']"
      ]
     },
     "execution_count": 53,
     "metadata": {},
     "output_type": "execute_result"
    }
   ],
   "source": [
    "num_cols = list(set(list(df._get_numeric_data().columns))- {'readmitted', 'change'})\n",
    "num_cols"
   ]
  },
  {
   "cell_type": "code",
   "execution_count": 54,
   "metadata": {},
   "outputs": [],
   "source": [
    "new_non_num_cols = []\n",
    "for i in non_num_cols:\n",
    "    for j in df_pd.columns:\n",
    "        if i in j:\n",
    "            new_non_num_cols.append(j)"
   ]
  },
  {
   "cell_type": "code",
   "execution_count": 55,
   "metadata": {},
   "outputs": [
    {
     "data": {
      "text/plain": [
       "['gender_1',\n",
       " 'admission_type_id_3',\n",
       " 'admission_type_id_4',\n",
       " 'admission_type_id_5',\n",
       " 'discharge_disposition_id_2',\n",
       " 'discharge_disposition_id_7',\n",
       " 'discharge_disposition_id_10',\n",
       " 'discharge_disposition_id_18',\n",
       " 'discharge_disposition_id_19',\n",
       " 'discharge_disposition_id_20',\n",
       " 'discharge_disposition_id_27',\n",
       " 'discharge_disposition_id_28',\n",
       " 'admission_source_id_4',\n",
       " 'admission_source_id_7',\n",
       " 'admission_source_id_8',\n",
       " 'admission_source_id_9',\n",
       " 'admission_source_id_11',\n",
       " 'max_glu_serum_0',\n",
       " 'max_glu_serum_1',\n",
       " 'A1Cresult_0',\n",
       " 'A1Cresult_1',\n",
       " 'level1_diag1_1.0',\n",
       " 'level1_diag1_2.0',\n",
       " 'level1_diag1_3.0',\n",
       " 'level1_diag1_4.0',\n",
       " 'level1_diag1_5.0',\n",
       " 'level1_diag1_6.0',\n",
       " 'level1_diag1_7.0',\n",
       " 'level1_diag1_8.0']"
      ]
     },
     "execution_count": 55,
     "metadata": {},
     "output_type": "execute_result"
    }
   ],
   "source": [
    "new_non_num_cols"
   ]
  },
  {
   "cell_type": "code",
   "execution_count": 56,
   "metadata": {},
   "outputs": [
    {
     "data": {
      "text/plain": [
       "['num_medications|time_in_hospital',\n",
       " 'num_medications|num_procedures',\n",
       " 'time_in_hospital|num_lab_procedures',\n",
       " 'num_medications|num_lab_procedures',\n",
       " 'num_medications|number_diagnoses',\n",
       " 'age|number_diagnoses',\n",
       " 'change|num_medications',\n",
       " 'number_diagnoses|time_in_hospital',\n",
       " 'num_medications|numchange']"
      ]
     },
     "execution_count": 56,
     "metadata": {},
     "output_type": "execute_result"
    }
   ],
   "source": [
    "l = []\n",
    "for feature in list(df_pd.columns):\n",
    "    if '|' in feature:\n",
    "        l.append(feature)\n",
    "l"
   ]
  },
  {
   "cell_type": "code",
   "execution_count": 57,
   "metadata": {},
   "outputs": [
    {
     "data": {
      "text/html": [
       "<div>\n",
       "<style scoped>\n",
       "    .dataframe tbody tr th:only-of-type {\n",
       "        vertical-align: middle;\n",
       "    }\n",
       "\n",
       "    .dataframe tbody tr th {\n",
       "        vertical-align: top;\n",
       "    }\n",
       "\n",
       "    .dataframe thead th {\n",
       "        text-align: right;\n",
       "    }\n",
       "</style>\n",
       "<table border=\"1\" class=\"dataframe\">\n",
       "  <thead>\n",
       "    <tr style=\"text-align: right;\">\n",
       "      <th></th>\n",
       "      <th>2</th>\n",
       "      <th>3</th>\n",
       "      <th>4</th>\n",
       "      <th>5</th>\n",
       "      <th>6</th>\n",
       "    </tr>\n",
       "  </thead>\n",
       "  <tbody>\n",
       "    <tr>\n",
       "      <th>encounter_id</th>\n",
       "      <td>64410</td>\n",
       "      <td>500364</td>\n",
       "      <td>16680</td>\n",
       "      <td>35754</td>\n",
       "      <td>55842</td>\n",
       "    </tr>\n",
       "    <tr>\n",
       "      <th>patient_nbr</th>\n",
       "      <td>86047875</td>\n",
       "      <td>82442376</td>\n",
       "      <td>42519267</td>\n",
       "      <td>82637451</td>\n",
       "      <td>84259809</td>\n",
       "    </tr>\n",
       "    <tr>\n",
       "      <th>age</th>\n",
       "      <td>-2.622071</td>\n",
       "      <td>-1.98036</td>\n",
       "      <td>-1.338649</td>\n",
       "      <td>-0.696937</td>\n",
       "      <td>-0.055226</td>\n",
       "    </tr>\n",
       "    <tr>\n",
       "      <th>time_in_hospital</th>\n",
       "      <td>-0.784109</td>\n",
       "      <td>-0.784109</td>\n",
       "      <td>-1.123345</td>\n",
       "      <td>-0.444872</td>\n",
       "      <td>-0.105636</td>\n",
       "    </tr>\n",
       "    <tr>\n",
       "      <th>num_lab_procedures</th>\n",
       "      <td>-1.60206</td>\n",
       "      <td>0.051835</td>\n",
       "      <td>0.402661</td>\n",
       "      <td>-0.5997</td>\n",
       "      <td>1.354904</td>\n",
       "    </tr>\n",
       "    <tr>\n",
       "      <th>...</th>\n",
       "      <td>...</td>\n",
       "      <td>...</td>\n",
       "      <td>...</td>\n",
       "      <td>...</td>\n",
       "      <td>...</td>\n",
       "    </tr>\n",
       "    <tr>\n",
       "      <th>AfricanAmerican</th>\n",
       "      <td>1</td>\n",
       "      <td>0</td>\n",
       "      <td>0</td>\n",
       "      <td>0</td>\n",
       "      <td>0</td>\n",
       "    </tr>\n",
       "    <tr>\n",
       "      <th>Asian</th>\n",
       "      <td>0</td>\n",
       "      <td>0</td>\n",
       "      <td>0</td>\n",
       "      <td>0</td>\n",
       "      <td>0</td>\n",
       "    </tr>\n",
       "    <tr>\n",
       "      <th>Caucasian</th>\n",
       "      <td>0</td>\n",
       "      <td>1</td>\n",
       "      <td>1</td>\n",
       "      <td>1</td>\n",
       "      <td>1</td>\n",
       "    </tr>\n",
       "    <tr>\n",
       "      <th>Hispanic</th>\n",
       "      <td>0</td>\n",
       "      <td>0</td>\n",
       "      <td>0</td>\n",
       "      <td>0</td>\n",
       "      <td>0</td>\n",
       "    </tr>\n",
       "    <tr>\n",
       "      <th>Other</th>\n",
       "      <td>0</td>\n",
       "      <td>0</td>\n",
       "      <td>0</td>\n",
       "      <td>0</td>\n",
       "      <td>0</td>\n",
       "    </tr>\n",
       "  </tbody>\n",
       "</table>\n",
       "<p>81 rows × 5 columns</p>\n",
       "</div>"
      ],
      "text/plain": [
       "                           2         3         4         5         6\n",
       "encounter_id           64410    500364     16680     35754     55842\n",
       "patient_nbr         86047875  82442376  42519267  82637451  84259809\n",
       "age                -2.622071  -1.98036 -1.338649 -0.696937 -0.055226\n",
       "time_in_hospital   -0.784109 -0.784109 -1.123345 -0.444872 -0.105636\n",
       "num_lab_procedures  -1.60206  0.051835  0.402661   -0.5997  1.354904\n",
       "...                      ...       ...       ...       ...       ...\n",
       "AfricanAmerican            1         0         0         0         0\n",
       "Asian                      0         0         0         0         0\n",
       "Caucasian                  0         1         1         1         1\n",
       "Hispanic                   0         0         0         0         0\n",
       "Other                      0         0         0         0         0\n",
       "\n",
       "[81 rows x 5 columns]"
      ]
     },
     "execution_count": 57,
     "metadata": {},
     "output_type": "execute_result"
    }
   ],
   "source": [
    "df_pd.head().T"
   ]
  },
  {
   "cell_type": "markdown",
   "metadata": {},
   "source": [
    "## Modeling"
   ]
  },
  {
   "cell_type": "code",
   "execution_count": 58,
   "metadata": {},
   "outputs": [],
   "source": [
    "# Modeling\n",
    "feature_set = ['age', 'time_in_hospital', 'num_procedures', 'num_medications', 'number_outpatient_log1p', \n",
    "               'number_emergency_log1p', 'number_inpatient_log1p', 'number_diagnoses', 'metformin', \n",
    "               'repaglinide', 'nateglinide', 'chlorpropamide', 'glimepiride', 'glipizide', 'glyburide',\n",
    "               'pioglitazone', 'rosiglitazone', 'acarbose', 'tolazamide', 'insulin', 'glyburide-metformin',\n",
    "               'AfricanAmerican', 'Asian', 'Caucasian', 'Hispanic', 'Other', 'gender_1', \n",
    "               'admission_type_id_3', 'admission_type_id_5', 'discharge_disposition_id_2', 'discharge_disposition_id_7', \n",
    "               'discharge_disposition_id_10', 'discharge_disposition_id_18', 'admission_source_id_4',\n",
    "               'admission_source_id_7', 'admission_source_id_9', 'max_glu_serum_0', 'max_glu_serum_1', 'A1Cresult_0',\n",
    "               'A1Cresult_1', 'num_medications|time_in_hospital', 'num_medications|num_procedures',\n",
    "               'time_in_hospital|num_lab_procedures', 'num_medications|num_lab_procedures', 'num_medications|number_diagnoses',\n",
    "               'age|number_diagnoses', 'change|num_medications', 'number_diagnoses|time_in_hospital',\n",
    "               'num_medications|numchange', 'level1_diag1_1.0', 'level1_diag1_2.0', 'level1_diag1_3.0', 'level1_diag1_4.0',\n",
    "               'level1_diag1_5.0','level1_diag1_6.0', 'level1_diag1_7.0', 'level1_diag1_8.0']\n",
    "\n"
   ]
  },
  {
   "cell_type": "code",
   "execution_count": 59,
   "metadata": {},
   "outputs": [],
   "source": [
    "# Extracting feature columns from df_pd after one-hot encoding\n",
    "feature_cols_after_encoding = df_pd.columns[df_pd.columns.isin(feature_set)]\n",
    "\n",
    "# Extracting the target column 'readmitted'\n",
    "target_col = 'readmitted'\n",
    "\n",
    "# Creating the updated feature_set\n",
    "updated_feature_set = list(feature_cols_after_encoding) + [target_col]\n",
    "\n",
    "# Splitting the DataFrame into features (X) and target (y)\n",
    "X = df_pd[feature_cols_after_encoding]\n",
    "y = df_pd[target_col]"
   ]
  },
  {
   "cell_type": "markdown",
   "metadata": {},
   "source": [
    "### Logistic Regression"
   ]
  },
  {
   "cell_type": "code",
   "execution_count": 60,
   "metadata": {},
   "outputs": [
    {
     "data": {
      "text/plain": [
       "0    54270\n",
       "1     5053\n",
       "Name: readmitted, dtype: int64"
      ]
     },
     "execution_count": 60,
     "metadata": {},
     "output_type": "execute_result"
    }
   ],
   "source": [
    "df_pd['readmitted'].value_counts()"
   ]
  },
  {
   "cell_type": "code",
   "execution_count": 61,
   "metadata": {},
   "outputs": [
    {
     "name": "stderr",
     "output_type": "stream",
     "text": [
      "C:\\Users\\allah\\anaconda3\\lib\\site-packages\\sklearn\\linear_model\\_logistic.py:814: ConvergenceWarning: lbfgs failed to converge (status=1):\n",
      "STOP: TOTAL NO. of ITERATIONS REACHED LIMIT.\n",
      "\n",
      "Increase the number of iterations (max_iter) or scale the data as shown in:\n",
      "    https://scikit-learn.org/stable/modules/preprocessing.html\n",
      "Please also refer to the documentation for alternative solver options:\n",
      "    https://scikit-learn.org/stable/modules/linear_model.html#logistic-regression\n",
      "  n_iter_i = _check_optimize_result(\n"
     ]
    },
    {
     "data": {
      "text/plain": [
       "LogisticRegression()"
      ]
     },
     "execution_count": 61,
     "metadata": {},
     "output_type": "execute_result"
    }
   ],
   "source": [
    "from sklearn.model_selection import train_test_split\n",
    "from sklearn.linear_model import LogisticRegression\n",
    "from sklearn.model_selection import cross_val_score\n",
    "X_train, X_test, y_train, y_test = train_test_split(X, y, test_size=0.20, random_state=0)\n",
    "logit = LogisticRegression(fit_intercept=True, penalty='l2')\n",
    "logit.fit(X_train, y_train)"
   ]
  },
  {
   "cell_type": "code",
   "execution_count": 62,
   "metadata": {},
   "outputs": [
    {
     "data": {
      "text/html": [
       "<div>\n",
       "<style scoped>\n",
       "    .dataframe tbody tr th:only-of-type {\n",
       "        vertical-align: middle;\n",
       "    }\n",
       "\n",
       "    .dataframe tbody tr th {\n",
       "        vertical-align: top;\n",
       "    }\n",
       "\n",
       "    .dataframe thead th {\n",
       "        text-align: right;\n",
       "    }\n",
       "</style>\n",
       "<table border=\"1\" class=\"dataframe\">\n",
       "  <thead>\n",
       "    <tr style=\"text-align: right;\">\n",
       "      <th>Predict</th>\n",
       "      <th>0</th>\n",
       "      <th>All</th>\n",
       "    </tr>\n",
       "    <tr>\n",
       "      <th>Actual</th>\n",
       "      <th></th>\n",
       "      <th></th>\n",
       "    </tr>\n",
       "  </thead>\n",
       "  <tbody>\n",
       "    <tr>\n",
       "      <th>0</th>\n",
       "      <td>1444</td>\n",
       "      <td>1444</td>\n",
       "    </tr>\n",
       "    <tr>\n",
       "      <th>1</th>\n",
       "      <td>146</td>\n",
       "      <td>146</td>\n",
       "    </tr>\n",
       "    <tr>\n",
       "      <th>All</th>\n",
       "      <td>1590</td>\n",
       "      <td>1590</td>\n",
       "    </tr>\n",
       "  </tbody>\n",
       "</table>\n",
       "</div>"
      ],
      "text/plain": [
       "Predict     0   All\n",
       "Actual             \n",
       "0        1444  1444\n",
       "1         146   146\n",
       "All      1590  1590"
      ]
     },
     "execution_count": 62,
     "metadata": {},
     "output_type": "execute_result"
    }
   ],
   "source": [
    "logit_pred = logit.predict(X_test)\n",
    "pd.crosstab(pd.Series(y_test, name = 'Actual'), pd.Series(logit_pred, name = 'Predict'), margins = True)"
   ]
  },
  {
   "cell_type": "code",
   "execution_count": 63,
   "metadata": {},
   "outputs": [
    {
     "name": "stdout",
     "output_type": "stream",
     "text": [
      "Accuracy is 0.91\n",
      "Precision is 0.00\n",
      "Recall is 0.00\n"
     ]
    },
    {
     "name": "stderr",
     "output_type": "stream",
     "text": [
      "C:\\Users\\allah\\anaconda3\\lib\\site-packages\\sklearn\\metrics\\_classification.py:1318: UndefinedMetricWarning: Precision is ill-defined and being set to 0.0 due to no predicted samples. Use `zero_division` parameter to control this behavior.\n",
      "  _warn_prf(average, modifier, msg_start, len(result))\n"
     ]
    }
   ],
   "source": [
    "from sklearn.metrics import accuracy_score, precision_score, recall_score\n",
    "print(\"Accuracy is {0:.2f}\".format(accuracy_score(y_test, logit_pred)))\n",
    "print(\"Precision is {0:.2f}\".format(precision_score(y_test, logit_pred)))\n",
    "print(\"Recall is {0:.2f}\".format(recall_score(y_test, logit_pred)))"
   ]
  },
  {
   "cell_type": "markdown",
   "metadata": {},
   "source": [
    "Since our target variable is having class imbalance problem, So will use SMOTE technique to resolve it\n"
   ]
  },
  {
   "cell_type": "code",
   "execution_count": 64,
   "metadata": {},
   "outputs": [
    {
     "name": "stdout",
     "output_type": "stream",
     "text": [
      "Original dataset shape Counter({0: 43421, 1: 4037})\n",
      "New dataset shape Counter({0: 43421, 1: 43421})\n"
     ]
    }
   ],
   "source": [
    "from imblearn.over_sampling import SMOTE\n",
    "from collections import Counter\n",
    "\n",
    "print('Original dataset shape {}'.format(Counter(y_train)))\n",
    "sm = SMOTE(random_state=20)\n",
    "train_input_new, train_output_new = sm.fit_resample(X_train, y_train)\n",
    "print('New dataset shape {}'.format(Counter(train_output_new)))\n"
   ]
  },
  {
   "cell_type": "code",
   "execution_count": 65,
   "metadata": {},
   "outputs": [
    {
     "name": "stderr",
     "output_type": "stream",
     "text": [
      "C:\\Users\\allah\\anaconda3\\lib\\site-packages\\sklearn\\linear_model\\_logistic.py:814: ConvergenceWarning: lbfgs failed to converge (status=1):\n",
      "STOP: TOTAL NO. of ITERATIONS REACHED LIMIT.\n",
      "\n",
      "Increase the number of iterations (max_iter) or scale the data as shown in:\n",
      "    https://scikit-learn.org/stable/modules/preprocessing.html\n",
      "Please also refer to the documentation for alternative solver options:\n",
      "    https://scikit-learn.org/stable/modules/linear_model.html#logistic-regression\n",
      "  n_iter_i = _check_optimize_result(\n"
     ]
    },
    {
     "data": {
      "text/plain": [
       "LogisticRegression()"
      ]
     },
     "execution_count": 65,
     "metadata": {},
     "output_type": "execute_result"
    }
   ],
   "source": [
    "train_input_new = pd.DataFrame(train_input_new, columns = list(X.columns))\n",
    "from sklearn.model_selection import train_test_split\n",
    "from sklearn.linear_model import LogisticRegression\n",
    "from sklearn.model_selection import cross_val_score\n",
    "X_train, X_test, y_train, y_test = train_test_split(train_input_new, train_output_new, test_size=0.20, random_state=0)\n",
    "logit = LogisticRegression(fit_intercept=True, penalty='l2')\n",
    "logit.fit(X_train, y_train)"
   ]
  },
  {
   "cell_type": "code",
   "execution_count": 66,
   "metadata": {},
   "outputs": [
    {
     "name": "stdout",
     "output_type": "stream",
     "text": [
      "Index(['encounter_id', 'patient_nbr', 'age', 'time_in_hospital',\n",
      "       'num_lab_procedures', 'num_procedures', 'num_medications',\n",
      "       'number_diagnoses', 'metformin', 'repaglinide', 'nateglinide',\n",
      "       'chlorpropamide', 'glimepiride', 'acetohexamide', 'glipizide',\n",
      "       'glyburide', 'tolbutamide', 'pioglitazone', 'rosiglitazone', 'acarbose',\n",
      "       'miglitol', 'troglitazone', 'tolazamide', 'insulin',\n",
      "       'glyburide-metformin', 'glipizide-metformin',\n",
      "       'glimepiride-pioglitazone', 'metformin-rosiglitazone',\n",
      "       'metformin-pioglitazone', 'change', 'diabetesMed', 'readmitted',\n",
      "       'numchange', 'nummed', 'number_outpatient_log1p',\n",
      "       'service_utilization_log1p', 'number_inpatient_log1p',\n",
      "       'number_emergency_log1p', 'num_medications|time_in_hospital',\n",
      "       'num_medications|num_procedures', 'time_in_hospital|num_lab_procedures',\n",
      "       'num_medications|num_lab_procedures',\n",
      "       'num_medications|number_diagnoses', 'age|number_diagnoses',\n",
      "       'change|num_medications', 'number_diagnoses|time_in_hospital',\n",
      "       'num_medications|numchange', 'gender_1', 'admission_type_id_3',\n",
      "       'admission_type_id_4', 'admission_type_id_5',\n",
      "       'discharge_disposition_id_2', 'discharge_disposition_id_7',\n",
      "       'discharge_disposition_id_10', 'discharge_disposition_id_18',\n",
      "       'discharge_disposition_id_19', 'discharge_disposition_id_20',\n",
      "       'discharge_disposition_id_27', 'discharge_disposition_id_28',\n",
      "       'admission_source_id_4', 'admission_source_id_7',\n",
      "       'admission_source_id_8', 'admission_source_id_9',\n",
      "       'admission_source_id_11', 'max_glu_serum_0', 'max_glu_serum_1',\n",
      "       'A1Cresult_0', 'A1Cresult_1', 'level1_diag1_1.0', 'level1_diag1_2.0',\n",
      "       'level1_diag1_3.0', 'level1_diag1_4.0', 'level1_diag1_5.0',\n",
      "       'level1_diag1_6.0', 'level1_diag1_7.0', 'level1_diag1_8.0',\n",
      "       'AfricanAmerican', 'Asian', 'Caucasian', 'Hispanic', 'Other'],\n",
      "      dtype='object')\n"
     ]
    },
    {
     "data": {
      "text/html": [
       "<div>\n",
       "<style scoped>\n",
       "    .dataframe tbody tr th:only-of-type {\n",
       "        vertical-align: middle;\n",
       "    }\n",
       "\n",
       "    .dataframe tbody tr th {\n",
       "        vertical-align: top;\n",
       "    }\n",
       "\n",
       "    .dataframe thead th {\n",
       "        text-align: right;\n",
       "    }\n",
       "</style>\n",
       "<table border=\"1\" class=\"dataframe\">\n",
       "  <thead>\n",
       "    <tr style=\"text-align: right;\">\n",
       "      <th>Predict</th>\n",
       "      <th>0</th>\n",
       "      <th>1</th>\n",
       "      <th>All</th>\n",
       "    </tr>\n",
       "    <tr>\n",
       "      <th>Actual</th>\n",
       "      <th></th>\n",
       "      <th></th>\n",
       "      <th></th>\n",
       "    </tr>\n",
       "  </thead>\n",
       "  <tbody>\n",
       "    <tr>\n",
       "      <th>0</th>\n",
       "      <td>1817</td>\n",
       "      <td>1341</td>\n",
       "      <td>3158</td>\n",
       "    </tr>\n",
       "    <tr>\n",
       "      <th>1</th>\n",
       "      <td>171</td>\n",
       "      <td>105</td>\n",
       "      <td>276</td>\n",
       "    </tr>\n",
       "    <tr>\n",
       "      <th>All</th>\n",
       "      <td>1988</td>\n",
       "      <td>1446</td>\n",
       "      <td>3434</td>\n",
       "    </tr>\n",
       "  </tbody>\n",
       "</table>\n",
       "</div>"
      ],
      "text/plain": [
       "Predict     0     1   All\n",
       "Actual                   \n",
       "0        1817  1341  3158\n",
       "1         171   105   276\n",
       "All      1988  1446  3434"
      ]
     },
     "execution_count": 66,
     "metadata": {},
     "output_type": "execute_result"
    }
   ],
   "source": [
    "logit_pred = logit.predict(X_test)\n",
    "print(df_pd.columns)\n",
    "\n",
    "pd.crosstab(pd.Series(y_test, name = 'Actual'), pd.Series(logit_pred, name = 'Predict'), margins = True)"
   ]
  },
  {
   "cell_type": "code",
   "execution_count": 109,
   "metadata": {},
   "outputs": [
    {
     "name": "stdout",
     "output_type": "stream",
     "text": [
      "Original dataset shape Counter({0: 54270, 1: 5053})\n",
      "New dataset shape Counter({0: 54270, 1: 54270})\n",
      "              precision    recall  f1-score   support\n",
      "\n",
      "           0       0.86      0.87      0.86     10871\n",
      "           1       0.87      0.85      0.86     10837\n",
      "\n",
      "    accuracy                           0.86     21708\n",
      "   macro avg       0.86      0.86      0.86     21708\n",
      "weighted avg       0.86      0.86      0.86     21708\n",
      "\n",
      "Confusion Matrix:\n",
      " [[9475 1396]\n",
      " [1574 9263]]\n"
     ]
    },
    {
     "name": "stderr",
     "output_type": "stream",
     "text": [
      "C:\\Users\\allah\\anaconda3\\lib\\site-packages\\sklearn\\linear_model\\_logistic.py:814: ConvergenceWarning: lbfgs failed to converge (status=1):\n",
      "STOP: TOTAL NO. of ITERATIONS REACHED LIMIT.\n",
      "\n",
      "Increase the number of iterations (max_iter) or scale the data as shown in:\n",
      "    https://scikit-learn.org/stable/modules/preprocessing.html\n",
      "Please also refer to the documentation for alternative solver options:\n",
      "    https://scikit-learn.org/stable/modules/linear_model.html#logistic-regression\n",
      "  n_iter_i = _check_optimize_result(\n",
      "C:\\Users\\allah\\anaconda3\\lib\\site-packages\\sklearn\\utils\\deprecation.py:87: FutureWarning: Function plot_confusion_matrix is deprecated; Function `plot_confusion_matrix` is deprecated in 1.0 and will be removed in 1.2. Use one of the class methods: ConfusionMatrixDisplay.from_predictions or ConfusionMatrixDisplay.from_estimator.\n",
      "  warnings.warn(msg, category=FutureWarning)\n"
     ]
    },
    {
     "data": {
      "image/png": "[encoded data removed]",
      "text/plain": [
       "<Figure size 576x432 with 2 Axes>"
      ]
     },
     "metadata": {
      "needs_background": "light"
     },
     "output_type": "display_data"
    },
    {
     "name": "stderr",
     "output_type": "stream",
     "text": [
      "C:\\Users\\allah\\anaconda3\\lib\\site-packages\\sklearn\\base.py:493: FutureWarning: The feature names should match those that were passed during fit. Starting version 1.2, an error will be raised.\n",
      "Feature names must be in the same order as they were in fit.\n",
      "\n",
      "  warnings.warn(message, FutureWarning)\n",
      "C:\\Users\\allah\\anaconda3\\lib\\site-packages\\sklearn\\metrics\\_classification.py:1318: UndefinedMetricWarning: Precision is ill-defined and being set to 0.0 due to no predicted samples. Use `zero_division` parameter to control this behavior.\n",
      "  _warn_prf(average, modifier, msg_start, len(result))\n"
     ]
    }
   ],
   "source": [
    "# Import des bibliothèques nécessaires\n",
    "from sklearn.linear_model import LogisticRegression\n",
    "from imblearn.over_sampling import SMOTE\n",
    "from collections import Counter\n",
    "from sklearn.model_selection import train_test_split\n",
    "from sklearn.metrics import classification_report, confusion_matrix\n",
    "import matplotlib.pyplot as plt\n",
    "from sklearn.metrics import plot_confusion_matrix\n",
    "\n",
    "# Définition des caractéristiques (X) et de la cible (y)\n",
    "X = df_pd[feature_set]\n",
    "y = df_pd['readmitted']\n",
    "\n",
    "# Affichage du nombre de valeurs dans la cible d'origine\n",
    "print('Original dataset shape {}'.format(Counter(y)))\n",
    "\n",
    "# Application de la technique SMOTE pour gérer le déséquilibre de classe\n",
    "smt = SMOTE(random_state=20)\n",
    "X_resampled, y_resampled = smt.fit_resample(X, y)\n",
    "\n",
    "# Affichage du nouveau nombre de valeurs dans la cible après SMOTE\n",
    "print('New dataset shape {}'.format(Counter(y_resampled)))\n",
    "\n",
    "# Fractionnement des données en ensembles d'entraînement et de test\n",
    "X_train, X_test, y_train, y_test = train_test_split(X_resampled, y_resampled, test_size=0.20, random_state=0)\n",
    "\n",
    "# Création et entraînement du modèle de régression logistique\n",
    "logistic_reg = LogisticRegression(max_iter=1000)\n",
    "logistic_reg.fit(X_train, y_train)\n",
    "\n",
    "# Prédiction\n",
    "y_pred = logistic_reg.predict(X_test)\n",
    "\n",
    "# Affichage du rapport de classification\n",
    "print(classification_report(y_test, y_pred))\n",
    "\n",
    "# Matrice de confusion\n",
    "conf_matrix = confusion_matrix(y_test, y_pred)\n",
    "print(\"Confusion Matrix:\\n\", conf_matrix)\n",
    "\n",
    "# Affichage de la matrice de confusion\n",
    "fig, ax = plt.subplots(figsize=(8, 6))\n",
    "plot_confusion_matrix(logistic_reg, X_test, y_test, \n",
    "                      display_labels=['Not Readmitted', 'Readmitted'],\n",
    "                      cmap=plt.cm.Blues, \n",
    "                      ax=ax)\n",
    "plt.title('Confusion Matrix')\n",
    "plt.show()\n",
    "\n",
    "\n",
    "from sklearn.metrics import accuracy_score, precision_score, recall_score\n",
    "\n",
    "# Compute predictions\n",
    "logit_pred = logit.predict(X_test)\n",
    "\n",
    "# Calculate accuracy\n",
    "accuracy_logit = accuracy_score(y_test, logit_pred)\n",
    "\n",
    "# Calculate precision\n",
    "precision_logit = precision_score(y_test, logit_pred)\n",
    "\n",
    "# Calculate recall\n",
    "recall_logit = recall_score(y_test, logit_pred)\n",
    "\n"
   ]
  },
  {
   "cell_type": "markdown",
   "metadata": {},
   "source": [
    "### Decision Tree"
   ]
  },
  {
   "cell_type": "code",
   "execution_count": 73,
   "metadata": {},
   "outputs": [],
   "source": [
    "feature_set_no_int = ['age', 'time_in_hospital', 'num_procedures', 'num_medications', 'number_outpatient_log1p', \n",
    "                 'number_emergency_log1p', 'number_inpatient_log1p', 'number_diagnoses', 'metformin', \n",
    "                 'repaglinide', 'nateglinide', 'chlorpropamide', 'glimepiride', 'glipizide', \n",
    "                 'glyburide', 'pioglitazone', 'rosiglitazone', 'acarbose', \n",
    "                 'tolazamide', 'insulin', 'glyburide-metformin',\n",
    "                 'AfricanAmerican', 'Asian', 'Caucasian', \n",
    "                 'Hispanic', 'Other', 'gender_1', \n",
    "                 'admission_type_id_3', 'admission_type_id_5', \n",
    "                 'discharge_disposition_id_2', 'discharge_disposition_id_7', \n",
    "                 'discharge_disposition_id_10', 'discharge_disposition_id_18', \n",
    "                 'admission_source_id_4', 'admission_source_id_7', \n",
    "                 'admission_source_id_9', 'max_glu_serum_0', \n",
    "                 'max_glu_serum_1', 'A1Cresult_0', 'A1Cresult_1', \n",
    "                 'level1_diag1_1.0',\n",
    "                 'level1_diag1_2.0',\n",
    "                 'level1_diag1_3.0',\n",
    "                 'level1_diag1_4.0',\n",
    "                 'level1_diag1_5.0',\n",
    "                 'level1_diag1_6.0',\n",
    "                 'level1_diag1_7.0',\n",
    "                 'level1_diag1_8.0']"
   ]
  },
  {
   "cell_type": "code",
   "execution_count": 74,
   "metadata": {},
   "outputs": [
    {
     "data": {
      "text/plain": [
       "0    54270\n",
       "1     5053\n",
       "Name: readmitted, dtype: int64"
      ]
     },
     "execution_count": 74,
     "metadata": {},
     "output_type": "execute_result"
    }
   ],
   "source": [
    "X = df_pd[feature_set_no_int]\n",
    "y = df_pd['readmitted']\n",
    "df_pd['readmitted'].value_counts()"
   ]
  },
  {
   "cell_type": "code",
   "execution_count": 75,
   "metadata": {
    "scrolled": true
   },
   "outputs": [
    {
     "name": "stdout",
     "output_type": "stream",
     "text": [
      "Original dataset shape Counter({0: 54270, 1: 5053})\n",
      "New dataset shape Counter({0: 54270, 1: 54270})\n",
      "              precision    recall  f1-score   support\n",
      "\n",
      "           0       0.91      0.88      0.89     10871\n",
      "           1       0.88      0.91      0.90     10837\n",
      "\n",
      "    accuracy                           0.90     21708\n",
      "   macro avg       0.90      0.90      0.90     21708\n",
      "weighted avg       0.90      0.90      0.90     21708\n",
      "\n",
      "Confusion Matrix:\n",
      " [[9581 1290]\n",
      " [ 986 9851]]\n"
     ]
    },
    {
     "name": "stderr",
     "output_type": "stream",
     "text": [
      "C:\\Users\\allah\\anaconda3\\lib\\site-packages\\sklearn\\utils\\deprecation.py:87: FutureWarning: Function plot_confusion_matrix is deprecated; Function `plot_confusion_matrix` is deprecated in 1.0 and will be removed in 1.2. Use one of the class methods: ConfusionMatrixDisplay.from_predictions or ConfusionMatrixDisplay.from_estimator.\n",
      "  warnings.warn(msg, category=FutureWarning)\n"
     ]
    },
    {
     "data": {
      "image/png": "[encoded data removed]",
      "text/plain": [
       "<Figure size 576x432 with 2 Axes>"
      ]
     },
     "metadata": {
      "needs_background": "light"
     },
     "output_type": "display_data"
    }
   ],
   "source": [
    "# Importation des bibliothèques nécessaires\n",
    "from sklearn.tree import DecisionTreeClassifier\n",
    "from imblearn.over_sampling import SMOTE\n",
    "from collections import Counter\n",
    "from sklearn.model_selection import train_test_split\n",
    "\n",
    "# Définition des caractéristiques (X) et de la cible (y)\n",
    "X = df_pd[feature_set_no_int]\n",
    "y = df_pd['readmitted']\n",
    "\n",
    "# Affichage du nombre de valeurs dans la cible d'origine\n",
    "print('Original dataset shape {}'.format(Counter(y)))\n",
    "\n",
    "# Application de la technique SMOTE pour gérer le déséquilibre de classe\n",
    "smt = SMOTE(random_state=20)\n",
    "X_resampled, y_resampled = smt.fit_resample(X, y)\n",
    "\n",
    "# Affichage du nouveau nombre de valeurs dans la cible après SMOTE\n",
    "print('New dataset shape {}'.format(Counter(y_resampled)))\n",
    "\n",
    "# Fractionnement des données en ensembles d'entraînement et de test\n",
    "X_train, X_test, y_train, y_test = train_test_split(X_resampled, y_resampled, test_size=0.20, random_state=0)\n",
    "\n",
    "# Création et entraînement du modèle d'arbre de décision\n",
    "decision_tree = DecisionTreeClassifier()\n",
    "decision_tree.fit(X_train, y_train)\n",
    "\n",
    "# Prédiction\n",
    "y_pred = decision_tree.predict(X_test)\n",
    "\n",
    "# Affichage du rapport de classification\n",
    "print(classification_report(y_test, y_pred))\n",
    "\n",
    "# Matrice de confusion\n",
    "conf_matrix = confusion_matrix(y_test, y_pred)\n",
    "print(\"Confusion Matrix:\\n\", conf_matrix)\n",
    "\n",
    "# Affichage de la matrice de confusion\n",
    "fig, ax = plt.subplots(figsize=(8, 6))\n",
    "plot_confusion_matrix(decision_tree, X_test, y_test, \n",
    "                      display_labels=['Not Readmitted', 'Readmitted'],\n",
    "                      cmap=plt.cm.Blues, \n",
    "                      ax=ax)\n",
    "plt.title('Confusion Matrix')\n",
    "plt.show()\n"
   ]
  },
  {
   "cell_type": "code",
   "execution_count": 76,
   "metadata": {},
   "outputs": [
    {
     "data": {
      "text/plain": [
       "DecisionTreeClassifier(criterion='entropy', max_depth=28, min_samples_split=10)"
      ]
     },
     "execution_count": 76,
     "metadata": {},
     "output_type": "execute_result"
    }
   ],
   "source": [
    "from sklearn.tree import DecisionTreeClassifier\n",
    "dtree = DecisionTreeClassifier(max_depth=28, criterion = \"entropy\", min_samples_split=10)\n",
    "dtree.fit(X_train, y_train)"
   ]
  },
  {
   "cell_type": "code",
   "execution_count": 77,
   "metadata": {},
   "outputs": [
    {
     "data": {
      "text/html": [
       "<div>\n",
       "<style scoped>\n",
       "    .dataframe tbody tr th:only-of-type {\n",
       "        vertical-align: middle;\n",
       "    }\n",
       "\n",
       "    .dataframe tbody tr th {\n",
       "        vertical-align: top;\n",
       "    }\n",
       "\n",
       "    .dataframe thead th {\n",
       "        text-align: right;\n",
       "    }\n",
       "</style>\n",
       "<table border=\"1\" class=\"dataframe\">\n",
       "  <thead>\n",
       "    <tr style=\"text-align: right;\">\n",
       "      <th>Predict</th>\n",
       "      <th>0</th>\n",
       "      <th>1</th>\n",
       "      <th>All</th>\n",
       "    </tr>\n",
       "    <tr>\n",
       "      <th>Actual</th>\n",
       "      <th></th>\n",
       "      <th></th>\n",
       "      <th></th>\n",
       "    </tr>\n",
       "  </thead>\n",
       "  <tbody>\n",
       "    <tr>\n",
       "      <th>0</th>\n",
       "      <td>2101</td>\n",
       "      <td>1890</td>\n",
       "      <td>3991</td>\n",
       "    </tr>\n",
       "    <tr>\n",
       "      <th>1</th>\n",
       "      <td>195</td>\n",
       "      <td>182</td>\n",
       "      <td>377</td>\n",
       "    </tr>\n",
       "    <tr>\n",
       "      <th>All</th>\n",
       "      <td>2296</td>\n",
       "      <td>2072</td>\n",
       "      <td>4368</td>\n",
       "    </tr>\n",
       "  </tbody>\n",
       "</table>\n",
       "</div>"
      ],
      "text/plain": [
       "Predict     0     1   All\n",
       "Actual                   \n",
       "0        2101  1890  3991\n",
       "1         195   182   377\n",
       "All      2296  2072  4368"
      ]
     },
     "execution_count": 77,
     "metadata": {},
     "output_type": "execute_result"
    }
   ],
   "source": [
    "dtree_pred = dtree.predict(X_test)\n",
    "pd.crosstab(pd.Series(y_test, name = 'Actual'), pd.Series(dtree_pred, name = 'Predict'), margins = True)"
   ]
  },
  {
   "cell_type": "code",
   "execution_count": 78,
   "metadata": {},
   "outputs": [
    {
     "name": "stdout",
     "output_type": "stream",
     "text": [
      "Accuracy is 0.90\n",
      "Precision is 0.92\n",
      "Recall is 0.88\n"
     ]
    }
   ],
   "source": [
    "print(\"Accuracy is {0:.2f}\".format(accuracy_score(y_test, dtree_pred)))\n",
    "print(\"Precision is {0:.2f}\".format(precision_score(y_test, dtree_pred)))\n",
    "print(\"Recall is {0:.2f}\".format(recall_score(y_test, dtree_pred)))\n",
    "\n",
    "accuracy_dtree = accuracy_score(y_test, dtree_pred)\n",
    "precision_dtree = precision_score(y_test, dtree_pred)\n",
    "recall_dtree = recall_score(y_test, dtree_pred)"
   ]
  },
  {
   "cell_type": "code",
   "execution_count": 79,
   "metadata": {},
   "outputs": [
    {
     "name": "stdout",
     "output_type": "stream",
     "text": [
      "                       Feature  Importance\n",
      "34       admission_source_id_7    0.009059\n",
      "29  discharge_disposition_id_2    0.009207\n",
      "4      number_outpatient_log1p    0.009370\n",
      "26                    gender_1    0.010708\n",
      "19                     insulin    0.011115\n",
      "7             number_diagnoses    0.052286\n",
      "3              num_medications    0.070364\n",
      "2               num_procedures    0.070691\n",
      "0                          age    0.120280\n",
      "1             time_in_hospital    0.517518\n"
     ]
    },
    {
     "data": {
      "image/png": "[encoded data removed]",
      "text/plain": [
       "<Figure size 720x432 with 1 Axes>"
      ]
     },
     "metadata": {
      "needs_background": "light"
     },
     "output_type": "display_data"
    }
   ],
   "source": [
    "# Create list of top most features based on importance\n",
    "feature_names = X_train.columns\n",
    "feature_imports = dtree.feature_importances_\n",
    "most_imp_features = pd.DataFrame([f for f in zip(feature_names,feature_imports)], columns=[\"Feature\", \"Importance\"]).nlargest(10, \"Importance\")\n",
    "most_imp_features.sort_values(by=\"Importance\", inplace=True)\n",
    "print(most_imp_features)\n",
    "plt.figure(figsize=(10,6))\n",
    "plt.barh(range(len(most_imp_features)), most_imp_features.Importance, align='center', alpha=0.8)\n",
    "plt.yticks(range(len(most_imp_features)), most_imp_features.Feature, fontsize=14)\n",
    "plt.xlabel('Importance')\n",
    "plt.title('Most important features - Decision Tree')\n",
    "plt.show()"
   ]
  },
  {
   "cell_type": "markdown",
   "metadata": {},
   "source": [
    "### Random Forest"
   ]
  },
  {
   "cell_type": "code",
   "execution_count": 85,
   "metadata": {},
   "outputs": [
    {
     "name": "stdout",
     "output_type": "stream",
     "text": [
      "Original dataset shape Counter({0: 54270, 1: 5053})\n",
      "New dataset shape Counter({0: 54270, 1: 54270})\n",
      "              precision    recall  f1-score   support\n",
      "\n",
      "           0       0.93      0.98      0.95     10871\n",
      "           1       0.98      0.92      0.95     10837\n",
      "\n",
      "    accuracy                           0.95     21708\n",
      "   macro avg       0.95      0.95      0.95     21708\n",
      "weighted avg       0.95      0.95      0.95     21708\n",
      "\n",
      "Confusion Matrix:\n",
      " [[10649   222]\n",
      " [  837 10000]]\n"
     ]
    },
    {
     "name": "stderr",
     "output_type": "stream",
     "text": [
      "C:\\Users\\allah\\anaconda3\\lib\\site-packages\\sklearn\\utils\\deprecation.py:87: FutureWarning: Function plot_confusion_matrix is deprecated; Function `plot_confusion_matrix` is deprecated in 1.0 and will be removed in 1.2. Use one of the class methods: ConfusionMatrixDisplay.from_predictions or ConfusionMatrixDisplay.from_estimator.\n",
      "  warnings.warn(msg, category=FutureWarning)\n"
     ]
    },
    {
     "data": {
      "image/png": "[encoded data removed]",
      "text/plain": [
       "<Figure size 576x432 with 2 Axes>"
      ]
     },
     "metadata": {
      "needs_background": "light"
     },
     "output_type": "display_data"
    }
   ],
   "source": [
    "# Importing necessary libraries\n",
    "from sklearn.ensemble import RandomForestClassifier\n",
    "from imblearn.over_sampling import SMOTE\n",
    "from collections import Counter\n",
    "from sklearn.model_selection import train_test_split\n",
    "\n",
    "# Defining features (X) and target (y)\n",
    "X = df_pd[feature_set_no_int]\n",
    "y = df_pd['readmitted']\n",
    "\n",
    "# Displaying the number of values in the original target\n",
    "print('Original dataset shape {}'.format(Counter(y)))\n",
    "\n",
    "# Applying SMOTE technique to handle class imbalance\n",
    "smt = SMOTE(random_state=20)\n",
    "X_resampled, y_resampled = smt.fit_resample(X, y)\n",
    "\n",
    "# Displaying the new number of values in the target after SMOTE\n",
    "print('New dataset shape {}'.format(Counter(y_resampled)))\n",
    "\n",
    "# Splitting the data into train and test sets\n",
    "X_train, X_test, y_train, y_test = train_test_split(X_resampled, y_resampled, test_size=0.20, random_state=0)\n",
    "\n",
    "# Creating and training the Random Forest model\n",
    "random_forest = RandomForestClassifier()\n",
    "random_forest.fit(X_train, y_train)\n",
    "\n",
    "# Prediction\n",
    "y_pred = random_forest.predict(X_test)\n",
    "\n",
    "# Displaying the classification report\n",
    "print(classification_report(y_test, y_pred))\n",
    "\n",
    "# Confusion matrix\n",
    "conf_matrix = confusion_matrix(y_test, y_pred)\n",
    "print(\"Confusion Matrix:\\n\", conf_matrix)\n",
    "\n",
    "# Plotting confusion matrix\n",
    "fig, ax = plt.subplots(figsize=(8, 6))\n",
    "plot_confusion_matrix(random_forest, X_test, y_test, \n",
    "                      display_labels=['Not Readmitted', 'Readmitted'],\n",
    "                      cmap=plt.cm.Blues, \n",
    "                      ax=ax)\n",
    "plt.title('Confusion Matrix')\n",
    "plt.show()\n"
   ]
  },
  {
   "cell_type": "code",
   "execution_count": 81,
   "metadata": {},
   "outputs": [
    {
     "data": {
      "text/plain": [
       "RandomForestClassifier(max_depth=25, min_samples_split=10, n_estimators=10)"
      ]
     },
     "execution_count": 81,
     "metadata": {},
     "output_type": "execute_result"
    }
   ],
   "source": [
    "from sklearn.ensemble import RandomForestClassifier\n",
    "rm = RandomForestClassifier(n_estimators = 10, max_depth=25, criterion = \"gini\", min_samples_split=10)\n",
    "rm.fit(X_train, y_train)"
   ]
  },
  {
   "cell_type": "code",
   "execution_count": 82,
   "metadata": {},
   "outputs": [
    {
     "data": {
      "text/html": [
       "<div>\n",
       "<style scoped>\n",
       "    .dataframe tbody tr th:only-of-type {\n",
       "        vertical-align: middle;\n",
       "    }\n",
       "\n",
       "    .dataframe tbody tr th {\n",
       "        vertical-align: top;\n",
       "    }\n",
       "\n",
       "    .dataframe thead th {\n",
       "        text-align: right;\n",
       "    }\n",
       "</style>\n",
       "<table border=\"1\" class=\"dataframe\">\n",
       "  <thead>\n",
       "    <tr style=\"text-align: right;\">\n",
       "      <th>Predict</th>\n",
       "      <th>0</th>\n",
       "      <th>1</th>\n",
       "      <th>All</th>\n",
       "    </tr>\n",
       "    <tr>\n",
       "      <th>Actual</th>\n",
       "      <th></th>\n",
       "      <th></th>\n",
       "      <th></th>\n",
       "    </tr>\n",
       "  </thead>\n",
       "  <tbody>\n",
       "    <tr>\n",
       "      <th>0</th>\n",
       "      <td>1985</td>\n",
       "      <td>2006</td>\n",
       "      <td>3991</td>\n",
       "    </tr>\n",
       "    <tr>\n",
       "      <th>1</th>\n",
       "      <td>183</td>\n",
       "      <td>194</td>\n",
       "      <td>377</td>\n",
       "    </tr>\n",
       "    <tr>\n",
       "      <th>All</th>\n",
       "      <td>2168</td>\n",
       "      <td>2200</td>\n",
       "      <td>4368</td>\n",
       "    </tr>\n",
       "  </tbody>\n",
       "</table>\n",
       "</div>"
      ],
      "text/plain": [
       "Predict     0     1   All\n",
       "Actual                   \n",
       "0        1985  2006  3991\n",
       "1         183   194   377\n",
       "All      2168  2200  4368"
      ]
     },
     "execution_count": 82,
     "metadata": {},
     "output_type": "execute_result"
    }
   ],
   "source": [
    "rm_prd = rm.predict(X_test)\n",
    "pd.crosstab(pd.Series(y_test, name = 'Actual'), pd.Series(rm_prd, name = 'Predict'), margins = True)"
   ]
  },
  {
   "cell_type": "code",
   "execution_count": 83,
   "metadata": {},
   "outputs": [
    {
     "name": "stdout",
     "output_type": "stream",
     "text": [
      "Accuracy is 0.90\n",
      "Precision is 0.90\n",
      "Recall is 0.90\n"
     ]
    }
   ],
   "source": [
    "print(\"Accuracy is {0:.2f}\".format(accuracy_score(y_test, rm_prd)))\n",
    "print(\"Precision is {0:.2f}\".format(precision_score(y_test, rm_prd)))\n",
    "print(\"Recall is {0:.2f}\".format(recall_score(y_test, rm_prd)))\n",
    "\n",
    "accuracy_rm = accuracy_score(y_test, rm_prd)\n",
    "precision_rm = precision_score(y_test, rm_prd)\n",
    "recall_rm = recall_score(y_test, rm_prd)"
   ]
  },
  {
   "cell_type": "code",
   "execution_count": 84,
   "metadata": {},
   "outputs": [
    {
     "data": {
      "image/png": "[encoded data removed]",
      "text/plain": [
       "<Figure size 720x432 with 1 Axes>"
      ]
     },
     "metadata": {
      "needs_background": "light"
     },
     "output_type": "display_data"
    }
   ],
   "source": [
    "# Create list of top most features based on importance\n",
    "feature_names = X_train.columns\n",
    "feature_imports = rm.feature_importances_\n",
    "most_imp_features = pd.DataFrame([f for f in zip(feature_names,feature_imports)], columns=[\"Feature\", \"Importance\"]).nlargest(10, \"Importance\")\n",
    "most_imp_features.sort_values(by=\"Importance\", inplace=True)\n",
    "plt.figure(figsize=(10,6))\n",
    "plt.barh(range(len(most_imp_features)), most_imp_features.Importance, align='center', alpha=0.8)\n",
    "plt.yticks(range(len(most_imp_features)), most_imp_features.Feature, fontsize=14)\n",
    "plt.xlabel('Importance')\n",
    "plt.title('Most important features - Random Forest ')\n",
    "plt.show()"
   ]
  },
  {
   "cell_type": "markdown",
   "metadata": {},
   "source": [
    "## S V M"
   ]
  },
  {
   "cell_type": "code",
   "execution_count": 88,
   "metadata": {},
   "outputs": [
    {
     "name": "stdout",
     "output_type": "stream",
     "text": [
      "Original dataset shape Counter({0: 54270, 1: 5053})\n",
      "New dataset shape Counter({0: 54270, 1: 54270})\n",
      "              precision    recall  f1-score   support\n",
      "\n",
      "           0       0.80      0.74      0.77     10871\n",
      "           1       0.76      0.82      0.79     10837\n",
      "\n",
      "    accuracy                           0.78     21708\n",
      "   macro avg       0.78      0.78      0.78     21708\n",
      "weighted avg       0.78      0.78      0.78     21708\n",
      "\n",
      "Confusion Matrix:\n",
      " [[8001 2870]\n",
      " [1947 8890]]\n"
     ]
    },
    {
     "name": "stderr",
     "output_type": "stream",
     "text": [
      "C:\\Users\\allah\\anaconda3\\lib\\site-packages\\sklearn\\utils\\deprecation.py:87: FutureWarning: Function plot_confusion_matrix is deprecated; Function `plot_confusion_matrix` is deprecated in 1.0 and will be removed in 1.2. Use one of the class methods: ConfusionMatrixDisplay.from_predictions or ConfusionMatrixDisplay.from_estimator.\n",
      "  warnings.warn(msg, category=FutureWarning)\n"
     ]
    },
    {
     "data": {
      "image/png": "[encoded data removed]",
      "text/plain": [
       "<Figure size 576x432 with 2 Axes>"
      ]
     },
     "metadata": {
      "needs_background": "light"
     },
     "output_type": "display_data"
    }
   ],
   "source": [
    "from sklearn.svm import SVC\n",
    "from imblearn.over_sampling import SMOTE\n",
    "from sklearn.model_selection import train_test_split\n",
    "from sklearn.preprocessing import StandardScaler\n",
    "from sklearn.metrics import classification_report, confusion_matrix\n",
    "import matplotlib.pyplot as plt\n",
    "from sklearn.metrics import plot_confusion_matrix\n",
    "\n",
    "# Defining features (X) and target (y)\n",
    "X = df_pd[feature_set_no_int]\n",
    "y = df_pd['readmitted']\n",
    "\n",
    "# Displaying the number of values in the original target\n",
    "print('Original dataset shape {}'.format(Counter(y)))\n",
    "\n",
    "# Applying SMOTE technique to handle class imbalance\n",
    "smt = SMOTE(random_state=20)\n",
    "X_resampled, y_resampled = smt.fit_resample(X, y)\n",
    "\n",
    "# Displaying the new number of values in the target after SMOTE\n",
    "print('New dataset shape {}'.format(Counter(y_resampled)))\n",
    "\n",
    "# Splitting the data into train and test sets\n",
    "X_train, X_test, y_train, y_test = train_test_split(X_resampled, y_resampled, test_size=0.20, random_state=0)\n",
    "\n",
    "# Feature scaling\n",
    "scaler = StandardScaler()\n",
    "X_train_scaled = scaler.fit_transform(X_train)\n",
    "X_test_scaled = scaler.transform(X_test)\n",
    "\n",
    "# Creating and training the SVM model\n",
    "svm_model = SVC()\n",
    "svm_model.fit(X_train_scaled, y_train)\n",
    "\n",
    "# Prediction\n",
    "y_pred = svm_model.predict(X_test_scaled)\n",
    "\n",
    "# Displaying the classification report\n",
    "print(classification_report(y_test, y_pred))\n",
    "\n",
    "# Confusion matrix\n",
    "conf_matrix = confusion_matrix(y_test, y_pred)\n",
    "print(\"Confusion Matrix:\\n\", conf_matrix)\n",
    "\n",
    "# Plotting confusion matrix\n",
    "fig, ax = plt.subplots(figsize=(8, 6))\n",
    "plot_confusion_matrix(svm_model, X_test_scaled, y_test, \n",
    "                      display_labels=['Not Readmitted', 'Readmitted'],\n",
    "                      cmap=plt.cm.Blues, \n",
    "                      ax=ax)\n",
    "plt.title('Confusion Matrix')\n",
    "plt.show()\n"
   ]
  },
  {
   "cell_type": "code",
   "execution_count": 98,
   "metadata": {},
   "outputs": [
    {
     "data": {
      "image/png": "[encoded data removed]",
      "text/plain": [
       "<Figure size 1008x504 with 1 Axes>"
      ]
     },
     "metadata": {
      "needs_background": "light"
     },
     "output_type": "display_data"
    }
   ],
   "source": [
    "plt.figure(figsize=(14, 7))\n",
    "ax = plt.subplot(111)\n",
    "\n",
    "models = ['Logistic Regression', 'Decision Tree', 'Random Forests']\n",
    "values = [accuracy_logit, accuracy_dtree, accuracy_rm]\n",
    "model = np.arange(len(models))\n",
    "\n",
    "plt.bar(model, values, align='center', width = 0.15, alpha=0.7, color = 'red', label= 'accuracy')\n",
    "plt.xticks(model, models)\n",
    "           \n",
    "\n",
    "           \n",
    "ax = plt.subplot(111)\n",
    "\n",
    "models = ['Logistic Regression', 'Decision Tree', 'Random Forests']\n",
    "values = [precision_logit, precision_dtree, precision_rm]\n",
    "model = np.arange(len(models))\n",
    "\n",
    "plt.bar(model+0.15, values, align='center', width = 0.15, alpha=0.7, color = 'blue', label = 'precision')\n",
    "plt.xticks(model, models)\n",
    "\n",
    "\n",
    "\n",
    "ax = plt.subplot(111)\n",
    "\n",
    "models = ['Logistic Regression', 'Decision Tree', 'Random Forests' ]\n",
    "values = [recall_logit, recall_dtree, recall_rm, ]\n",
    "model = np.arange(len(models))\n",
    "\n",
    "plt.bar(model+0.3, values, align='center', width = 0.15, alpha=0.7, color = 'green', label = 'recall')\n",
    "plt.xticks(model, models)\n",
    "\n",
    "\n",
    "\n",
    "plt.ylabel('Performance Metrics for Different models')\n",
    "plt.title('Model')\n",
    "    \n",
    "# removing the axis on the top and right of the plot window\n",
    "ax.spines['right'].set_visible(False)\n",
    "ax.spines['top'].set_visible(False)\n",
    "ax.legend()\n",
    "\n",
    "plt.show()           \n"
   ]
  },
  {
   "cell_type": "code",
   "execution_count": null,
   "metadata": {},
   "outputs": [],
   "source": [
    "# P C A   MODEL "
   ]
  },
  {
   "cell_type": "code",
   "execution_count": 99,
   "metadata": {},
   "outputs": [
    {
     "name": "stdout",
     "output_type": "stream",
     "text": [
      "Original dataset shape Counter({0: 54270, 1: 5053})\n",
      "New dataset shape Counter({0: 54270, 1: 54270})\n",
      "              precision    recall  f1-score   support\n",
      "\n",
      "           0       0.89      0.72      0.80     10871\n",
      "           1       0.77      0.91      0.83     10837\n",
      "\n",
      "    accuracy                           0.82     21708\n",
      "   macro avg       0.83      0.82      0.82     21708\n",
      "weighted avg       0.83      0.82      0.82     21708\n",
      "\n",
      "Confusion Matrix:\n",
      " [[7852 3019]\n",
      " [ 939 9898]]\n"
     ]
    },
    {
     "name": "stderr",
     "output_type": "stream",
     "text": [
      "C:\\Users\\allah\\anaconda3\\lib\\site-packages\\sklearn\\utils\\deprecation.py:87: FutureWarning: Function plot_confusion_matrix is deprecated; Function `plot_confusion_matrix` is deprecated in 1.0 and will be removed in 1.2. Use one of the class methods: ConfusionMatrixDisplay.from_predictions or ConfusionMatrixDisplay.from_estimator.\n",
      "  warnings.warn(msg, category=FutureWarning)\n"
     ]
    },
    {
     "data": {
      "image/png": "[encoded data removed]",
      "text/plain": [
       "<Figure size 576x432 with 2 Axes>"
      ]
     },
     "metadata": {
      "needs_background": "light"
     },
     "output_type": "display_data"
    },
    {
     "ename": "NameError",
     "evalue": "name 'y_pred_pca' is not defined",
     "output_type": "error",
     "traceback": [
      "\u001b[1;31m---------------------------------------------------------------------------\u001b[0m",
      "\u001b[1;31mNameError\u001b[0m                                 Traceback (most recent call last)",
      "Input \u001b[1;32mIn [99]\u001b[0m, in \u001b[0;36m<cell line: 59>\u001b[1;34m()\u001b[0m\n\u001b[0;32m     55\u001b[0m \u001b[38;5;28;01mfrom\u001b[39;00m \u001b[38;5;21;01msklearn\u001b[39;00m\u001b[38;5;21;01m.\u001b[39;00m\u001b[38;5;21;01mmetrics\u001b[39;00m \u001b[38;5;28;01mimport\u001b[39;00m accuracy_score\n\u001b[0;32m     57\u001b[0m \u001b[38;5;66;03m# Assuming you have trained and predicted with a PCA model and stored the predictions in y_pred_pca\u001b[39;00m\n\u001b[0;32m     58\u001b[0m \u001b[38;5;66;03m# Calculate accuracy for PCA model\u001b[39;00m\n\u001b[1;32m---> 59\u001b[0m accuracy_pca \u001b[38;5;241m=\u001b[39m accuracy_score(y_test, \u001b[43my_pred_pca\u001b[49m)\n",
      "\u001b[1;31mNameError\u001b[0m: name 'y_pred_pca' is not defined"
     ]
    }
   ],
   "source": [
    "# Importing necessary libraries\n",
    "from sklearn.decomposition import PCA\n",
    "from sklearn.preprocessing import StandardScaler\n",
    "from sklearn.pipeline import Pipeline\n",
    "from sklearn.neighbors import KNeighborsClassifier\n",
    "from imblearn.over_sampling import SMOTE\n",
    "from collections import Counter\n",
    "from sklearn.model_selection import train_test_split\n",
    "\n",
    "# Defining features (X) and target (y)\n",
    "X = df_pd[feature_set_no_int]\n",
    "y = df_pd['readmitted']\n",
    "\n",
    "# Displaying the number of values in the original target\n",
    "print('Original dataset shape {}'.format(Counter(y)))\n",
    "\n",
    "# Applying SMOTE technique to handle class imbalance\n",
    "smt = SMOTE(random_state=20)\n",
    "X_resampled, y_resampled = smt.fit_resample(X, y)\n",
    "\n",
    "# Displaying the new number of values in the target after SMOTE\n",
    "print('New dataset shape {}'.format(Counter(y_resampled)))\n",
    "\n",
    "# Splitting the data into train and test sets\n",
    "X_train, X_test, y_train, y_test = train_test_split(X_resampled, y_resampled, test_size=0.20, random_state=0)\n",
    "\n",
    "# Creating a pipeline with PCA and KNN\n",
    "pipeline = Pipeline([\n",
    "    ('scaler', StandardScaler()),\n",
    "    ('pca', PCA(n_components=0.95)),  # Choose the number of principal components to explain 95% of the variance\n",
    "    ('knn', KNeighborsClassifier())\n",
    "])\n",
    "\n",
    "# Training the model\n",
    "pipeline.fit(X_train, y_train)\n",
    "\n",
    "# Prediction\n",
    "y_pred = pipeline.predict(X_test)\n",
    "\n",
    "# Displaying the classification report\n",
    "print(classification_report(y_test, y_pred))\n",
    "\n",
    "# Confusion matrix\n",
    "conf_matrix = confusion_matrix(y_test, y_pred)\n",
    "print(\"Confusion Matrix:\\n\", conf_matrix)\n",
    "\n",
    "# Plotting confusion matrix\n",
    "fig, ax = plt.subplots(figsize=(8, 6))\n",
    "plot_confusion_matrix(pipeline, X_test, y_test, \n",
    "                      display_labels=['Not Readmitted', 'Readmitted'],\n",
    "                      cmap=plt.cm.Blues, \n",
    "                      ax=ax)\n",
    "plt.title('Confusion Matrix')\n",
    "plt.show()\n",
    "from sklearn.metrics import accuracy_score\n",
    "\n",
    "# Assuming you have trained and predicted with a PCA model and stored the predictions in y_pred_pca\n",
    "# Calculate accuracy for PCA model\n",
    "accuracy_pca = accuracy_score(y_test, y_pred_pca)\n"
   ]
  },
  {
   "cell_type": "code",
   "execution_count": 107,
   "metadata": {},
   "outputs": [],
   "source": [
    "#K N N  MODEL\n",
    "\n",
    "from sklearn.metrics import accuracy_score\n",
    "\n",
    "# ... previous code for SVM model training and prediction ...\n",
    "\n",
    "# Calculate accuracy for SVM model\n",
    "accuracy_svm = accuracy_score(y_test, y_pred)\n",
    "precision_svm = precision_score(y_test, y_pred)\n",
    "\n",
    "\n",
    "# Assuming you have trained and predicted with a PCA model and stored the predictions in y_pred_pca\n",
    "# Calculate accuracy for PCA model\n",
    "# Assuming you have trained and predicted with a PCA model and stored the predictions in y_pred_pca\n",
    "# Calculate accuracy for PCA model\n",
    "accuracy_pca = accuracy_score(y_test, y_pred)\n",
    "precision_pca = precision_score(y_test, y_pred)\n"
   ]
  },
  {
   "cell_type": "code",
   "execution_count": 103,
   "metadata": {},
   "outputs": [
    {
     "name": "stdout",
     "output_type": "stream",
     "text": [
      "Original dataset shape Counter({0: 54270, 1: 5053})\n",
      "New dataset shape Counter({0: 54270, 1: 54270})\n",
      "              precision    recall  f1-score   support\n",
      "\n",
      "           0       0.97      0.59      0.73     10871\n",
      "           1       0.70      0.98      0.82     10837\n",
      "\n",
      "    accuracy                           0.78     21708\n",
      "   macro avg       0.83      0.78      0.77     21708\n",
      "weighted avg       0.83      0.78      0.77     21708\n",
      "\n",
      "Confusion Matrix:\n",
      " [[ 6374  4497]\n",
      " [  220 10617]]\n"
     ]
    },
    {
     "name": "stderr",
     "output_type": "stream",
     "text": [
      "C:\\Users\\allah\\anaconda3\\lib\\site-packages\\sklearn\\utils\\deprecation.py:87: FutureWarning: Function plot_confusion_matrix is deprecated; Function `plot_confusion_matrix` is deprecated in 1.0 and will be removed in 1.2. Use one of the class methods: ConfusionMatrixDisplay.from_predictions or ConfusionMatrixDisplay.from_estimator.\n",
      "  warnings.warn(msg, category=FutureWarning)\n"
     ]
    },
    {
     "data": {
      "image/png": "[encoded data removed]",
      "text/plain": [
       "<Figure size 576x432 with 2 Axes>"
      ]
     },
     "metadata": {
      "needs_background": "light"
     },
     "output_type": "display_data"
    }
   ],
   "source": [
    "# Importing necessary libraries\n",
    "from sklearn.neighbors import KNeighborsClassifier\n",
    "from imblearn.over_sampling import SMOTE\n",
    "from collections import Counter\n",
    "from sklearn.model_selection import train_test_split\n",
    "\n",
    "# Defining features (X) and target (y)\n",
    "X = df_pd[feature_set_no_int]\n",
    "y = df_pd['readmitted']\n",
    "\n",
    "# Displaying the number of values in the original target\n",
    "print('Original dataset shape {}'.format(Counter(y)))\n",
    "\n",
    "# Applying SMOTE technique to handle class imbalance\n",
    "smt = SMOTE(random_state=20)\n",
    "X_resampled, y_resampled = smt.fit_resample(X, y)\n",
    "\n",
    "# Displaying the new number of values in the target after SMOTE\n",
    "print('New dataset shape {}'.format(Counter(y_resampled)))\n",
    "\n",
    "# Splitting the data into train and test sets\n",
    "X_train, X_test, y_train, y_test = train_test_split(X_resampled, y_resampled, test_size=0.20, random_state=0)\n",
    "# Creating and training the K-Nearest Neighbors (KNN) model\n",
    "knn_model = KNeighborsClassifier()\n",
    "knn_model.fit(X_train, y_train)\n",
    "\n",
    "# Prediction\n",
    "y_pred = knn_model.predict(X_test)\n",
    "\n",
    "# Displaying the classification report\n",
    "print(classification_report(y_test, y_pred))\n",
    "\n",
    "# Confusion matrix\n",
    "conf_matrix = confusion_matrix(y_test, y_pred)\n",
    "print(\"Confusion Matrix:\\n\", conf_matrix)\n",
    "\n",
    "# Plotting confusion matrix\n",
    "fig, ax = plt.subplots(figsize=(8, 6))\n",
    "plot_confusion_matrix(knn_model, X_test, y_test, \n",
    "                      display_labels=['Not Readmitted', 'Readmitted'],\n",
    "                      cmap=plt.cm.Blues, \n",
    "                      ax=ax)\n",
    "plt.title('Confusion Matrix')\n",
    "plt.show()\n",
    "\n",
    "from sklearn.metrics import accuracy_score\n",
    "\n",
    "# ... previous code for KNN model training and prediction ...\n",
    "\n",
    "# Calculate accuracy for KNN model\n",
    "accuracy_knn = accuracy_score(y_test, y_pred)\n",
    "precision_knn = precision_score(y_test, y_pred)"
   ]
  },
  {
   "cell_type": "code",
   "execution_count": 108,
   "metadata": {},
   "outputs": [
    {
     "ename": "NameError",
     "evalue": "name 'recall_knn' is not defined",
     "output_type": "error",
     "traceback": [
      "\u001b[1;31m---------------------------------------------------------------------------\u001b[0m",
      "\u001b[1;31mNameError\u001b[0m                                 Traceback (most recent call last)",
      "Input \u001b[1;32mIn [108]\u001b[0m, in \u001b[0;36m<cell line: 28>\u001b[1;34m()\u001b[0m\n\u001b[0;32m     26\u001b[0m new_precision_values \u001b[38;5;241m=\u001b[39m [precision_knn, precision_svm, precision_pca]\n\u001b[0;32m     27\u001b[0m \u001b[38;5;66;03m# Recall values for new models (replace with actual values)\u001b[39;00m\n\u001b[1;32m---> 28\u001b[0m new_recall_values \u001b[38;5;241m=\u001b[39m [\u001b[43mrecall_knn\u001b[49m, recall_svm, recall_pca]\n\u001b[0;32m     30\u001b[0m \u001b[38;5;66;03m# Plotting accuracy for new models\u001b[39;00m\n\u001b[0;32m     31\u001b[0m plt\u001b[38;5;241m.\u001b[39mbar(model \u001b[38;5;241m+\u001b[39m \u001b[38;5;241m0.6\u001b[39m, new_accuracy_values, align\u001b[38;5;241m=\u001b[39m\u001b[38;5;124m'\u001b[39m\u001b[38;5;124mcenter\u001b[39m\u001b[38;5;124m'\u001b[39m, width\u001b[38;5;241m=\u001b[39m\u001b[38;5;241m0.15\u001b[39m, alpha\u001b[38;5;241m=\u001b[39m\u001b[38;5;241m0.7\u001b[39m, color\u001b[38;5;241m=\u001b[39m\u001b[38;5;124m'\u001b[39m\u001b[38;5;124morange\u001b[39m\u001b[38;5;124m'\u001b[39m, label\u001b[38;5;241m=\u001b[39m\u001b[38;5;124m'\u001b[39m\u001b[38;5;124mAccuracy (New)\u001b[39m\u001b[38;5;124m'\u001b[39m)\n",
      "\u001b[1;31mNameError\u001b[0m: name 'recall_knn' is not defined"
     ]
    },
    {
     "data": {
      "image/png": "[encoded data removed]",
      "text/plain": [
       "<Figure size 1008x504 with 1 Axes>"
      ]
     },
     "metadata": {
      "needs_background": "light"
     },
     "output_type": "display_data"
    }
   ],
   "source": [
    "plt.figure(figsize=(14, 7))\n",
    "ax = plt.subplot(111)\n",
    "\n",
    "# Existing models\n",
    "existing_models = ['Logistic Regression', 'Decision Tree', 'Random Forests']\n",
    "# Accuracy values for existing models\n",
    "accuracy_values = [accuracy_logit, accuracy_dtree, accuracy_rm]\n",
    "# Precision values for existing models\n",
    "precision_values = [precision_logit, precision_dtree, precision_rm]\n",
    "# Recall values for existing models\n",
    "recall_values = [recall_logit, recall_dtree, recall_rm]\n",
    "model = np.arange(len(existing_models))\n",
    "\n",
    "# Plotting accuracy for existing models\n",
    "plt.bar(model, accuracy_values, align='center', width=0.15, alpha=0.7, color='red', label='Accuracy')\n",
    "# Plotting precision for existing models\n",
    "plt.bar(model + 0.15, precision_values, align='center', width=0.15, alpha=0.7, color='blue', label='Precision')\n",
    "# Plotting recall for existing models\n",
    "plt.bar(model + 0.3, recall_values, align='center', width=0.15, alpha=0.7, color='green', label='Recall')\n",
    "\n",
    "# New models\n",
    "new_models = ['KNN', 'SVM', 'PCA']\n",
    "# Accuracy values for new models (replace with actual values)\n",
    "new_accuracy_values = [accuracy_knn, accuracy_svm, accuracy_pca]\n",
    "# Precision values for new models (replace with actual values)\n",
    "new_precision_values = [precision_knn, precision_svm, precision_pca]\n",
    "# Recall values for new models (replace with actual values)\n",
    "new_recall_values = [recall_knn, recall_svm, recall_pca]\n",
    "\n",
    "# Plotting accuracy for new models\n",
    "plt.bar(model + 0.6, new_accuracy_values, align='center', width=0.15, alpha=0.7, color='orange', label='Accuracy (New)')\n",
    "# Plotting precision for new models\n",
    "plt.bar(model + 0.75, new_precision_values, align='center', width=0.15, alpha=0.7, color='purple', label='Precision (New)')\n",
    "# Plotting recall for new models\n",
    "plt.bar(model + 0.9, new_recall_values, align='center', width=0.15, alpha=0.7, color='pink', label='Recall (New)')\n",
    "\n",
    "plt.xticks(model + 0.45, existing_models + new_models)\n",
    "plt.ylabel('Performance Metrics for Different Models')\n",
    "plt.title('Model')\n",
    "\n",
    "# Removing the axis on the top and right of the plot window\n",
    "ax.spines['right'].set_visible(False)\n",
    "ax.spines['top'].set_visible(False)\n",
    "ax.legend()\n",
    "\n",
    "plt.show()"
   ]
  }
 ],
 "metadata": {
  "kernelspec": {
   "display_name": "Python 3 (ipykernel)",
   "language": "python",
   "name": "python3"
  },
  "language_info": {
   "codemirror_mode": {
    "name": "ipython",
    "version": 3
   },
   "file_extension": ".py",
   "mimetype": "text/x-python",
   "name": "python",
   "nbconvert_exporter": "python",
   "pygments_lexer": "ipython3",
   "version": "3.9.12"
  }
 },
 "nbformat": 4,
 "nbformat_minor": 1
}
